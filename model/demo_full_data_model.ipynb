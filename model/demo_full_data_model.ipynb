{
 "cells": [
  {
   "cell_type": "code",
   "execution_count": 1,
   "metadata": {},
   "outputs": [],
   "source": [
    "import matplotlib.pyplot as plt\n",
    "import numpy as np\n",
    "from sklearn.metrics import confusion_matrix\n",
    "np.set_printoptions(suppress=True)\n",
    "import deepl_model\n",
    "import seaborn as sns\n",
    "import pandas as pd\n",
    "import matplotlib as mpl\n",
    "mpl.rcParams['font.size'] = 17.0\n",
    "from tensorflow import lite"
   ]
  },
  {
   "cell_type": "markdown",
   "metadata": {},
   "source": [
    "## Load Data"
   ]
  },
  {
   "cell_type": "code",
   "execution_count": 2,
   "metadata": {},
   "outputs": [],
   "source": [
    "import deepl_data_preproc"
   ]
  },
  {
   "cell_type": "code",
   "execution_count": 3,
   "metadata": {},
   "outputs": [],
   "source": [
    "CSV_DATA_PATH = \"../data/downloaded_data/data.csv\""
   ]
  },
  {
   "cell_type": "code",
   "execution_count": 4,
   "metadata": {},
   "outputs": [
    {
     "name": "stdout",
     "output_type": "stream",
     "text": [
      "Splitting X and y of shapes (994000, 6) and (994000, 4)\n",
      "============== Data Info. ==============\n",
      "=> Read CSV with 994000 entries\n",
      "=> Input/X data has shape  (4970, 200, 6)\n",
      "=> Output/y data has shape  (4970, 4)\n",
      "=========================================\n"
     ]
    }
   ],
   "source": [
    "X, y = deepl_data_preproc.read_full_data_n_preproc(data_csv_path=CSV_DATA_PATH, verbose=True )"
   ]
  },
  {
   "cell_type": "markdown",
   "metadata": {},
   "source": [
    "## Use the Deep Learning Model"
   ]
  },
  {
   "cell_type": "code",
   "execution_count": 5,
   "metadata": {},
   "outputs": [],
   "source": [
    "import deepl_model"
   ]
  },
  {
   "cell_type": "code",
   "execution_count": 6,
   "metadata": {},
   "outputs": [
    {
     "name": "stdout",
     "output_type": "stream",
     "text": [
      "Model: \"model\"\n",
      "_________________________________________________________________\n",
      "Layer (type)                 Output Shape              Param #   \n",
      "=================================================================\n",
      "Input-Layer (InputLayer)     [(None, 200, 6, 1)]       0         \n",
      "_________________________________________________________________\n",
      "flatten (Flatten)            (None, 1200)              0         \n",
      "_________________________________________________________________\n",
      "dense (Dense)                (None, 1024)              1229824   \n",
      "_________________________________________________________________\n",
      "dropout (Dropout)            (None, 1024)              0         \n",
      "_________________________________________________________________\n",
      "dense_1 (Dense)              (None, 512)               524800    \n",
      "_________________________________________________________________\n",
      "dropout_1 (Dropout)          (None, 512)               0         \n",
      "_________________________________________________________________\n",
      "dense_2 (Dense)              (None, 64)                32832     \n",
      "_________________________________________________________________\n",
      "dropout_2 (Dropout)          (None, 64)                0         \n",
      "_________________________________________________________________\n",
      "Output-Layer (Dense)         (None, 4)                 260       \n",
      "=================================================================\n",
      "Total params: 1,787,716\n",
      "Trainable params: 1,787,716\n",
      "Non-trainable params: 0\n",
      "_________________________________________________________________\n"
     ]
    }
   ],
   "source": [
    "model = deepl_model.DLModel(model_name=\"DeploymentModel\")\n",
    "model.model.summary()"
   ]
  },
  {
   "cell_type": "markdown",
   "metadata": {},
   "source": [
    "### Fitting the training data"
   ]
  },
  {
   "cell_type": "code",
   "execution_count": 7,
   "metadata": {},
   "outputs": [
    {
     "name": "stdout",
     "output_type": "stream",
     "text": [
      "Epoch 1/60\n",
      "311/311 [==============================] - 4s 8ms/step - loss: 0.6686 - accuracy: 0.7326\n",
      "Epoch 2/60\n",
      "311/311 [==============================] - 2s 7ms/step - loss: 0.3991 - accuracy: 0.8608\n",
      "Epoch 3/60\n",
      "311/311 [==============================] - 3s 8ms/step - loss: 0.3178 - accuracy: 0.8905\n",
      "Epoch 4/60\n",
      "311/311 [==============================] - 3s 8ms/step - loss: 0.2878 - accuracy: 0.9004\n",
      "Epoch 5/60\n",
      "311/311 [==============================] - 3s 9ms/step - loss: 0.2465 - accuracy: 0.9119\n",
      "Epoch 6/60\n",
      "311/311 [==============================] - 3s 9ms/step - loss: 0.2347 - accuracy: 0.9223\n",
      "Epoch 7/60\n",
      "311/311 [==============================] - 2s 8ms/step - loss: 0.2228 - accuracy: 0.9227\n",
      "Epoch 8/60\n",
      "311/311 [==============================] - 3s 8ms/step - loss: 0.2101 - accuracy: 0.9328\n",
      "Epoch 9/60\n",
      "311/311 [==============================] - 3s 11ms/step - loss: 0.1863 - accuracy: 0.9382\n",
      "Epoch 10/60\n",
      "311/311 [==============================] - 3s 10ms/step - loss: 0.1880 - accuracy: 0.9362\n",
      "Epoch 11/60\n",
      "311/311 [==============================] - 3s 11ms/step - loss: 0.1732 - accuracy: 0.9410\n",
      "Epoch 12/60\n",
      "311/311 [==============================] - 3s 9ms/step - loss: 0.1633 - accuracy: 0.9455\n",
      "Epoch 13/60\n",
      "311/311 [==============================] - 3s 9ms/step - loss: 0.1662 - accuracy: 0.9437\n",
      "Epoch 14/60\n",
      "311/311 [==============================] - 3s 10ms/step - loss: 0.1502 - accuracy: 0.9485\n",
      "Epoch 15/60\n",
      "311/311 [==============================] - 3s 8ms/step - loss: 0.1631 - accuracy: 0.9489\n",
      "Epoch 16/60\n",
      "311/311 [==============================] - 3s 8ms/step - loss: 0.1580 - accuracy: 0.9451\n",
      "Epoch 17/60\n",
      "311/311 [==============================] - 3s 9ms/step - loss: 0.1437 - accuracy: 0.9493\n",
      "Epoch 18/60\n",
      "311/311 [==============================] - 3s 9ms/step - loss: 0.1538 - accuracy: 0.9543\n",
      "Epoch 19/60\n",
      "311/311 [==============================] - 3s 10ms/step - loss: 0.1458 - accuracy: 0.9511\n",
      "Epoch 20/60\n",
      "311/311 [==============================] - 3s 9ms/step - loss: 0.1204 - accuracy: 0.9618\n",
      "Epoch 21/60\n",
      "311/311 [==============================] - 3s 8ms/step - loss: 0.1247 - accuracy: 0.9575\n",
      "Epoch 22/60\n",
      "311/311 [==============================] - 3s 9ms/step - loss: 0.1202 - accuracy: 0.9598\n",
      "Epoch 23/60\n",
      "311/311 [==============================] - 3s 10ms/step - loss: 0.1230 - accuracy: 0.9584\n",
      "Epoch 24/60\n",
      "311/311 [==============================] - 3s 11ms/step - loss: 0.1193 - accuracy: 0.9624\n",
      "Epoch 25/60\n",
      "311/311 [==============================] - 3s 10ms/step - loss: 0.1148 - accuracy: 0.9650\n",
      "Epoch 26/60\n",
      "311/311 [==============================] - 3s 10ms/step - loss: 0.1329 - accuracy: 0.9581\n",
      "Epoch 27/60\n",
      "311/311 [==============================] - 4s 12ms/step - loss: 0.1249 - accuracy: 0.9561\n",
      "Epoch 28/60\n",
      "311/311 [==============================] - 3s 11ms/step - loss: 0.1079 - accuracy: 0.9650\n",
      "Epoch 29/60\n",
      "311/311 [==============================] - 3s 8ms/step - loss: 0.1128 - accuracy: 0.9630\n",
      "Epoch 30/60\n",
      "311/311 [==============================] - 3s 9ms/step - loss: 0.1153 - accuracy: 0.9630\n",
      "Epoch 31/60\n",
      "311/311 [==============================] - 3s 8ms/step - loss: 0.1168 - accuracy: 0.9610\n",
      "Epoch 32/60\n",
      "311/311 [==============================] - 3s 9ms/step - loss: 0.1017 - accuracy: 0.9668\n",
      "Epoch 33/60\n",
      "311/311 [==============================] - 3s 9ms/step - loss: 0.1032 - accuracy: 0.9698\n",
      "Epoch 34/60\n",
      "311/311 [==============================] - 3s 8ms/step - loss: 0.1034 - accuracy: 0.9672\n",
      "Epoch 35/60\n",
      "311/311 [==============================] - 3s 8ms/step - loss: 0.1026 - accuracy: 0.9656\n",
      "Epoch 36/60\n",
      "311/311 [==============================] - 2s 8ms/step - loss: 0.0950 - accuracy: 0.9676\n",
      "Epoch 37/60\n",
      "311/311 [==============================] - 2s 8ms/step - loss: 0.0869 - accuracy: 0.9730\n",
      "Epoch 38/60\n",
      "311/311 [==============================] - 2s 8ms/step - loss: 0.0970 - accuracy: 0.9684\n",
      "Epoch 39/60\n",
      "311/311 [==============================] - 3s 8ms/step - loss: 0.0980 - accuracy: 0.9656\n",
      "Epoch 40/60\n",
      "311/311 [==============================] - 2s 8ms/step - loss: 0.0914 - accuracy: 0.9680\n",
      "Epoch 41/60\n",
      "311/311 [==============================] - 2s 8ms/step - loss: 0.0867 - accuracy: 0.9732\n",
      "Epoch 42/60\n",
      "311/311 [==============================] - 3s 9ms/step - loss: 0.0763 - accuracy: 0.9740\n",
      "Epoch 43/60\n",
      "311/311 [==============================] - 3s 9ms/step - loss: 0.0925 - accuracy: 0.9720\n",
      "Epoch 44/60\n",
      "311/311 [==============================] - 3s 9ms/step - loss: 0.0930 - accuracy: 0.9678\n",
      "Epoch 45/60\n",
      "311/311 [==============================] - 3s 9ms/step - loss: 0.0841 - accuracy: 0.9724\n",
      "Epoch 46/60\n",
      "311/311 [==============================] - 3s 9ms/step - loss: 0.0919 - accuracy: 0.9734\n",
      "Epoch 47/60\n",
      "311/311 [==============================] - 3s 9ms/step - loss: 0.0820 - accuracy: 0.9746\n",
      "Epoch 48/60\n",
      "311/311 [==============================] - 3s 9ms/step - loss: 0.0798 - accuracy: 0.9738\n",
      "Epoch 49/60\n",
      "311/311 [==============================] - 3s 9ms/step - loss: 0.0770 - accuracy: 0.9755\n",
      "Epoch 50/60\n",
      "311/311 [==============================] - 3s 9ms/step - loss: 0.0774 - accuracy: 0.9718\n",
      "\n",
      "Epoch 00050: ReduceLROnPlateau reducing learning rate to 0.0003000000142492354.\n",
      "Epoch 51/60\n",
      "311/311 [==============================] - 3s 9ms/step - loss: 0.0676 - accuracy: 0.9797\n",
      "Epoch 52/60\n",
      "311/311 [==============================] - 3s 10ms/step - loss: 0.0534 - accuracy: 0.9873\n",
      "Epoch 53/60\n",
      "311/311 [==============================] - 3s 10ms/step - loss: 0.0461 - accuracy: 0.9859\n",
      "Epoch 54/60\n",
      "311/311 [==============================] - 3s 10ms/step - loss: 0.0461 - accuracy: 0.9855\n",
      "Epoch 55/60\n",
      "311/311 [==============================] - 3s 9ms/step - loss: 0.0400 - accuracy: 0.9869\n",
      "Epoch 56/60\n",
      "311/311 [==============================] - 3s 10ms/step - loss: 0.0466 - accuracy: 0.9845\n",
      "Epoch 57/60\n",
      "311/311 [==============================] - 3s 9ms/step - loss: 0.0434 - accuracy: 0.9883\n",
      "Epoch 58/60\n",
      "311/311 [==============================] - 3s 9ms/step - loss: 0.0394 - accuracy: 0.9875\n",
      "Epoch 59/60\n",
      "311/311 [==============================] - 3s 9ms/step - loss: 0.0398 - accuracy: 0.9877\n",
      "Epoch 60/60\n",
      "311/311 [==============================] - 3s 9ms/step - loss: 0.0455 - accuracy: 0.9847\n"
     ]
    }
   ],
   "source": [
    "model.train_full_data(X, y, epochs=60, batch_size=16)"
   ]
  },
  {
   "cell_type": "code",
   "execution_count": 8,
   "metadata": {},
   "outputs": [
    {
     "data": {
      "image/png": "[encoded data removed]",
      "text/plain": [
       "<Figure size 432x288 with 1 Axes>"
      ]
     },
     "metadata": {
      "needs_background": "light"
     },
     "output_type": "display_data"
    },
    {
     "data": {
      "image/png": "[encoded data removed]",
      "text/plain": [
       "<Figure size 432x288 with 1 Axes>"
      ]
     },
     "metadata": {
      "needs_background": "light"
     },
     "output_type": "display_data"
    }
   ],
   "source": [
    "model.plot_full_training_history()\n",
    "model.save()"
   ]
  },
  {
   "cell_type": "markdown",
   "metadata": {},
   "source": [
    "## Convert keras model to Tensorlite"
   ]
  },
  {
   "cell_type": "code",
   "execution_count": 9,
   "metadata": {},
   "outputs": [
    {
     "name": "stderr",
     "output_type": "stream",
     "text": [
      "WARNING:absl:Function `_wrapped_model` contains input name(s) Input-Layer with unsupported characters which will be renamed to input_layer in the SavedModel.\n"
     ]
    },
    {
     "name": "stdout",
     "output_type": "stream",
     "text": [
      "INFO:tensorflow:Assets written to: C:\\Users\\badns\\AppData\\Local\\Temp\\tmpdkpeqhhq\\assets\n"
     ]
    },
    {
     "name": "stderr",
     "output_type": "stream",
     "text": [
      "INFO:tensorflow:Assets written to: C:\\Users\\badns\\AppData\\Local\\Temp\\tmpdkpeqhhq\\assets\n"
     ]
    },
    {
     "data": {
      "text/plain": [
       "7153240"
      ]
     },
     "execution_count": 9,
     "metadata": {},
     "output_type": "execute_result"
    }
   ],
   "source": [
    "keras_file_path = model.model_save_path\n",
    "\n",
    "converter = lite.TFLiteConverter.from_keras_model(model.model)\n",
    "tflite_model = converter.convert()\n",
    "\n",
    "open(f\"{model.model_name}.tflite\", \"wb\").write(tflite_model)"
   ]
  },
  {
   "cell_type": "code",
   "execution_count": null,
   "metadata": {},
   "outputs": [],
   "source": []
  }
 ],
 "metadata": {
  "interpreter": {
   "hash": "ca2864e06efd05cb3ea7c56dc44f235c3621b5bb7c6ad3cd0b10871882970336"
  },
  "kernelspec": {
   "display_name": "Python 3.9.12 ('deeplearning_v2')",
   "language": "python",
   "name": "python3"
  },
  "language_info": {
   "codemirror_mode": {
    "name": "ipython",
    "version": 3
   },
   "file_extension": ".py",
   "mimetype": "text/x-python",
   "name": "python",
   "nbconvert_exporter": "python",
   "pygments_lexer": "ipython3",
   "version": "3.9.12"
  },
  "orig_nbformat": 4
 },
 "nbformat": 4,
 "nbformat_minor": 2
}
