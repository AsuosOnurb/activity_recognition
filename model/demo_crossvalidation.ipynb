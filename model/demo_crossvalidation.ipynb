{
 "cells": [
  {
   "cell_type": "code",
   "execution_count": 1,
   "metadata": {},
   "outputs": [],
   "source": [
    "import deepl_data_preproc\n",
    "import deepl_model\n",
    "import random\n",
    "\n",
    "from statistics import mean\n",
    "from pprint import pprint\n"
   ]
  },
  {
   "cell_type": "code",
   "execution_count": 2,
   "metadata": {},
   "outputs": [],
   "source": [
    "CSV_PATH = \"../data/downloaded_data/data.csv\"\n"
   ]
  },
  {
   "cell_type": "code",
   "execution_count": 3,
   "metadata": {},
   "outputs": [
    {
     "name": "stdout",
     "output_type": "stream",
     "text": [
      "Iteration 0\n",
      "Splitting X and y of shapes (974000, 6) and (974000, 4)\n",
      "Training model DLModel_CV_CNN_VS01_ITER0\n",
      "Epoch 1/300\n",
      "986/986 [==============================] - 7s 6ms/step - loss: 0.7800 - accuracy: 0.6853 - val_loss: 0.4510 - val_accuracy: 0.8474\n",
      "\n",
      "Epoch 00001: val_loss improved from inf to 0.45099, saving model to saved_models\\DLModel_CV_CNN_VS01_ITER0\n"
     ]
    },
    {
     "name": "stderr",
     "output_type": "stream",
     "text": [
      "WARNING:absl:Function `_wrapped_model` contains input name(s) Input-Layer with unsupported characters which will be renamed to input_layer in the SavedModel.\n"
     ]
    },
    {
     "name": "stdout",
     "output_type": "stream",
     "text": [
      "INFO:tensorflow:Assets written to: saved_models\\DLModel_CV_CNN_VS01_ITER0\\assets\n"
     ]
    },
    {
     "name": "stderr",
     "output_type": "stream",
     "text": [
      "INFO:tensorflow:Assets written to: saved_models\\DLModel_CV_CNN_VS01_ITER0\\assets\n"
     ]
    },
    {
     "name": "stdout",
     "output_type": "stream",
     "text": [
      "Epoch 2/300\n",
      "986/986 [==============================] - 8s 8ms/step - loss: 0.4729 - accuracy: 0.8433 - val_loss: 0.2669 - val_accuracy: 0.8998\n",
      "\n",
      "Epoch 00002: val_loss improved from 0.45099 to 0.26686, saving model to saved_models\\DLModel_CV_CNN_VS01_ITER0\n"
     ]
    },
    {
     "name": "stderr",
     "output_type": "stream",
     "text": [
      "WARNING:absl:Function `_wrapped_model` contains input name(s) Input-Layer with unsupported characters which will be renamed to input_layer in the SavedModel.\n"
     ]
    },
    {
     "name": "stdout",
     "output_type": "stream",
     "text": [
      "INFO:tensorflow:Assets written to: saved_models\\DLModel_CV_CNN_VS01_ITER0\\assets\n"
     ]
    },
    {
     "name": "stderr",
     "output_type": "stream",
     "text": [
      "INFO:tensorflow:Assets written to: saved_models\\DLModel_CV_CNN_VS01_ITER0\\assets\n"
     ]
    },
    {
     "name": "stdout",
     "output_type": "stream",
     "text": [
      "Epoch 3/300\n",
      "986/986 [==============================] - 6s 6ms/step - loss: 0.3730 - accuracy: 0.8747 - val_loss: 0.2284 - val_accuracy: 0.9180\n",
      "\n",
      "Epoch 00003: val_loss improved from 0.26686 to 0.22839, saving model to saved_models\\DLModel_CV_CNN_VS01_ITER0\n"
     ]
    },
    {
     "name": "stderr",
     "output_type": "stream",
     "text": [
      "WARNING:absl:Function `_wrapped_model` contains input name(s) Input-Layer with unsupported characters which will be renamed to input_layer in the SavedModel.\n"
     ]
    },
    {
     "name": "stdout",
     "output_type": "stream",
     "text": [
      "INFO:tensorflow:Assets written to: saved_models\\DLModel_CV_CNN_VS01_ITER0\\assets\n"
     ]
    },
    {
     "name": "stderr",
     "output_type": "stream",
     "text": [
      "INFO:tensorflow:Assets written to: saved_models\\DLModel_CV_CNN_VS01_ITER0\\assets\n"
     ]
    },
    {
     "name": "stdout",
     "output_type": "stream",
     "text": [
      "Epoch 4/300\n",
      "986/986 [==============================] - 6s 6ms/step - loss: 0.3438 - accuracy: 0.8836 - val_loss: 0.1921 - val_accuracy: 0.9271\n",
      "\n",
      "Epoch 00004: val_loss improved from 0.22839 to 0.19206, saving model to saved_models\\DLModel_CV_CNN_VS01_ITER0\n"
     ]
    },
    {
     "name": "stderr",
     "output_type": "stream",
     "text": [
      "WARNING:absl:Function `_wrapped_model` contains input name(s) Input-Layer with unsupported characters which will be renamed to input_layer in the SavedModel.\n"
     ]
    },
    {
     "name": "stdout",
     "output_type": "stream",
     "text": [
      "INFO:tensorflow:Assets written to: saved_models\\DLModel_CV_CNN_VS01_ITER0\\assets\n"
     ]
    },
    {
     "name": "stderr",
     "output_type": "stream",
     "text": [
      "INFO:tensorflow:Assets written to: saved_models\\DLModel_CV_CNN_VS01_ITER0\\assets\n"
     ]
    },
    {
     "name": "stdout",
     "output_type": "stream",
     "text": [
      "Epoch 5/300\n",
      "986/986 [==============================] - 6s 6ms/step - loss: 0.3103 - accuracy: 0.8938 - val_loss: 0.1853 - val_accuracy: 0.9339\n",
      "\n",
      "Epoch 00005: val_loss improved from 0.19206 to 0.18533, saving model to saved_models\\DLModel_CV_CNN_VS01_ITER0\n"
     ]
    },
    {
     "name": "stderr",
     "output_type": "stream",
     "text": [
      "WARNING:absl:Function `_wrapped_model` contains input name(s) Input-Layer with unsupported characters which will be renamed to input_layer in the SavedModel.\n"
     ]
    },
    {
     "name": "stdout",
     "output_type": "stream",
     "text": [
      "INFO:tensorflow:Assets written to: saved_models\\DLModel_CV_CNN_VS01_ITER0\\assets\n"
     ]
    },
    {
     "name": "stderr",
     "output_type": "stream",
     "text": [
      "INFO:tensorflow:Assets written to: saved_models\\DLModel_CV_CNN_VS01_ITER0\\assets\n"
     ]
    },
    {
     "name": "stdout",
     "output_type": "stream",
     "text": [
      "Epoch 6/300\n",
      "986/986 [==============================] - 6s 6ms/step - loss: 0.3011 - accuracy: 0.8922 - val_loss: 0.1598 - val_accuracy: 0.9408\n",
      "\n",
      "Epoch 00006: val_loss improved from 0.18533 to 0.15985, saving model to saved_models\\DLModel_CV_CNN_VS01_ITER0\n"
     ]
    },
    {
     "name": "stderr",
     "output_type": "stream",
     "text": [
      "WARNING:absl:Function `_wrapped_model` contains input name(s) Input-Layer with unsupported characters which will be renamed to input_layer in the SavedModel.\n"
     ]
    },
    {
     "name": "stdout",
     "output_type": "stream",
     "text": [
      "INFO:tensorflow:Assets written to: saved_models\\DLModel_CV_CNN_VS01_ITER0\\assets\n"
     ]
    },
    {
     "name": "stderr",
     "output_type": "stream",
     "text": [
      "INFO:tensorflow:Assets written to: saved_models\\DLModel_CV_CNN_VS01_ITER0\\assets\n"
     ]
    },
    {
     "name": "stdout",
     "output_type": "stream",
     "text": [
      "Epoch 7/300\n",
      "986/986 [==============================] - 6s 6ms/step - loss: 0.2787 - accuracy: 0.9092 - val_loss: 0.1741 - val_accuracy: 0.9339\n",
      "\n",
      "Epoch 00007: val_loss did not improve from 0.15985\n",
      "Epoch 8/300\n",
      "986/986 [==============================] - 6s 6ms/step - loss: 0.2613 - accuracy: 0.9123 - val_loss: 0.2201 - val_accuracy: 0.9385\n",
      "\n",
      "Epoch 00008: val_loss did not improve from 0.15985\n",
      "Epoch 9/300\n",
      "986/986 [==============================] - 6s 6ms/step - loss: 0.2393 - accuracy: 0.9161 - val_loss: 0.1739 - val_accuracy: 0.9339\n",
      "\n",
      "Epoch 00009: val_loss did not improve from 0.15985\n",
      "Epoch 10/300\n",
      "986/986 [==============================] - 6s 6ms/step - loss: 0.2297 - accuracy: 0.9229 - val_loss: 0.1855 - val_accuracy: 0.9408\n",
      "\n",
      "Epoch 00010: val_loss did not improve from 0.15985\n",
      "Epoch 11/300\n",
      "986/986 [==============================] - 6s 6ms/step - loss: 0.2295 - accuracy: 0.9217 - val_loss: 0.1659 - val_accuracy: 0.9567\n",
      "\n",
      "Epoch 00011: val_loss did not improve from 0.15985\n",
      "Epoch 12/300\n",
      "986/986 [==============================] - 6s 6ms/step - loss: 0.2199 - accuracy: 0.9265 - val_loss: 0.1639 - val_accuracy: 0.9544\n",
      "\n",
      "Epoch 00012: val_loss did not improve from 0.15985\n",
      "Epoch 13/300\n",
      "986/986 [==============================] - 6s 6ms/step - loss: 0.2214 - accuracy: 0.9239 - val_loss: 0.1376 - val_accuracy: 0.9522\n",
      "\n",
      "Epoch 00013: val_loss improved from 0.15985 to 0.13760, saving model to saved_models\\DLModel_CV_CNN_VS01_ITER0\n"
     ]
    },
    {
     "name": "stderr",
     "output_type": "stream",
     "text": [
      "WARNING:absl:Function `_wrapped_model` contains input name(s) Input-Layer with unsupported characters which will be renamed to input_layer in the SavedModel.\n"
     ]
    },
    {
     "name": "stdout",
     "output_type": "stream",
     "text": [
      "INFO:tensorflow:Assets written to: saved_models\\DLModel_CV_CNN_VS01_ITER0\\assets\n"
     ]
    },
    {
     "name": "stderr",
     "output_type": "stream",
     "text": [
      "INFO:tensorflow:Assets written to: saved_models\\DLModel_CV_CNN_VS01_ITER0\\assets\n"
     ]
    },
    {
     "name": "stdout",
     "output_type": "stream",
     "text": [
      "Epoch 14/300\n",
      "986/986 [==============================] - 6s 6ms/step - loss: 0.2181 - accuracy: 0.9313 - val_loss: 0.1253 - val_accuracy: 0.9567\n",
      "\n",
      "Epoch 00014: val_loss improved from 0.13760 to 0.12529, saving model to saved_models\\DLModel_CV_CNN_VS01_ITER0\n"
     ]
    },
    {
     "name": "stderr",
     "output_type": "stream",
     "text": [
      "WARNING:absl:Function `_wrapped_model` contains input name(s) Input-Layer with unsupported characters which will be renamed to input_layer in the SavedModel.\n"
     ]
    },
    {
     "name": "stdout",
     "output_type": "stream",
     "text": [
      "INFO:tensorflow:Assets written to: saved_models\\DLModel_CV_CNN_VS01_ITER0\\assets\n"
     ]
    },
    {
     "name": "stderr",
     "output_type": "stream",
     "text": [
      "INFO:tensorflow:Assets written to: saved_models\\DLModel_CV_CNN_VS01_ITER0\\assets\n"
     ]
    },
    {
     "name": "stdout",
     "output_type": "stream",
     "text": [
      "Epoch 15/300\n",
      "986/986 [==============================] - 6s 6ms/step - loss: 0.2041 - accuracy: 0.9320 - val_loss: 0.1380 - val_accuracy: 0.9499\n",
      "\n",
      "Epoch 00015: val_loss did not improve from 0.12529\n",
      "Epoch 16/300\n",
      "986/986 [==============================] - 6s 6ms/step - loss: 0.2005 - accuracy: 0.9353 - val_loss: 0.1486 - val_accuracy: 0.9385\n",
      "\n",
      "Epoch 00016: val_loss did not improve from 0.12529\n",
      "Epoch 17/300\n",
      "986/986 [==============================] - 6s 6ms/step - loss: 0.1968 - accuracy: 0.9331 - val_loss: 0.1597 - val_accuracy: 0.9431\n",
      "\n",
      "Epoch 00017: val_loss did not improve from 0.12529\n",
      "Epoch 18/300\n",
      "986/986 [==============================] - 6s 6ms/step - loss: 0.1897 - accuracy: 0.9399 - val_loss: 0.1518 - val_accuracy: 0.9499\n",
      "\n",
      "Epoch 00018: val_loss did not improve from 0.12529\n",
      "Epoch 19/300\n",
      "986/986 [==============================] - 6s 6ms/step - loss: 0.1892 - accuracy: 0.9435 - val_loss: 0.1360 - val_accuracy: 0.9522\n",
      "\n",
      "Epoch 00019: val_loss did not improve from 0.12529\n",
      "Epoch 20/300\n",
      "986/986 [==============================] - 6s 6ms/step - loss: 0.1748 - accuracy: 0.9437 - val_loss: 0.1142 - val_accuracy: 0.9658\n",
      "\n",
      "Epoch 00020: val_loss improved from 0.12529 to 0.11424, saving model to saved_models\\DLModel_CV_CNN_VS01_ITER0\n"
     ]
    },
    {
     "name": "stderr",
     "output_type": "stream",
     "text": [
      "WARNING:absl:Function `_wrapped_model` contains input name(s) Input-Layer with unsupported characters which will be renamed to input_layer in the SavedModel.\n"
     ]
    },
    {
     "name": "stdout",
     "output_type": "stream",
     "text": [
      "INFO:tensorflow:Assets written to: saved_models\\DLModel_CV_CNN_VS01_ITER0\\assets\n"
     ]
    },
    {
     "name": "stderr",
     "output_type": "stream",
     "text": [
      "INFO:tensorflow:Assets written to: saved_models\\DLModel_CV_CNN_VS01_ITER0\\assets\n"
     ]
    },
    {
     "name": "stdout",
     "output_type": "stream",
     "text": [
      "Epoch 21/300\n",
      "986/986 [==============================] - 6s 6ms/step - loss: 0.1778 - accuracy: 0.9457 - val_loss: 0.1152 - val_accuracy: 0.9544\n",
      "\n",
      "Epoch 00021: val_loss did not improve from 0.11424\n",
      "Epoch 22/300\n",
      "986/986 [==============================] - 6s 6ms/step - loss: 0.1726 - accuracy: 0.9465 - val_loss: 0.2204 - val_accuracy: 0.9271\n",
      "\n",
      "Epoch 00022: val_loss did not improve from 0.11424\n",
      "Epoch 23/300\n",
      "986/986 [==============================] - 7s 7ms/step - loss: 0.1697 - accuracy: 0.9468 - val_loss: 0.1457 - val_accuracy: 0.9499\n",
      "\n",
      "Epoch 00023: val_loss did not improve from 0.11424\n",
      "Epoch 24/300\n",
      "986/986 [==============================] - 7s 7ms/step - loss: 0.1743 - accuracy: 0.9407 - val_loss: 0.1358 - val_accuracy: 0.9453\n",
      "\n",
      "Epoch 00024: val_loss did not improve from 0.11424\n",
      "Epoch 25/300\n",
      "986/986 [==============================] - 7s 7ms/step - loss: 0.1443 - accuracy: 0.9495 - val_loss: 0.1946 - val_accuracy: 0.9271\n",
      "\n",
      "Epoch 00025: val_loss did not improve from 0.11424\n",
      "Epoch 26/300\n",
      "986/986 [==============================] - 7s 7ms/step - loss: 0.1741 - accuracy: 0.9488 - val_loss: 0.1304 - val_accuracy: 0.9567\n",
      "\n",
      "Epoch 00026: val_loss did not improve from 0.11424\n",
      "Epoch 27/300\n",
      "986/986 [==============================] - 7s 7ms/step - loss: 0.1502 - accuracy: 0.9521 - val_loss: 0.1172 - val_accuracy: 0.9613\n",
      "\n",
      "Epoch 00027: val_loss did not improve from 0.11424\n",
      "Epoch 28/300\n",
      "986/986 [==============================] - 7s 7ms/step - loss: 0.1628 - accuracy: 0.9511 - val_loss: 0.1409 - val_accuracy: 0.9544\n",
      "\n",
      "Epoch 00028: val_loss did not improve from 0.11424\n",
      "\n",
      "Epoch 00028: ReduceLROnPlateau reducing learning rate to 0.0003000000142492354.\n",
      "Epoch 29/300\n",
      "986/986 [==============================] - 7s 7ms/step - loss: 0.1234 - accuracy: 0.9632 - val_loss: 0.1189 - val_accuracy: 0.9613\n",
      "\n",
      "Epoch 00029: val_loss did not improve from 0.11424\n",
      "Epoch 30/300\n",
      "986/986 [==============================] - 8s 8ms/step - loss: 0.0910 - accuracy: 0.9716 - val_loss: 0.1109 - val_accuracy: 0.9636\n",
      "\n",
      "Epoch 00030: val_loss improved from 0.11424 to 0.11092, saving model to saved_models\\DLModel_CV_CNN_VS01_ITER0\n"
     ]
    },
    {
     "name": "stderr",
     "output_type": "stream",
     "text": [
      "WARNING:absl:Function `_wrapped_model` contains input name(s) Input-Layer with unsupported characters which will be renamed to input_layer in the SavedModel.\n"
     ]
    },
    {
     "name": "stdout",
     "output_type": "stream",
     "text": [
      "INFO:tensorflow:Assets written to: saved_models\\DLModel_CV_CNN_VS01_ITER0\\assets\n"
     ]
    },
    {
     "name": "stderr",
     "output_type": "stream",
     "text": [
      "INFO:tensorflow:Assets written to: saved_models\\DLModel_CV_CNN_VS01_ITER0\\assets\n"
     ]
    },
    {
     "name": "stdout",
     "output_type": "stream",
     "text": [
      "Epoch 31/300\n",
      "986/986 [==============================] - 6s 6ms/step - loss: 0.0903 - accuracy: 0.9736 - val_loss: 0.0954 - val_accuracy: 0.9681\n",
      "\n",
      "Epoch 00031: val_loss improved from 0.11092 to 0.09541, saving model to saved_models\\DLModel_CV_CNN_VS01_ITER0\n"
     ]
    },
    {
     "name": "stderr",
     "output_type": "stream",
     "text": [
      "WARNING:absl:Function `_wrapped_model` contains input name(s) Input-Layer with unsupported characters which will be renamed to input_layer in the SavedModel.\n"
     ]
    },
    {
     "name": "stdout",
     "output_type": "stream",
     "text": [
      "INFO:tensorflow:Assets written to: saved_models\\DLModel_CV_CNN_VS01_ITER0\\assets\n"
     ]
    },
    {
     "name": "stderr",
     "output_type": "stream",
     "text": [
      "INFO:tensorflow:Assets written to: saved_models\\DLModel_CV_CNN_VS01_ITER0\\assets\n"
     ]
    },
    {
     "name": "stdout",
     "output_type": "stream",
     "text": [
      "Epoch 32/300\n",
      "986/986 [==============================] - 7s 7ms/step - loss: 0.0869 - accuracy: 0.9736 - val_loss: 0.1004 - val_accuracy: 0.9636\n",
      "\n",
      "Epoch 00032: val_loss did not improve from 0.09541\n",
      "Epoch 33/300\n",
      "986/986 [==============================] - 6s 6ms/step - loss: 0.0852 - accuracy: 0.9752 - val_loss: 0.1076 - val_accuracy: 0.9636\n",
      "\n",
      "Epoch 00033: val_loss did not improve from 0.09541\n",
      "Epoch 34/300\n",
      "986/986 [==============================] - 6s 6ms/step - loss: 0.0813 - accuracy: 0.9752 - val_loss: 0.0963 - val_accuracy: 0.9681\n",
      "\n",
      "Epoch 00034: val_loss did not improve from 0.09541\n",
      "Epoch 35/300\n",
      "986/986 [==============================] - 6s 6ms/step - loss: 0.0860 - accuracy: 0.9724 - val_loss: 0.1163 - val_accuracy: 0.9658\n",
      "\n",
      "Epoch 00035: val_loss did not improve from 0.09541\n",
      "Epoch 36/300\n",
      "986/986 [==============================] - 6s 6ms/step - loss: 0.0849 - accuracy: 0.9736 - val_loss: 0.1174 - val_accuracy: 0.9636\n",
      "\n",
      "Epoch 00036: val_loss did not improve from 0.09541\n",
      "Epoch 37/300\n",
      "986/986 [==============================] - 6s 6ms/step - loss: 0.0817 - accuracy: 0.9734 - val_loss: 0.1093 - val_accuracy: 0.9658\n",
      "\n",
      "Epoch 00037: val_loss did not improve from 0.09541\n",
      "Epoch 38/300\n",
      "986/986 [==============================] - 7s 7ms/step - loss: 0.0780 - accuracy: 0.9767 - val_loss: 0.1039 - val_accuracy: 0.9658\n",
      "\n",
      "Epoch 00038: val_loss did not improve from 0.09541\n",
      "Epoch 39/300\n",
      "986/986 [==============================] - 7s 7ms/step - loss: 0.0766 - accuracy: 0.9774 - val_loss: 0.0980 - val_accuracy: 0.9749\n",
      "\n",
      "Epoch 00039: val_loss did not improve from 0.09541\n",
      "\n",
      "Epoch 00039: ReduceLROnPlateau reducing learning rate to 9.000000427477062e-05.\n",
      "Epoch 40/300\n",
      "986/986 [==============================] - 7s 7ms/step - loss: 0.0718 - accuracy: 0.9774 - val_loss: 0.0954 - val_accuracy: 0.9658\n",
      "\n",
      "Epoch 00040: val_loss improved from 0.09541 to 0.09537, saving model to saved_models\\DLModel_CV_CNN_VS01_ITER0\n"
     ]
    },
    {
     "name": "stderr",
     "output_type": "stream",
     "text": [
      "WARNING:absl:Function `_wrapped_model` contains input name(s) Input-Layer with unsupported characters which will be renamed to input_layer in the SavedModel.\n"
     ]
    },
    {
     "name": "stdout",
     "output_type": "stream",
     "text": [
      "INFO:tensorflow:Assets written to: saved_models\\DLModel_CV_CNN_VS01_ITER0\\assets\n"
     ]
    },
    {
     "name": "stderr",
     "output_type": "stream",
     "text": [
      "INFO:tensorflow:Assets written to: saved_models\\DLModel_CV_CNN_VS01_ITER0\\assets\n"
     ]
    },
    {
     "name": "stdout",
     "output_type": "stream",
     "text": [
      "Epoch 41/300\n",
      "986/986 [==============================] - 7s 7ms/step - loss: 0.0660 - accuracy: 0.9800 - val_loss: 0.0898 - val_accuracy: 0.9681\n",
      "\n",
      "Epoch 00041: val_loss improved from 0.09537 to 0.08984, saving model to saved_models\\DLModel_CV_CNN_VS01_ITER0\n"
     ]
    },
    {
     "name": "stderr",
     "output_type": "stream",
     "text": [
      "WARNING:absl:Function `_wrapped_model` contains input name(s) Input-Layer with unsupported characters which will be renamed to input_layer in the SavedModel.\n"
     ]
    },
    {
     "name": "stdout",
     "output_type": "stream",
     "text": [
      "INFO:tensorflow:Assets written to: saved_models\\DLModel_CV_CNN_VS01_ITER0\\assets\n"
     ]
    },
    {
     "name": "stderr",
     "output_type": "stream",
     "text": [
      "INFO:tensorflow:Assets written to: saved_models\\DLModel_CV_CNN_VS01_ITER0\\assets\n"
     ]
    },
    {
     "name": "stdout",
     "output_type": "stream",
     "text": [
      "Epoch 42/300\n",
      "986/986 [==============================] - 7s 7ms/step - loss: 0.0585 - accuracy: 0.9815 - val_loss: 0.0915 - val_accuracy: 0.9704\n",
      "\n",
      "Epoch 00042: val_loss did not improve from 0.08984\n",
      "Epoch 43/300\n",
      "986/986 [==============================] - 6s 7ms/step - loss: 0.0616 - accuracy: 0.9828 - val_loss: 0.0943 - val_accuracy: 0.9704\n",
      "\n",
      "Epoch 00043: val_loss did not improve from 0.08984\n",
      "Epoch 44/300\n",
      "986/986 [==============================] - 6s 6ms/step - loss: 0.0638 - accuracy: 0.9817 - val_loss: 0.0944 - val_accuracy: 0.9704\n",
      "\n",
      "Epoch 00044: val_loss did not improve from 0.08984\n",
      "Epoch 45/300\n",
      "986/986 [==============================] - 7s 7ms/step - loss: 0.0570 - accuracy: 0.9823 - val_loss: 0.0943 - val_accuracy: 0.9704\n",
      "\n",
      "Epoch 00045: val_loss did not improve from 0.08984\n",
      "Epoch 46/300\n",
      "986/986 [==============================] - 7s 7ms/step - loss: 0.0563 - accuracy: 0.9850 - val_loss: 0.1257 - val_accuracy: 0.9681\n",
      "\n",
      "Epoch 00046: val_loss did not improve from 0.08984\n",
      "Epoch 47/300\n",
      "986/986 [==============================] - 7s 7ms/step - loss: 0.0525 - accuracy: 0.9843 - val_loss: 0.1104 - val_accuracy: 0.9704\n",
      "\n",
      "Epoch 00047: val_loss did not improve from 0.08984\n",
      "Epoch 48/300\n",
      "986/986 [==============================] - 7s 7ms/step - loss: 0.0594 - accuracy: 0.9833 - val_loss: 0.1154 - val_accuracy: 0.9681\n",
      "\n",
      "Epoch 00048: val_loss did not improve from 0.08984\n",
      "Epoch 49/300\n",
      "986/986 [==============================] - 7s 7ms/step - loss: 0.0597 - accuracy: 0.9830 - val_loss: 0.1022 - val_accuracy: 0.9704\n",
      "\n",
      "Epoch 00049: val_loss did not improve from 0.08984\n",
      "\n",
      "Epoch 00049: ReduceLROnPlateau reducing learning rate to 2.700000040931627e-05.\n",
      "Epoch 50/300\n",
      "986/986 [==============================] - 7s 7ms/step - loss: 0.0526 - accuracy: 0.9835 - val_loss: 0.1016 - val_accuracy: 0.9681\n",
      "\n",
      "Epoch 00050: val_loss did not improve from 0.08984\n",
      "Epoch 51/300\n",
      "986/986 [==============================] - 7s 7ms/step - loss: 0.0562 - accuracy: 0.9835 - val_loss: 0.0997 - val_accuracy: 0.9681\n",
      "\n",
      "Epoch 00051: val_loss did not improve from 0.08984\n",
      "Epoch 52/300\n",
      "986/986 [==============================] - 7s 7ms/step - loss: 0.0578 - accuracy: 0.9850 - val_loss: 0.1023 - val_accuracy: 0.9681\n",
      "\n",
      "Epoch 00052: val_loss did not improve from 0.08984\n",
      "Epoch 53/300\n",
      "986/986 [==============================] - 7s 7ms/step - loss: 0.0524 - accuracy: 0.9825 - val_loss: 0.1066 - val_accuracy: 0.9681\n",
      "\n",
      "Epoch 00053: val_loss did not improve from 0.08984\n",
      "Epoch 54/300\n",
      "986/986 [==============================] - 6s 6ms/step - loss: 0.0484 - accuracy: 0.9848 - val_loss: 0.1061 - val_accuracy: 0.9704\n",
      "\n",
      "Epoch 00054: val_loss did not improve from 0.08984\n",
      "Epoch 55/300\n",
      "986/986 [==============================] - 6s 6ms/step - loss: 0.0415 - accuracy: 0.9878 - val_loss: 0.1090 - val_accuracy: 0.9681\n",
      "\n",
      "Epoch 00055: val_loss did not improve from 0.08984\n",
      "Epoch 56/300\n",
      "986/986 [==============================] - 6s 7ms/step - loss: 0.0430 - accuracy: 0.9873 - val_loss: 0.1114 - val_accuracy: 0.9681\n",
      "\n",
      "Epoch 00056: val_loss did not improve from 0.08984\n",
      "Epoch 57/300\n",
      "986/986 [==============================] - 6s 7ms/step - loss: 0.0502 - accuracy: 0.9858 - val_loss: 0.1090 - val_accuracy: 0.9681\n",
      "\n",
      "Epoch 00057: val_loss did not improve from 0.08984\n",
      "\n",
      "Epoch 00057: ReduceLROnPlateau reducing learning rate to 8.100000013655517e-06.\n",
      "Epoch 58/300\n",
      "986/986 [==============================] - 6s 6ms/step - loss: 0.0498 - accuracy: 0.9861 - val_loss: 0.1086 - val_accuracy: 0.9658\n",
      "\n",
      "Epoch 00058: val_loss did not improve from 0.08984\n",
      "Epoch 59/300\n",
      "986/986 [==============================] - 6s 7ms/step - loss: 0.0506 - accuracy: 0.9863 - val_loss: 0.1085 - val_accuracy: 0.9658\n",
      "\n",
      "Epoch 00059: val_loss did not improve from 0.08984\n",
      "Epoch 60/300\n",
      "986/986 [==============================] - 6s 7ms/step - loss: 0.0511 - accuracy: 0.9850 - val_loss: 0.1079 - val_accuracy: 0.9658\n",
      "\n",
      "Epoch 00060: val_loss did not improve from 0.08984\n",
      "Epoch 61/300\n",
      "986/986 [==============================] - 7s 7ms/step - loss: 0.0450 - accuracy: 0.9863 - val_loss: 0.1087 - val_accuracy: 0.9681\n",
      "\n",
      "Epoch 00061: val_loss did not improve from 0.08984\n",
      "Epoch 00061: early stopping\n",
      "487/487 [==============================] - 3s 5ms/step - loss: 0.1829 - accuracy: 0.9692\n"
     ]
    },
    {
     "data": {
      "image/png": "[encoded data removed]",
      "text/plain": [
       "<Figure size 432x288 with 1 Axes>"
      ]
     },
     "metadata": {
      "needs_background": "light"
     },
     "output_type": "display_data"
    },
    {
     "data": {
      "image/png": "[encoded data removed]",
      "text/plain": [
       "<Figure size 432x288 with 1 Axes>"
      ]
     },
     "metadata": {
      "needs_background": "light"
     },
     "output_type": "display_data"
    },
    {
     "name": "stdout",
     "output_type": "stream",
     "text": [
      "Iteration 1\n",
      "Splitting X and y of shapes (974000, 6) and (974000, 4)\n",
      "Training model DLModel_CV_CNN_VS01_ITER1\n",
      "Epoch 1/300\n",
      "986/986 [==============================] - 7s 6ms/step - loss: 0.7571 - accuracy: 0.6957 - val_loss: 0.4584 - val_accuracy: 0.8884\n",
      "\n",
      "Epoch 00001: val_loss improved from inf to 0.45843, saving model to saved_models\\DLModel_CV_CNN_VS01_ITER1\n"
     ]
    },
    {
     "name": "stderr",
     "output_type": "stream",
     "text": [
      "WARNING:absl:Function `_wrapped_model` contains input name(s) Input-Layer with unsupported characters which will be renamed to input_layer in the SavedModel.\n"
     ]
    },
    {
     "name": "stdout",
     "output_type": "stream",
     "text": [
      "INFO:tensorflow:Assets written to: saved_models\\DLModel_CV_CNN_VS01_ITER1\\assets\n"
     ]
    },
    {
     "name": "stderr",
     "output_type": "stream",
     "text": [
      "INFO:tensorflow:Assets written to: saved_models\\DLModel_CV_CNN_VS01_ITER1\\assets\n"
     ]
    },
    {
     "name": "stdout",
     "output_type": "stream",
     "text": [
      "Epoch 2/300\n",
      "986/986 [==============================] - 6s 6ms/step - loss: 0.4716 - accuracy: 0.8349 - val_loss: 0.4093 - val_accuracy: 0.8565\n",
      "\n",
      "Epoch 00002: val_loss improved from 0.45843 to 0.40931, saving model to saved_models\\DLModel_CV_CNN_VS01_ITER1\n"
     ]
    },
    {
     "name": "stderr",
     "output_type": "stream",
     "text": [
      "WARNING:absl:Function `_wrapped_model` contains input name(s) Input-Layer with unsupported characters which will be renamed to input_layer in the SavedModel.\n"
     ]
    },
    {
     "name": "stdout",
     "output_type": "stream",
     "text": [
      "INFO:tensorflow:Assets written to: saved_models\\DLModel_CV_CNN_VS01_ITER1\\assets\n"
     ]
    },
    {
     "name": "stderr",
     "output_type": "stream",
     "text": [
      "INFO:tensorflow:Assets written to: saved_models\\DLModel_CV_CNN_VS01_ITER1\\assets\n"
     ]
    },
    {
     "name": "stdout",
     "output_type": "stream",
     "text": [
      "Epoch 3/300\n",
      "986/986 [==============================] - 6s 6ms/step - loss: 0.3887 - accuracy: 0.8621 - val_loss: 0.3753 - val_accuracy: 0.9112\n",
      "\n",
      "Epoch 00003: val_loss improved from 0.40931 to 0.37530, saving model to saved_models\\DLModel_CV_CNN_VS01_ITER1\n"
     ]
    },
    {
     "name": "stderr",
     "output_type": "stream",
     "text": [
      "WARNING:absl:Function `_wrapped_model` contains input name(s) Input-Layer with unsupported characters which will be renamed to input_layer in the SavedModel.\n"
     ]
    },
    {
     "name": "stdout",
     "output_type": "stream",
     "text": [
      "INFO:tensorflow:Assets written to: saved_models\\DLModel_CV_CNN_VS01_ITER1\\assets\n"
     ]
    },
    {
     "name": "stderr",
     "output_type": "stream",
     "text": [
      "INFO:tensorflow:Assets written to: saved_models\\DLModel_CV_CNN_VS01_ITER1\\assets\n"
     ]
    },
    {
     "name": "stdout",
     "output_type": "stream",
     "text": [
      "Epoch 4/300\n",
      "986/986 [==============================] - 6s 6ms/step - loss: 0.3339 - accuracy: 0.8867 - val_loss: 0.2975 - val_accuracy: 0.9134\n",
      "\n",
      "Epoch 00004: val_loss improved from 0.37530 to 0.29749, saving model to saved_models\\DLModel_CV_CNN_VS01_ITER1\n"
     ]
    },
    {
     "name": "stderr",
     "output_type": "stream",
     "text": [
      "WARNING:absl:Function `_wrapped_model` contains input name(s) Input-Layer with unsupported characters which will be renamed to input_layer in the SavedModel.\n"
     ]
    },
    {
     "name": "stdout",
     "output_type": "stream",
     "text": [
      "INFO:tensorflow:Assets written to: saved_models\\DLModel_CV_CNN_VS01_ITER1\\assets\n"
     ]
    },
    {
     "name": "stderr",
     "output_type": "stream",
     "text": [
      "INFO:tensorflow:Assets written to: saved_models\\DLModel_CV_CNN_VS01_ITER1\\assets\n"
     ]
    },
    {
     "name": "stdout",
     "output_type": "stream",
     "text": [
      "Epoch 5/300\n",
      "986/986 [==============================] - 7s 7ms/step - loss: 0.2819 - accuracy: 0.8986 - val_loss: 0.3588 - val_accuracy: 0.8724\n",
      "\n",
      "Epoch 00005: val_loss did not improve from 0.29749\n",
      "Epoch 6/300\n",
      "986/986 [==============================] - 7s 7ms/step - loss: 0.2689 - accuracy: 0.9049 - val_loss: 0.3130 - val_accuracy: 0.9089\n",
      "\n",
      "Epoch 00006: val_loss did not improve from 0.29749\n",
      "Epoch 7/300\n",
      "986/986 [==============================] - 7s 7ms/step - loss: 0.2517 - accuracy: 0.9123 - val_loss: 0.3209 - val_accuracy: 0.9180\n",
      "\n",
      "Epoch 00007: val_loss did not improve from 0.29749\n",
      "Epoch 8/300\n",
      "986/986 [==============================] - 7s 7ms/step - loss: 0.2648 - accuracy: 0.9072 - val_loss: 0.3301 - val_accuracy: 0.9157\n",
      "\n",
      "Epoch 00008: val_loss did not improve from 0.29749\n",
      "Epoch 9/300\n",
      "986/986 [==============================] - 7s 7ms/step - loss: 0.2302 - accuracy: 0.9168 - val_loss: 0.2866 - val_accuracy: 0.9226\n",
      "\n",
      "Epoch 00009: val_loss improved from 0.29749 to 0.28663, saving model to saved_models\\DLModel_CV_CNN_VS01_ITER1\n"
     ]
    },
    {
     "name": "stderr",
     "output_type": "stream",
     "text": [
      "WARNING:absl:Function `_wrapped_model` contains input name(s) Input-Layer with unsupported characters which will be renamed to input_layer in the SavedModel.\n"
     ]
    },
    {
     "name": "stdout",
     "output_type": "stream",
     "text": [
      "INFO:tensorflow:Assets written to: saved_models\\DLModel_CV_CNN_VS01_ITER1\\assets\n"
     ]
    },
    {
     "name": "stderr",
     "output_type": "stream",
     "text": [
      "INFO:tensorflow:Assets written to: saved_models\\DLModel_CV_CNN_VS01_ITER1\\assets\n"
     ]
    },
    {
     "name": "stdout",
     "output_type": "stream",
     "text": [
      "Epoch 10/300\n",
      "986/986 [==============================] - 6s 6ms/step - loss: 0.2443 - accuracy: 0.9191 - val_loss: 0.2935 - val_accuracy: 0.9248\n",
      "\n",
      "Epoch 00010: val_loss did not improve from 0.28663\n",
      "Epoch 11/300\n",
      "986/986 [==============================] - 6s 6ms/step - loss: 0.2171 - accuracy: 0.9229 - val_loss: 0.2855 - val_accuracy: 0.9248\n",
      "\n",
      "Epoch 00011: val_loss improved from 0.28663 to 0.28549, saving model to saved_models\\DLModel_CV_CNN_VS01_ITER1\n"
     ]
    },
    {
     "name": "stderr",
     "output_type": "stream",
     "text": [
      "WARNING:absl:Function `_wrapped_model` contains input name(s) Input-Layer with unsupported characters which will be renamed to input_layer in the SavedModel.\n"
     ]
    },
    {
     "name": "stdout",
     "output_type": "stream",
     "text": [
      "INFO:tensorflow:Assets written to: saved_models\\DLModel_CV_CNN_VS01_ITER1\\assets\n"
     ]
    },
    {
     "name": "stderr",
     "output_type": "stream",
     "text": [
      "INFO:tensorflow:Assets written to: saved_models\\DLModel_CV_CNN_VS01_ITER1\\assets\n"
     ]
    },
    {
     "name": "stdout",
     "output_type": "stream",
     "text": [
      "Epoch 12/300\n",
      "986/986 [==============================] - 6s 6ms/step - loss: 0.2140 - accuracy: 0.9285 - val_loss: 0.2903 - val_accuracy: 0.9317\n",
      "\n",
      "Epoch 00012: val_loss did not improve from 0.28549\n",
      "Epoch 13/300\n",
      "986/986 [==============================] - 6s 6ms/step - loss: 0.2144 - accuracy: 0.9267 - val_loss: 0.3144 - val_accuracy: 0.9248\n",
      "\n",
      "Epoch 00013: val_loss did not improve from 0.28549\n",
      "Epoch 14/300\n",
      "986/986 [==============================] - 6s 6ms/step - loss: 0.2067 - accuracy: 0.9295 - val_loss: 0.2917 - val_accuracy: 0.9339\n",
      "\n",
      "Epoch 00014: val_loss did not improve from 0.28549\n",
      "Epoch 15/300\n",
      "986/986 [==============================] - 6s 6ms/step - loss: 0.1958 - accuracy: 0.9303 - val_loss: 0.2882 - val_accuracy: 0.9544\n",
      "\n",
      "Epoch 00015: val_loss did not improve from 0.28549\n",
      "Epoch 16/300\n",
      "986/986 [==============================] - 6s 6ms/step - loss: 0.1938 - accuracy: 0.9346 - val_loss: 0.2804 - val_accuracy: 0.9248\n",
      "\n",
      "Epoch 00016: val_loss improved from 0.28549 to 0.28044, saving model to saved_models\\DLModel_CV_CNN_VS01_ITER1\n"
     ]
    },
    {
     "name": "stderr",
     "output_type": "stream",
     "text": [
      "WARNING:absl:Function `_wrapped_model` contains input name(s) Input-Layer with unsupported characters which will be renamed to input_layer in the SavedModel.\n"
     ]
    },
    {
     "name": "stdout",
     "output_type": "stream",
     "text": [
      "INFO:tensorflow:Assets written to: saved_models\\DLModel_CV_CNN_VS01_ITER1\\assets\n"
     ]
    },
    {
     "name": "stderr",
     "output_type": "stream",
     "text": [
      "INFO:tensorflow:Assets written to: saved_models\\DLModel_CV_CNN_VS01_ITER1\\assets\n"
     ]
    },
    {
     "name": "stdout",
     "output_type": "stream",
     "text": [
      "Epoch 17/300\n",
      "986/986 [==============================] - 6s 6ms/step - loss: 0.1904 - accuracy: 0.9384 - val_loss: 0.3032 - val_accuracy: 0.9408\n",
      "\n",
      "Epoch 00017: val_loss did not improve from 0.28044\n",
      "Epoch 18/300\n",
      "986/986 [==============================] - 6s 6ms/step - loss: 0.1797 - accuracy: 0.9384 - val_loss: 0.2626 - val_accuracy: 0.9499\n",
      "\n",
      "Epoch 00018: val_loss improved from 0.28044 to 0.26265, saving model to saved_models\\DLModel_CV_CNN_VS01_ITER1\n"
     ]
    },
    {
     "name": "stderr",
     "output_type": "stream",
     "text": [
      "WARNING:absl:Function `_wrapped_model` contains input name(s) Input-Layer with unsupported characters which will be renamed to input_layer in the SavedModel.\n"
     ]
    },
    {
     "name": "stdout",
     "output_type": "stream",
     "text": [
      "INFO:tensorflow:Assets written to: saved_models\\DLModel_CV_CNN_VS01_ITER1\\assets\n"
     ]
    },
    {
     "name": "stderr",
     "output_type": "stream",
     "text": [
      "INFO:tensorflow:Assets written to: saved_models\\DLModel_CV_CNN_VS01_ITER1\\assets\n"
     ]
    },
    {
     "name": "stdout",
     "output_type": "stream",
     "text": [
      "Epoch 19/300\n",
      "986/986 [==============================] - 6s 6ms/step - loss: 0.1841 - accuracy: 0.9374 - val_loss: 0.3070 - val_accuracy: 0.9317\n",
      "\n",
      "Epoch 00019: val_loss did not improve from 0.26265\n",
      "Epoch 20/300\n",
      "986/986 [==============================] - 6s 6ms/step - loss: 0.1823 - accuracy: 0.9381 - val_loss: 0.3340 - val_accuracy: 0.9226\n",
      "\n",
      "Epoch 00020: val_loss did not improve from 0.26265\n",
      "Epoch 21/300\n",
      "986/986 [==============================] - 7s 7ms/step - loss: 0.1717 - accuracy: 0.9422 - val_loss: 0.2960 - val_accuracy: 0.9544\n",
      "\n",
      "Epoch 00021: val_loss did not improve from 0.26265\n",
      "Epoch 22/300\n",
      "986/986 [==============================] - 7s 7ms/step - loss: 0.1722 - accuracy: 0.9417 - val_loss: 0.2617 - val_accuracy: 0.9339\n",
      "\n",
      "Epoch 00022: val_loss improved from 0.26265 to 0.26173, saving model to saved_models\\DLModel_CV_CNN_VS01_ITER1\n"
     ]
    },
    {
     "name": "stderr",
     "output_type": "stream",
     "text": [
      "WARNING:absl:Function `_wrapped_model` contains input name(s) Input-Layer with unsupported characters which will be renamed to input_layer in the SavedModel.\n"
     ]
    },
    {
     "name": "stdout",
     "output_type": "stream",
     "text": [
      "INFO:tensorflow:Assets written to: saved_models\\DLModel_CV_CNN_VS01_ITER1\\assets\n"
     ]
    },
    {
     "name": "stderr",
     "output_type": "stream",
     "text": [
      "INFO:tensorflow:Assets written to: saved_models\\DLModel_CV_CNN_VS01_ITER1\\assets\n"
     ]
    },
    {
     "name": "stdout",
     "output_type": "stream",
     "text": [
      "Epoch 23/300\n",
      "986/986 [==============================] - 6s 6ms/step - loss: 0.1600 - accuracy: 0.9508 - val_loss: 0.2999 - val_accuracy: 0.9339\n",
      "\n",
      "Epoch 00023: val_loss did not improve from 0.26173\n",
      "Epoch 24/300\n",
      "986/986 [==============================] - 6s 6ms/step - loss: 0.1712 - accuracy: 0.9462 - val_loss: 0.3335 - val_accuracy: 0.9431\n",
      "\n",
      "Epoch 00024: val_loss did not improve from 0.26173\n",
      "Epoch 25/300\n",
      "986/986 [==============================] - 6s 6ms/step - loss: 0.1704 - accuracy: 0.9473 - val_loss: 0.2947 - val_accuracy: 0.9476\n",
      "\n",
      "Epoch 00025: val_loss did not improve from 0.26173\n",
      "Epoch 26/300\n",
      "986/986 [==============================] - 6s 6ms/step - loss: 0.1634 - accuracy: 0.9490 - val_loss: 0.2366 - val_accuracy: 0.9317\n",
      "\n",
      "Epoch 00026: val_loss improved from 0.26173 to 0.23661, saving model to saved_models\\DLModel_CV_CNN_VS01_ITER1\n"
     ]
    },
    {
     "name": "stderr",
     "output_type": "stream",
     "text": [
      "WARNING:absl:Function `_wrapped_model` contains input name(s) Input-Layer with unsupported characters which will be renamed to input_layer in the SavedModel.\n"
     ]
    },
    {
     "name": "stdout",
     "output_type": "stream",
     "text": [
      "INFO:tensorflow:Assets written to: saved_models\\DLModel_CV_CNN_VS01_ITER1\\assets\n"
     ]
    },
    {
     "name": "stderr",
     "output_type": "stream",
     "text": [
      "INFO:tensorflow:Assets written to: saved_models\\DLModel_CV_CNN_VS01_ITER1\\assets\n"
     ]
    },
    {
     "name": "stdout",
     "output_type": "stream",
     "text": [
      "Epoch 27/300\n",
      "986/986 [==============================] - 6s 6ms/step - loss: 0.1481 - accuracy: 0.9511 - val_loss: 0.2960 - val_accuracy: 0.9499\n",
      "\n",
      "Epoch 00027: val_loss did not improve from 0.23661\n",
      "Epoch 28/300\n",
      "986/986 [==============================] - 6s 6ms/step - loss: 0.1492 - accuracy: 0.9495 - val_loss: 0.2835 - val_accuracy: 0.9476\n",
      "\n",
      "Epoch 00028: val_loss did not improve from 0.23661\n",
      "Epoch 29/300\n",
      "986/986 [==============================] - 6s 6ms/step - loss: 0.1540 - accuracy: 0.9501 - val_loss: 0.3958 - val_accuracy: 0.9339\n",
      "\n",
      "Epoch 00029: val_loss did not improve from 0.23661\n",
      "Epoch 30/300\n",
      "986/986 [==============================] - 7s 7ms/step - loss: 0.1418 - accuracy: 0.9544 - val_loss: 0.3065 - val_accuracy: 0.9499\n",
      "\n",
      "Epoch 00030: val_loss did not improve from 0.23661\n",
      "Epoch 31/300\n",
      "986/986 [==============================] - 7s 7ms/step - loss: 0.1556 - accuracy: 0.9485 - val_loss: 0.2400 - val_accuracy: 0.9522\n",
      "\n",
      "Epoch 00031: val_loss did not improve from 0.23661\n",
      "Epoch 32/300\n",
      "986/986 [==============================] - 8s 8ms/step - loss: 0.1408 - accuracy: 0.9564 - val_loss: 0.2322 - val_accuracy: 0.9453\n",
      "\n",
      "Epoch 00032: val_loss improved from 0.23661 to 0.23225, saving model to saved_models\\DLModel_CV_CNN_VS01_ITER1\n"
     ]
    },
    {
     "name": "stderr",
     "output_type": "stream",
     "text": [
      "WARNING:absl:Function `_wrapped_model` contains input name(s) Input-Layer with unsupported characters which will be renamed to input_layer in the SavedModel.\n"
     ]
    },
    {
     "name": "stdout",
     "output_type": "stream",
     "text": [
      "INFO:tensorflow:Assets written to: saved_models\\DLModel_CV_CNN_VS01_ITER1\\assets\n"
     ]
    },
    {
     "name": "stderr",
     "output_type": "stream",
     "text": [
      "INFO:tensorflow:Assets written to: saved_models\\DLModel_CV_CNN_VS01_ITER1\\assets\n"
     ]
    },
    {
     "name": "stdout",
     "output_type": "stream",
     "text": [
      "Epoch 33/300\n",
      "986/986 [==============================] - 6s 7ms/step - loss: 0.1349 - accuracy: 0.9566 - val_loss: 0.3046 - val_accuracy: 0.9362\n",
      "\n",
      "Epoch 00033: val_loss did not improve from 0.23225\n",
      "Epoch 34/300\n",
      "986/986 [==============================] - 6s 6ms/step - loss: 0.1262 - accuracy: 0.9559 - val_loss: 0.3943 - val_accuracy: 0.9385\n",
      "\n",
      "Epoch 00034: val_loss did not improve from 0.23225\n",
      "Epoch 35/300\n",
      "986/986 [==============================] - 10s 10ms/step - loss: 0.1409 - accuracy: 0.9516 - val_loss: 0.3372 - val_accuracy: 0.9385\n",
      "\n",
      "Epoch 00035: val_loss did not improve from 0.23225\n",
      "Epoch 36/300\n",
      "986/986 [==============================] - 9s 9ms/step - loss: 0.1438 - accuracy: 0.9554 - val_loss: 0.2280 - val_accuracy: 0.9522\n",
      "\n",
      "Epoch 00036: val_loss improved from 0.23225 to 0.22804, saving model to saved_models\\DLModel_CV_CNN_VS01_ITER1\n"
     ]
    },
    {
     "name": "stderr",
     "output_type": "stream",
     "text": [
      "WARNING:absl:Function `_wrapped_model` contains input name(s) Input-Layer with unsupported characters which will be renamed to input_layer in the SavedModel.\n"
     ]
    },
    {
     "name": "stdout",
     "output_type": "stream",
     "text": [
      "INFO:tensorflow:Assets written to: saved_models\\DLModel_CV_CNN_VS01_ITER1\\assets\n"
     ]
    },
    {
     "name": "stderr",
     "output_type": "stream",
     "text": [
      "INFO:tensorflow:Assets written to: saved_models\\DLModel_CV_CNN_VS01_ITER1\\assets\n"
     ]
    },
    {
     "name": "stdout",
     "output_type": "stream",
     "text": [
      "Epoch 37/300\n",
      "986/986 [==============================] - 12s 12ms/step - loss: 0.1291 - accuracy: 0.9615 - val_loss: 0.3358 - val_accuracy: 0.9499\n",
      "\n",
      "Epoch 00037: val_loss did not improve from 0.22804\n",
      "Epoch 38/300\n",
      "986/986 [==============================] - 7s 7ms/step - loss: 0.1488 - accuracy: 0.9546 - val_loss: 0.2751 - val_accuracy: 0.9431\n",
      "\n",
      "Epoch 00038: val_loss did not improve from 0.22804\n",
      "Epoch 39/300\n",
      "986/986 [==============================] - 8s 8ms/step - loss: 0.1335 - accuracy: 0.9566 - val_loss: 0.3129 - val_accuracy: 0.9499\n",
      "\n",
      "Epoch 00039: val_loss did not improve from 0.22804\n",
      "Epoch 40/300\n",
      "986/986 [==============================] - 8s 8ms/step - loss: 0.1522 - accuracy: 0.9566 - val_loss: 0.3240 - val_accuracy: 0.9317\n",
      "\n",
      "Epoch 00040: val_loss did not improve from 0.22804\n",
      "Epoch 41/300\n",
      "986/986 [==============================] - 8s 8ms/step - loss: 0.1284 - accuracy: 0.9577 - val_loss: 0.4283 - val_accuracy: 0.9271\n",
      "\n",
      "Epoch 00041: val_loss did not improve from 0.22804\n",
      "Epoch 42/300\n",
      "986/986 [==============================] - 9s 9ms/step - loss: 0.1169 - accuracy: 0.9592 - val_loss: 0.4117 - val_accuracy: 0.9453\n",
      "\n",
      "Epoch 00042: val_loss did not improve from 0.22804\n",
      "Epoch 43/300\n",
      "986/986 [==============================] - 9s 10ms/step - loss: 0.1350 - accuracy: 0.9592 - val_loss: 0.4095 - val_accuracy: 0.9362\n",
      "\n",
      "Epoch 00043: val_loss did not improve from 0.22804\n",
      "Epoch 44/300\n",
      "986/986 [==============================] - 8s 8ms/step - loss: 0.1375 - accuracy: 0.9546 - val_loss: 0.3183 - val_accuracy: 0.9317\n",
      "\n",
      "Epoch 00044: val_loss did not improve from 0.22804\n",
      "\n",
      "Epoch 00044: ReduceLROnPlateau reducing learning rate to 0.0003000000142492354.\n",
      "Epoch 45/300\n",
      "986/986 [==============================] - 8s 8ms/step - loss: 0.0912 - accuracy: 0.9678 - val_loss: 0.3631 - val_accuracy: 0.9499\n",
      "\n",
      "Epoch 00045: val_loss did not improve from 0.22804\n",
      "Epoch 46/300\n",
      "986/986 [==============================] - 9s 9ms/step - loss: 0.0813 - accuracy: 0.9762 - val_loss: 0.3908 - val_accuracy: 0.9544\n",
      "\n",
      "Epoch 00046: val_loss did not improve from 0.22804\n",
      "Epoch 47/300\n",
      "986/986 [==============================] - 9s 9ms/step - loss: 0.0744 - accuracy: 0.9752 - val_loss: 0.3683 - val_accuracy: 0.9522\n",
      "\n",
      "Epoch 00047: val_loss did not improve from 0.22804\n",
      "Epoch 48/300\n",
      "986/986 [==============================] - 7s 7ms/step - loss: 0.0739 - accuracy: 0.9779 - val_loss: 0.4356 - val_accuracy: 0.9567\n",
      "\n",
      "Epoch 00048: val_loss did not improve from 0.22804\n",
      "Epoch 49/300\n",
      "986/986 [==============================] - 8s 8ms/step - loss: 0.0663 - accuracy: 0.9802 - val_loss: 0.4063 - val_accuracy: 0.9613\n",
      "\n",
      "Epoch 00049: val_loss did not improve from 0.22804\n",
      "Epoch 50/300\n",
      "986/986 [==============================] - 7s 7ms/step - loss: 0.0675 - accuracy: 0.9812 - val_loss: 0.4066 - val_accuracy: 0.9590\n",
      "\n",
      "Epoch 00050: val_loss did not improve from 0.22804\n",
      "Epoch 51/300\n",
      "986/986 [==============================] - 8s 8ms/step - loss: 0.0721 - accuracy: 0.9777 - val_loss: 0.3782 - val_accuracy: 0.9590\n",
      "\n",
      "Epoch 00051: val_loss did not improve from 0.22804\n",
      "Epoch 52/300\n",
      "986/986 [==============================] - 9s 9ms/step - loss: 0.0614 - accuracy: 0.9830 - val_loss: 0.4611 - val_accuracy: 0.9544\n",
      "\n",
      "Epoch 00052: val_loss did not improve from 0.22804\n",
      "\n",
      "Epoch 00052: ReduceLROnPlateau reducing learning rate to 9.000000427477062e-05.\n",
      "Epoch 53/300\n",
      "986/986 [==============================] - 9s 9ms/step - loss: 0.0576 - accuracy: 0.9815 - val_loss: 0.4469 - val_accuracy: 0.9590\n",
      "\n",
      "Epoch 00053: val_loss did not improve from 0.22804\n",
      "Epoch 54/300\n",
      "986/986 [==============================] - 7s 7ms/step - loss: 0.0595 - accuracy: 0.9812 - val_loss: 0.4471 - val_accuracy: 0.9522\n",
      "\n",
      "Epoch 00054: val_loss did not improve from 0.22804\n",
      "Epoch 55/300\n",
      "986/986 [==============================] - 7s 7ms/step - loss: 0.0515 - accuracy: 0.9848 - val_loss: 0.4654 - val_accuracy: 0.9522\n",
      "\n",
      "Epoch 00055: val_loss did not improve from 0.22804\n",
      "Epoch 56/300\n",
      "986/986 [==============================] - 8s 8ms/step - loss: 0.0554 - accuracy: 0.9845 - val_loss: 0.4602 - val_accuracy: 0.9613\n",
      "\n",
      "Epoch 00056: val_loss did not improve from 0.22804\n",
      "Epoch 00056: early stopping\n",
      "487/487 [==============================] - 3s 5ms/step - loss: 0.1831 - accuracy: 0.9651\n"
     ]
    },
    {
     "data": {
      "image/png": "[encoded data removed]",
      "text/plain": [
       "<Figure size 432x288 with 1 Axes>"
      ]
     },
     "metadata": {
      "needs_background": "light"
     },
     "output_type": "display_data"
    },
    {
     "data": {
      "image/png": "[encoded data removed]",
      "text/plain": [
       "<Figure size 432x288 with 1 Axes>"
      ]
     },
     "metadata": {
      "needs_background": "light"
     },
     "output_type": "display_data"
    },
    {
     "name": "stdout",
     "output_type": "stream",
     "text": [
      "Iteration 2\n",
      "Splitting X and y of shapes (974000, 6) and (974000, 4)\n",
      "Training model DLModel_CV_CNN_VS01_ITER2\n",
      "Epoch 1/300\n",
      "986/986 [==============================] - 9s 8ms/step - loss: 0.7411 - accuracy: 0.6995 - val_loss: 0.5610 - val_accuracy: 0.7494\n",
      "\n",
      "Epoch 00001: val_loss improved from inf to 0.56104, saving model to saved_models\\DLModel_CV_CNN_VS01_ITER2\n"
     ]
    },
    {
     "name": "stderr",
     "output_type": "stream",
     "text": [
      "WARNING:absl:Function `_wrapped_model` contains input name(s) Input-Layer with unsupported characters which will be renamed to input_layer in the SavedModel.\n"
     ]
    },
    {
     "name": "stdout",
     "output_type": "stream",
     "text": [
      "INFO:tensorflow:Assets written to: saved_models\\DLModel_CV_CNN_VS01_ITER2\\assets\n"
     ]
    },
    {
     "name": "stderr",
     "output_type": "stream",
     "text": [
      "INFO:tensorflow:Assets written to: saved_models\\DLModel_CV_CNN_VS01_ITER2\\assets\n"
     ]
    },
    {
     "name": "stdout",
     "output_type": "stream",
     "text": [
      "Epoch 2/300\n",
      "986/986 [==============================] - 7s 7ms/step - loss: 0.4637 - accuracy: 0.8354 - val_loss: 0.3397 - val_accuracy: 0.8793\n",
      "\n",
      "Epoch 00002: val_loss improved from 0.56104 to 0.33973, saving model to saved_models\\DLModel_CV_CNN_VS01_ITER2\n"
     ]
    },
    {
     "name": "stderr",
     "output_type": "stream",
     "text": [
      "WARNING:absl:Function `_wrapped_model` contains input name(s) Input-Layer with unsupported characters which will be renamed to input_layer in the SavedModel.\n"
     ]
    },
    {
     "name": "stdout",
     "output_type": "stream",
     "text": [
      "INFO:tensorflow:Assets written to: saved_models\\DLModel_CV_CNN_VS01_ITER2\\assets\n"
     ]
    },
    {
     "name": "stderr",
     "output_type": "stream",
     "text": [
      "INFO:tensorflow:Assets written to: saved_models\\DLModel_CV_CNN_VS01_ITER2\\assets\n"
     ]
    },
    {
     "name": "stdout",
     "output_type": "stream",
     "text": [
      "Epoch 3/300\n",
      "986/986 [==============================] - 7s 7ms/step - loss: 0.3714 - accuracy: 0.8717 - val_loss: 0.2662 - val_accuracy: 0.9203\n",
      "\n",
      "Epoch 00003: val_loss improved from 0.33973 to 0.26622, saving model to saved_models\\DLModel_CV_CNN_VS01_ITER2\n"
     ]
    },
    {
     "name": "stderr",
     "output_type": "stream",
     "text": [
      "WARNING:absl:Function `_wrapped_model` contains input name(s) Input-Layer with unsupported characters which will be renamed to input_layer in the SavedModel.\n"
     ]
    },
    {
     "name": "stdout",
     "output_type": "stream",
     "text": [
      "INFO:tensorflow:Assets written to: saved_models\\DLModel_CV_CNN_VS01_ITER2\\assets\n"
     ]
    },
    {
     "name": "stderr",
     "output_type": "stream",
     "text": [
      "INFO:tensorflow:Assets written to: saved_models\\DLModel_CV_CNN_VS01_ITER2\\assets\n"
     ]
    },
    {
     "name": "stdout",
     "output_type": "stream",
     "text": [
      "Epoch 4/300\n",
      "986/986 [==============================] - 7s 7ms/step - loss: 0.3394 - accuracy: 0.8834 - val_loss: 0.2394 - val_accuracy: 0.9271\n",
      "\n",
      "Epoch 00004: val_loss improved from 0.26622 to 0.23943, saving model to saved_models\\DLModel_CV_CNN_VS01_ITER2\n"
     ]
    },
    {
     "name": "stderr",
     "output_type": "stream",
     "text": [
      "WARNING:absl:Function `_wrapped_model` contains input name(s) Input-Layer with unsupported characters which will be renamed to input_layer in the SavedModel.\n"
     ]
    },
    {
     "name": "stdout",
     "output_type": "stream",
     "text": [
      "INFO:tensorflow:Assets written to: saved_models\\DLModel_CV_CNN_VS01_ITER2\\assets\n"
     ]
    },
    {
     "name": "stderr",
     "output_type": "stream",
     "text": [
      "INFO:tensorflow:Assets written to: saved_models\\DLModel_CV_CNN_VS01_ITER2\\assets\n"
     ]
    },
    {
     "name": "stdout",
     "output_type": "stream",
     "text": [
      "Epoch 5/300\n",
      "986/986 [==============================] - 7s 7ms/step - loss: 0.3171 - accuracy: 0.8905 - val_loss: 0.2756 - val_accuracy: 0.9066\n",
      "\n",
      "Epoch 00005: val_loss did not improve from 0.23943\n",
      "Epoch 6/300\n",
      "986/986 [==============================] - 8s 8ms/step - loss: 0.2811 - accuracy: 0.8976 - val_loss: 0.2550 - val_accuracy: 0.9203\n",
      "\n",
      "Epoch 00006: val_loss did not improve from 0.23943\n",
      "Epoch 7/300\n",
      "986/986 [==============================] - 9s 9ms/step - loss: 0.2677 - accuracy: 0.9095 - val_loss: 0.2599 - val_accuracy: 0.9317\n",
      "\n",
      "Epoch 00007: val_loss did not improve from 0.23943\n",
      "Epoch 8/300\n",
      "986/986 [==============================] - 8s 8ms/step - loss: 0.2620 - accuracy: 0.9128 - val_loss: 0.2605 - val_accuracy: 0.9112\n",
      "\n",
      "Epoch 00008: val_loss did not improve from 0.23943\n",
      "Epoch 9/300\n",
      "986/986 [==============================] - 8s 8ms/step - loss: 0.2418 - accuracy: 0.9138 - val_loss: 0.2182 - val_accuracy: 0.9226\n",
      "\n",
      "Epoch 00009: val_loss improved from 0.23943 to 0.21821, saving model to saved_models\\DLModel_CV_CNN_VS01_ITER2\n"
     ]
    },
    {
     "name": "stderr",
     "output_type": "stream",
     "text": [
      "WARNING:absl:Function `_wrapped_model` contains input name(s) Input-Layer with unsupported characters which will be renamed to input_layer in the SavedModel.\n"
     ]
    },
    {
     "name": "stdout",
     "output_type": "stream",
     "text": [
      "INFO:tensorflow:Assets written to: saved_models\\DLModel_CV_CNN_VS01_ITER2\\assets\n"
     ]
    },
    {
     "name": "stderr",
     "output_type": "stream",
     "text": [
      "INFO:tensorflow:Assets written to: saved_models\\DLModel_CV_CNN_VS01_ITER2\\assets\n"
     ]
    },
    {
     "name": "stdout",
     "output_type": "stream",
     "text": [
      "Epoch 10/300\n",
      "986/986 [==============================] - 6s 6ms/step - loss: 0.2176 - accuracy: 0.9252 - val_loss: 0.2300 - val_accuracy: 0.9226\n",
      "\n",
      "Epoch 00010: val_loss did not improve from 0.21821\n",
      "Epoch 11/300\n",
      "986/986 [==============================] - 6s 6ms/step - loss: 0.2219 - accuracy: 0.9234 - val_loss: 0.2047 - val_accuracy: 0.9294\n",
      "\n",
      "Epoch 00011: val_loss improved from 0.21821 to 0.20467, saving model to saved_models\\DLModel_CV_CNN_VS01_ITER2\n"
     ]
    },
    {
     "name": "stderr",
     "output_type": "stream",
     "text": [
      "WARNING:absl:Function `_wrapped_model` contains input name(s) Input-Layer with unsupported characters which will be renamed to input_layer in the SavedModel.\n"
     ]
    },
    {
     "name": "stdout",
     "output_type": "stream",
     "text": [
      "INFO:tensorflow:Assets written to: saved_models\\DLModel_CV_CNN_VS01_ITER2\\assets\n"
     ]
    },
    {
     "name": "stderr",
     "output_type": "stream",
     "text": [
      "INFO:tensorflow:Assets written to: saved_models\\DLModel_CV_CNN_VS01_ITER2\\assets\n"
     ]
    },
    {
     "name": "stdout",
     "output_type": "stream",
     "text": [
      "Epoch 12/300\n",
      "986/986 [==============================] - 7s 7ms/step - loss: 0.2225 - accuracy: 0.9267 - val_loss: 0.1872 - val_accuracy: 0.9317\n",
      "\n",
      "Epoch 00012: val_loss improved from 0.20467 to 0.18716, saving model to saved_models\\DLModel_CV_CNN_VS01_ITER2\n"
     ]
    },
    {
     "name": "stderr",
     "output_type": "stream",
     "text": [
      "WARNING:absl:Function `_wrapped_model` contains input name(s) Input-Layer with unsupported characters which will be renamed to input_layer in the SavedModel.\n"
     ]
    },
    {
     "name": "stdout",
     "output_type": "stream",
     "text": [
      "INFO:tensorflow:Assets written to: saved_models\\DLModel_CV_CNN_VS01_ITER2\\assets\n"
     ]
    },
    {
     "name": "stderr",
     "output_type": "stream",
     "text": [
      "INFO:tensorflow:Assets written to: saved_models\\DLModel_CV_CNN_VS01_ITER2\\assets\n"
     ]
    },
    {
     "name": "stdout",
     "output_type": "stream",
     "text": [
      "Epoch 13/300\n",
      "986/986 [==============================] - 7s 7ms/step - loss: 0.2027 - accuracy: 0.9310 - val_loss: 0.1984 - val_accuracy: 0.9317\n",
      "\n",
      "Epoch 00013: val_loss did not improve from 0.18716\n",
      "Epoch 14/300\n",
      "986/986 [==============================] - 8s 8ms/step - loss: 0.2004 - accuracy: 0.9326 - val_loss: 0.2139 - val_accuracy: 0.9248\n",
      "\n",
      "Epoch 00014: val_loss did not improve from 0.18716\n",
      "Epoch 15/300\n",
      "986/986 [==============================] - 8s 8ms/step - loss: 0.1918 - accuracy: 0.9361 - val_loss: 0.2030 - val_accuracy: 0.9362\n",
      "\n",
      "Epoch 00015: val_loss did not improve from 0.18716\n",
      "Epoch 16/300\n",
      "986/986 [==============================] - 7s 8ms/step - loss: 0.1801 - accuracy: 0.9389 - val_loss: 0.2003 - val_accuracy: 0.9294\n",
      "\n",
      "Epoch 00016: val_loss did not improve from 0.18716\n",
      "Epoch 17/300\n",
      "986/986 [==============================] - 8s 8ms/step - loss: 0.1841 - accuracy: 0.9379 - val_loss: 0.1697 - val_accuracy: 0.9431\n",
      "\n",
      "Epoch 00017: val_loss improved from 0.18716 to 0.16965, saving model to saved_models\\DLModel_CV_CNN_VS01_ITER2\n"
     ]
    },
    {
     "name": "stderr",
     "output_type": "stream",
     "text": [
      "WARNING:absl:Function `_wrapped_model` contains input name(s) Input-Layer with unsupported characters which will be renamed to input_layer in the SavedModel.\n"
     ]
    },
    {
     "name": "stdout",
     "output_type": "stream",
     "text": [
      "INFO:tensorflow:Assets written to: saved_models\\DLModel_CV_CNN_VS01_ITER2\\assets\n"
     ]
    },
    {
     "name": "stderr",
     "output_type": "stream",
     "text": [
      "INFO:tensorflow:Assets written to: saved_models\\DLModel_CV_CNN_VS01_ITER2\\assets\n"
     ]
    },
    {
     "name": "stdout",
     "output_type": "stream",
     "text": [
      "Epoch 18/300\n",
      "986/986 [==============================] - 7s 7ms/step - loss: 0.1873 - accuracy: 0.9397 - val_loss: 0.1955 - val_accuracy: 0.9362\n",
      "\n",
      "Epoch 00018: val_loss did not improve from 0.16965\n",
      "Epoch 19/300\n",
      "986/986 [==============================] - 8s 8ms/step - loss: 0.1574 - accuracy: 0.9462 - val_loss: 0.1865 - val_accuracy: 0.9362\n",
      "\n",
      "Epoch 00019: val_loss did not improve from 0.16965\n",
      "Epoch 20/300\n",
      "986/986 [==============================] - 7s 8ms/step - loss: 0.1741 - accuracy: 0.9447 - val_loss: 0.1868 - val_accuracy: 0.9362\n",
      "\n",
      "Epoch 00020: val_loss did not improve from 0.16965\n",
      "Epoch 21/300\n",
      "986/986 [==============================] - 9s 9ms/step - loss: 0.1663 - accuracy: 0.9452 - val_loss: 0.1717 - val_accuracy: 0.9476\n",
      "\n",
      "Epoch 00021: val_loss did not improve from 0.16965\n",
      "Epoch 22/300\n",
      "986/986 [==============================] - 7s 7ms/step - loss: 0.1693 - accuracy: 0.9414 - val_loss: 0.1702 - val_accuracy: 0.9567\n",
      "\n",
      "Epoch 00022: val_loss did not improve from 0.16965\n",
      "Epoch 23/300\n",
      "986/986 [==============================] - 8s 8ms/step - loss: 0.1627 - accuracy: 0.9493 - val_loss: 0.2535 - val_accuracy: 0.9203\n",
      "\n",
      "Epoch 00023: val_loss did not improve from 0.16965\n",
      "Epoch 24/300\n",
      "986/986 [==============================] - 8s 8ms/step - loss: 0.1704 - accuracy: 0.9419 - val_loss: 0.2655 - val_accuracy: 0.9043\n",
      "\n",
      "Epoch 00024: val_loss did not improve from 0.16965\n",
      "Epoch 25/300\n",
      "986/986 [==============================] - 9s 9ms/step - loss: 0.1552 - accuracy: 0.9465 - val_loss: 0.1579 - val_accuracy: 0.9431\n",
      "\n",
      "Epoch 00025: val_loss improved from 0.16965 to 0.15793, saving model to saved_models\\DLModel_CV_CNN_VS01_ITER2\n"
     ]
    },
    {
     "name": "stderr",
     "output_type": "stream",
     "text": [
      "WARNING:absl:Function `_wrapped_model` contains input name(s) Input-Layer with unsupported characters which will be renamed to input_layer in the SavedModel.\n"
     ]
    },
    {
     "name": "stdout",
     "output_type": "stream",
     "text": [
      "INFO:tensorflow:Assets written to: saved_models\\DLModel_CV_CNN_VS01_ITER2\\assets\n"
     ]
    },
    {
     "name": "stderr",
     "output_type": "stream",
     "text": [
      "INFO:tensorflow:Assets written to: saved_models\\DLModel_CV_CNN_VS01_ITER2\\assets\n"
     ]
    },
    {
     "name": "stdout",
     "output_type": "stream",
     "text": [
      "Epoch 26/300\n",
      "986/986 [==============================] - 6s 6ms/step - loss: 0.1553 - accuracy: 0.9495 - val_loss: 0.1818 - val_accuracy: 0.9385\n",
      "\n",
      "Epoch 00026: val_loss did not improve from 0.15793\n",
      "Epoch 27/300\n",
      "986/986 [==============================] - 6s 6ms/step - loss: 0.1542 - accuracy: 0.9516 - val_loss: 0.1504 - val_accuracy: 0.9431\n",
      "\n",
      "Epoch 00027: val_loss improved from 0.15793 to 0.15038, saving model to saved_models\\DLModel_CV_CNN_VS01_ITER2\n"
     ]
    },
    {
     "name": "stderr",
     "output_type": "stream",
     "text": [
      "WARNING:absl:Function `_wrapped_model` contains input name(s) Input-Layer with unsupported characters which will be renamed to input_layer in the SavedModel.\n"
     ]
    },
    {
     "name": "stdout",
     "output_type": "stream",
     "text": [
      "INFO:tensorflow:Assets written to: saved_models\\DLModel_CV_CNN_VS01_ITER2\\assets\n"
     ]
    },
    {
     "name": "stderr",
     "output_type": "stream",
     "text": [
      "INFO:tensorflow:Assets written to: saved_models\\DLModel_CV_CNN_VS01_ITER2\\assets\n"
     ]
    },
    {
     "name": "stdout",
     "output_type": "stream",
     "text": [
      "Epoch 28/300\n",
      "986/986 [==============================] - 6s 6ms/step - loss: 0.1510 - accuracy: 0.9473 - val_loss: 0.1688 - val_accuracy: 0.9385\n",
      "\n",
      "Epoch 00028: val_loss did not improve from 0.15038\n",
      "Epoch 29/300\n",
      "986/986 [==============================] - 6s 6ms/step - loss: 0.1473 - accuracy: 0.9531 - val_loss: 0.1921 - val_accuracy: 0.9226\n",
      "\n",
      "Epoch 00029: val_loss did not improve from 0.15038\n",
      "Epoch 30/300\n",
      "986/986 [==============================] - 6s 6ms/step - loss: 0.1388 - accuracy: 0.9506 - val_loss: 0.1898 - val_accuracy: 0.9294\n",
      "\n",
      "Epoch 00030: val_loss did not improve from 0.15038\n",
      "Epoch 31/300\n",
      "986/986 [==============================] - 6s 6ms/step - loss: 0.1434 - accuracy: 0.9526 - val_loss: 0.1620 - val_accuracy: 0.9431\n",
      "\n",
      "Epoch 00031: val_loss did not improve from 0.15038\n",
      "Epoch 32/300\n",
      "986/986 [==============================] - 6s 6ms/step - loss: 0.1491 - accuracy: 0.9506 - val_loss: 0.1674 - val_accuracy: 0.9453\n",
      "\n",
      "Epoch 00032: val_loss did not improve from 0.15038\n",
      "Epoch 33/300\n",
      "986/986 [==============================] - 6s 6ms/step - loss: 0.1358 - accuracy: 0.9541 - val_loss: 0.1619 - val_accuracy: 0.9453\n",
      "\n",
      "Epoch 00033: val_loss did not improve from 0.15038\n",
      "Epoch 34/300\n",
      "986/986 [==============================] - 7s 7ms/step - loss: 0.1315 - accuracy: 0.9556 - val_loss: 0.1590 - val_accuracy: 0.9385\n",
      "\n",
      "Epoch 00034: val_loss did not improve from 0.15038\n",
      "Epoch 35/300\n",
      "986/986 [==============================] - 7s 7ms/step - loss: 0.1446 - accuracy: 0.9569 - val_loss: 0.1779 - val_accuracy: 0.9476\n",
      "\n",
      "Epoch 00035: val_loss did not improve from 0.15038\n",
      "\n",
      "Epoch 00035: ReduceLROnPlateau reducing learning rate to 0.0003000000142492354.\n",
      "Epoch 36/300\n",
      "986/986 [==============================] - 8s 8ms/step - loss: 0.0964 - accuracy: 0.9721 - val_loss: 0.1654 - val_accuracy: 0.9431\n",
      "\n",
      "Epoch 00036: val_loss did not improve from 0.15038\n",
      "Epoch 37/300\n",
      "986/986 [==============================] - 7s 7ms/step - loss: 0.0830 - accuracy: 0.9744 - val_loss: 0.1226 - val_accuracy: 0.9544\n",
      "\n",
      "Epoch 00037: val_loss improved from 0.15038 to 0.12265, saving model to saved_models\\DLModel_CV_CNN_VS01_ITER2\n"
     ]
    },
    {
     "name": "stderr",
     "output_type": "stream",
     "text": [
      "WARNING:absl:Function `_wrapped_model` contains input name(s) Input-Layer with unsupported characters which will be renamed to input_layer in the SavedModel.\n"
     ]
    },
    {
     "name": "stdout",
     "output_type": "stream",
     "text": [
      "INFO:tensorflow:Assets written to: saved_models\\DLModel_CV_CNN_VS01_ITER2\\assets\n"
     ]
    },
    {
     "name": "stderr",
     "output_type": "stream",
     "text": [
      "INFO:tensorflow:Assets written to: saved_models\\DLModel_CV_CNN_VS01_ITER2\\assets\n"
     ]
    },
    {
     "name": "stdout",
     "output_type": "stream",
     "text": [
      "Epoch 38/300\n",
      "986/986 [==============================] - 7s 7ms/step - loss: 0.0879 - accuracy: 0.9713 - val_loss: 0.1421 - val_accuracy: 0.9362\n",
      "\n",
      "Epoch 00038: val_loss did not improve from 0.12265\n",
      "Epoch 39/300\n",
      "986/986 [==============================] - 7s 7ms/step - loss: 0.0790 - accuracy: 0.9736 - val_loss: 0.1294 - val_accuracy: 0.9499\n",
      "\n",
      "Epoch 00039: val_loss did not improve from 0.12265\n",
      "Epoch 40/300\n",
      "986/986 [==============================] - 8s 8ms/step - loss: 0.0838 - accuracy: 0.9693 - val_loss: 0.1286 - val_accuracy: 0.9567\n",
      "\n",
      "Epoch 00040: val_loss did not improve from 0.12265\n",
      "Epoch 41/300\n",
      "986/986 [==============================] - 8s 8ms/step - loss: 0.0727 - accuracy: 0.9764 - val_loss: 0.1974 - val_accuracy: 0.9453\n",
      "\n",
      "Epoch 00041: val_loss did not improve from 0.12265\n",
      "Epoch 42/300\n",
      "986/986 [==============================] - 7s 7ms/step - loss: 0.0769 - accuracy: 0.9769 - val_loss: 0.1457 - val_accuracy: 0.9431\n",
      "\n",
      "Epoch 00042: val_loss did not improve from 0.12265\n",
      "Epoch 43/300\n",
      "986/986 [==============================] - 8s 8ms/step - loss: 0.0823 - accuracy: 0.9815 - val_loss: 0.1737 - val_accuracy: 0.9362\n",
      "\n",
      "Epoch 00043: val_loss did not improve from 0.12265\n",
      "Epoch 44/300\n",
      "986/986 [==============================] - 9s 10ms/step - loss: 0.0809 - accuracy: 0.9752 - val_loss: 0.1520 - val_accuracy: 0.9431\n",
      "\n",
      "Epoch 00044: val_loss did not improve from 0.12265\n",
      "Epoch 45/300\n",
      "986/986 [==============================] - 12s 12ms/step - loss: 0.0736 - accuracy: 0.9769 - val_loss: 0.1417 - val_accuracy: 0.9590\n",
      "\n",
      "Epoch 00045: val_loss did not improve from 0.12265\n",
      "\n",
      "Epoch 00045: ReduceLROnPlateau reducing learning rate to 9.000000427477062e-05.\n",
      "Epoch 46/300\n",
      "986/986 [==============================] - 16s 16ms/step - loss: 0.0573 - accuracy: 0.9810 - val_loss: 0.1417 - val_accuracy: 0.9544\n",
      "\n",
      "Epoch 00046: val_loss did not improve from 0.12265\n",
      "Epoch 47/300\n",
      "986/986 [==============================] - 8s 8ms/step - loss: 0.0523 - accuracy: 0.9835 - val_loss: 0.1462 - val_accuracy: 0.9544\n",
      "\n",
      "Epoch 00047: val_loss did not improve from 0.12265\n",
      "Epoch 48/300\n",
      "986/986 [==============================] - 7s 7ms/step - loss: 0.0594 - accuracy: 0.9823 - val_loss: 0.1454 - val_accuracy: 0.9613\n",
      "\n",
      "Epoch 00048: val_loss did not improve from 0.12265\n",
      "Epoch 49/300\n",
      "986/986 [==============================] - 7s 7ms/step - loss: 0.0489 - accuracy: 0.9840 - val_loss: 0.1548 - val_accuracy: 0.9567\n",
      "\n",
      "Epoch 00049: val_loss did not improve from 0.12265\n",
      "Epoch 50/300\n",
      "986/986 [==============================] - 7s 7ms/step - loss: 0.0508 - accuracy: 0.9843 - val_loss: 0.1636 - val_accuracy: 0.9590\n",
      "\n",
      "Epoch 00050: val_loss did not improve from 0.12265\n",
      "Epoch 51/300\n",
      "986/986 [==============================] - 7s 7ms/step - loss: 0.0504 - accuracy: 0.9845 - val_loss: 0.1741 - val_accuracy: 0.9522\n",
      "\n",
      "Epoch 00051: val_loss did not improve from 0.12265\n",
      "Epoch 52/300\n",
      "986/986 [==============================] - 7s 7ms/step - loss: 0.0559 - accuracy: 0.9830 - val_loss: 0.1648 - val_accuracy: 0.9567\n",
      "\n",
      "Epoch 00052: val_loss did not improve from 0.12265\n",
      "Epoch 53/300\n",
      "986/986 [==============================] - 7s 7ms/step - loss: 0.0487 - accuracy: 0.9835 - val_loss: 0.1548 - val_accuracy: 0.9590\n",
      "\n",
      "Epoch 00053: val_loss did not improve from 0.12265\n",
      "\n",
      "Epoch 00053: ReduceLROnPlateau reducing learning rate to 2.700000040931627e-05.\n",
      "Epoch 54/300\n",
      "986/986 [==============================] - 7s 7ms/step - loss: 0.0523 - accuracy: 0.9835 - val_loss: 0.1584 - val_accuracy: 0.9590\n",
      "\n",
      "Epoch 00054: val_loss did not improve from 0.12265\n",
      "Epoch 55/300\n",
      "986/986 [==============================] - 7s 7ms/step - loss: 0.0528 - accuracy: 0.9828 - val_loss: 0.1641 - val_accuracy: 0.9567\n",
      "\n",
      "Epoch 00055: val_loss did not improve from 0.12265\n",
      "Epoch 56/300\n",
      "986/986 [==============================] - 7s 7ms/step - loss: 0.0513 - accuracy: 0.9850 - val_loss: 0.1619 - val_accuracy: 0.9590\n",
      "\n",
      "Epoch 00056: val_loss did not improve from 0.12265\n",
      "Epoch 57/300\n",
      "986/986 [==============================] - 7s 7ms/step - loss: 0.0517 - accuracy: 0.9850 - val_loss: 0.1576 - val_accuracy: 0.9567\n",
      "\n",
      "Epoch 00057: val_loss did not improve from 0.12265\n",
      "Epoch 00057: early stopping\n",
      "487/487 [==============================] - 2s 3ms/step - loss: 0.1582 - accuracy: 0.9733\n"
     ]
    },
    {
     "data": {
      "image/png": "[encoded data removed]",
      "text/plain": [
       "<Figure size 432x288 with 1 Axes>"
      ]
     },
     "metadata": {
      "needs_background": "light"
     },
     "output_type": "display_data"
    },
    {
     "data": {
      "image/png": "[encoded data removed]",
      "text/plain": [
       "<Figure size 432x288 with 1 Axes>"
      ]
     },
     "metadata": {
      "needs_background": "light"
     },
     "output_type": "display_data"
    },
    {
     "name": "stdout",
     "output_type": "stream",
     "text": [
      "Iteration 3\n",
      "Splitting X and y of shapes (974000, 6) and (974000, 4)\n",
      "Training model DLModel_CV_CNN_VS01_ITER3\n",
      "Epoch 1/300\n",
      "986/986 [==============================] - 7s 6ms/step - loss: 0.7685 - accuracy: 0.6820 - val_loss: 0.4428 - val_accuracy: 0.8360\n",
      "\n",
      "Epoch 00001: val_loss improved from inf to 0.44278, saving model to saved_models\\DLModel_CV_CNN_VS01_ITER3\n"
     ]
    },
    {
     "name": "stderr",
     "output_type": "stream",
     "text": [
      "WARNING:absl:Function `_wrapped_model` contains input name(s) Input-Layer with unsupported characters which will be renamed to input_layer in the SavedModel.\n"
     ]
    },
    {
     "name": "stdout",
     "output_type": "stream",
     "text": [
      "INFO:tensorflow:Assets written to: saved_models\\DLModel_CV_CNN_VS01_ITER3\\assets\n"
     ]
    },
    {
     "name": "stderr",
     "output_type": "stream",
     "text": [
      "INFO:tensorflow:Assets written to: saved_models\\DLModel_CV_CNN_VS01_ITER3\\assets\n"
     ]
    },
    {
     "name": "stdout",
     "output_type": "stream",
     "text": [
      "Epoch 2/300\n",
      "986/986 [==============================] - 6s 6ms/step - loss: 0.4687 - accuracy: 0.8415 - val_loss: 0.2962 - val_accuracy: 0.8975\n",
      "\n",
      "Epoch 00002: val_loss improved from 0.44278 to 0.29618, saving model to saved_models\\DLModel_CV_CNN_VS01_ITER3\n"
     ]
    },
    {
     "name": "stderr",
     "output_type": "stream",
     "text": [
      "WARNING:absl:Function `_wrapped_model` contains input name(s) Input-Layer with unsupported characters which will be renamed to input_layer in the SavedModel.\n"
     ]
    },
    {
     "name": "stdout",
     "output_type": "stream",
     "text": [
      "INFO:tensorflow:Assets written to: saved_models\\DLModel_CV_CNN_VS01_ITER3\\assets\n"
     ]
    },
    {
     "name": "stderr",
     "output_type": "stream",
     "text": [
      "INFO:tensorflow:Assets written to: saved_models\\DLModel_CV_CNN_VS01_ITER3\\assets\n"
     ]
    },
    {
     "name": "stdout",
     "output_type": "stream",
     "text": [
      "Epoch 3/300\n",
      "986/986 [==============================] - 6s 6ms/step - loss: 0.3816 - accuracy: 0.8737 - val_loss: 0.2954 - val_accuracy: 0.9089\n",
      "\n",
      "Epoch 00003: val_loss improved from 0.29618 to 0.29538, saving model to saved_models\\DLModel_CV_CNN_VS01_ITER3\n"
     ]
    },
    {
     "name": "stderr",
     "output_type": "stream",
     "text": [
      "WARNING:absl:Function `_wrapped_model` contains input name(s) Input-Layer with unsupported characters which will be renamed to input_layer in the SavedModel.\n"
     ]
    },
    {
     "name": "stdout",
     "output_type": "stream",
     "text": [
      "INFO:tensorflow:Assets written to: saved_models\\DLModel_CV_CNN_VS01_ITER3\\assets\n"
     ]
    },
    {
     "name": "stderr",
     "output_type": "stream",
     "text": [
      "INFO:tensorflow:Assets written to: saved_models\\DLModel_CV_CNN_VS01_ITER3\\assets\n"
     ]
    },
    {
     "name": "stdout",
     "output_type": "stream",
     "text": [
      "Epoch 4/300\n",
      "986/986 [==============================] - 6s 6ms/step - loss: 0.3284 - accuracy: 0.8900 - val_loss: 0.2557 - val_accuracy: 0.9248\n",
      "\n",
      "Epoch 00004: val_loss improved from 0.29538 to 0.25573, saving model to saved_models\\DLModel_CV_CNN_VS01_ITER3\n"
     ]
    },
    {
     "name": "stderr",
     "output_type": "stream",
     "text": [
      "WARNING:absl:Function `_wrapped_model` contains input name(s) Input-Layer with unsupported characters which will be renamed to input_layer in the SavedModel.\n"
     ]
    },
    {
     "name": "stdout",
     "output_type": "stream",
     "text": [
      "INFO:tensorflow:Assets written to: saved_models\\DLModel_CV_CNN_VS01_ITER3\\assets\n"
     ]
    },
    {
     "name": "stderr",
     "output_type": "stream",
     "text": [
      "INFO:tensorflow:Assets written to: saved_models\\DLModel_CV_CNN_VS01_ITER3\\assets\n"
     ]
    },
    {
     "name": "stdout",
     "output_type": "stream",
     "text": [
      "Epoch 5/300\n",
      "986/986 [==============================] - 6s 6ms/step - loss: 0.3109 - accuracy: 0.8945 - val_loss: 0.2290 - val_accuracy: 0.9248\n",
      "\n",
      "Epoch 00005: val_loss improved from 0.25573 to 0.22896, saving model to saved_models\\DLModel_CV_CNN_VS01_ITER3\n"
     ]
    },
    {
     "name": "stderr",
     "output_type": "stream",
     "text": [
      "WARNING:absl:Function `_wrapped_model` contains input name(s) Input-Layer with unsupported characters which will be renamed to input_layer in the SavedModel.\n"
     ]
    },
    {
     "name": "stdout",
     "output_type": "stream",
     "text": [
      "INFO:tensorflow:Assets written to: saved_models\\DLModel_CV_CNN_VS01_ITER3\\assets\n"
     ]
    },
    {
     "name": "stderr",
     "output_type": "stream",
     "text": [
      "INFO:tensorflow:Assets written to: saved_models\\DLModel_CV_CNN_VS01_ITER3\\assets\n"
     ]
    },
    {
     "name": "stdout",
     "output_type": "stream",
     "text": [
      "Epoch 6/300\n",
      "986/986 [==============================] - 6s 6ms/step - loss: 0.2903 - accuracy: 0.8945 - val_loss: 0.2947 - val_accuracy: 0.8793\n",
      "\n",
      "Epoch 00006: val_loss did not improve from 0.22896\n",
      "Epoch 7/300\n",
      "986/986 [==============================] - 6s 6ms/step - loss: 0.2631 - accuracy: 0.9075 - val_loss: 0.2610 - val_accuracy: 0.9271\n",
      "\n",
      "Epoch 00007: val_loss did not improve from 0.22896\n",
      "Epoch 8/300\n",
      "986/986 [==============================] - 6s 7ms/step - loss: 0.2573 - accuracy: 0.9168 - val_loss: 0.2324 - val_accuracy: 0.9271\n",
      "\n",
      "Epoch 00008: val_loss did not improve from 0.22896\n",
      "Epoch 9/300\n",
      "986/986 [==============================] - 7s 7ms/step - loss: 0.2451 - accuracy: 0.9168 - val_loss: 0.2512 - val_accuracy: 0.9157\n",
      "\n",
      "Epoch 00009: val_loss did not improve from 0.22896\n",
      "Epoch 10/300\n",
      "986/986 [==============================] - 6s 7ms/step - loss: 0.2438 - accuracy: 0.9194 - val_loss: 0.2396 - val_accuracy: 0.9248\n",
      "\n",
      "Epoch 00010: val_loss did not improve from 0.22896\n",
      "Epoch 11/300\n",
      "986/986 [==============================] - 6s 6ms/step - loss: 0.2322 - accuracy: 0.9184 - val_loss: 0.2221 - val_accuracy: 0.9294\n",
      "\n",
      "Epoch 00011: val_loss improved from 0.22896 to 0.22214, saving model to saved_models\\DLModel_CV_CNN_VS01_ITER3\n"
     ]
    },
    {
     "name": "stderr",
     "output_type": "stream",
     "text": [
      "WARNING:absl:Function `_wrapped_model` contains input name(s) Input-Layer with unsupported characters which will be renamed to input_layer in the SavedModel.\n"
     ]
    },
    {
     "name": "stdout",
     "output_type": "stream",
     "text": [
      "INFO:tensorflow:Assets written to: saved_models\\DLModel_CV_CNN_VS01_ITER3\\assets\n"
     ]
    },
    {
     "name": "stderr",
     "output_type": "stream",
     "text": [
      "INFO:tensorflow:Assets written to: saved_models\\DLModel_CV_CNN_VS01_ITER3\\assets\n"
     ]
    },
    {
     "name": "stdout",
     "output_type": "stream",
     "text": [
      "Epoch 12/300\n",
      "986/986 [==============================] - 6s 6ms/step - loss: 0.2229 - accuracy: 0.9272 - val_loss: 0.2322 - val_accuracy: 0.9112\n",
      "\n",
      "Epoch 00012: val_loss did not improve from 0.22214\n",
      "Epoch 13/300\n",
      "986/986 [==============================] - 6s 6ms/step - loss: 0.2118 - accuracy: 0.9252 - val_loss: 0.2414 - val_accuracy: 0.9317\n",
      "\n",
      "Epoch 00013: val_loss did not improve from 0.22214\n",
      "Epoch 14/300\n",
      "986/986 [==============================] - 6s 6ms/step - loss: 0.2018 - accuracy: 0.9300 - val_loss: 0.1954 - val_accuracy: 0.9499\n",
      "\n",
      "Epoch 00014: val_loss improved from 0.22214 to 0.19541, saving model to saved_models\\DLModel_CV_CNN_VS01_ITER3\n"
     ]
    },
    {
     "name": "stderr",
     "output_type": "stream",
     "text": [
      "WARNING:absl:Function `_wrapped_model` contains input name(s) Input-Layer with unsupported characters which will be renamed to input_layer in the SavedModel.\n"
     ]
    },
    {
     "name": "stdout",
     "output_type": "stream",
     "text": [
      "INFO:tensorflow:Assets written to: saved_models\\DLModel_CV_CNN_VS01_ITER3\\assets\n"
     ]
    },
    {
     "name": "stderr",
     "output_type": "stream",
     "text": [
      "INFO:tensorflow:Assets written to: saved_models\\DLModel_CV_CNN_VS01_ITER3\\assets\n"
     ]
    },
    {
     "name": "stdout",
     "output_type": "stream",
     "text": [
      "Epoch 15/300\n",
      "986/986 [==============================] - 6s 6ms/step - loss: 0.2036 - accuracy: 0.9282 - val_loss: 0.2215 - val_accuracy: 0.9203\n",
      "\n",
      "Epoch 00015: val_loss did not improve from 0.19541\n",
      "Epoch 16/300\n",
      "986/986 [==============================] - 6s 6ms/step - loss: 0.1986 - accuracy: 0.9320 - val_loss: 0.1639 - val_accuracy: 0.9522\n",
      "\n",
      "Epoch 00016: val_loss improved from 0.19541 to 0.16387, saving model to saved_models\\DLModel_CV_CNN_VS01_ITER3\n"
     ]
    },
    {
     "name": "stderr",
     "output_type": "stream",
     "text": [
      "WARNING:absl:Function `_wrapped_model` contains input name(s) Input-Layer with unsupported characters which will be renamed to input_layer in the SavedModel.\n"
     ]
    },
    {
     "name": "stdout",
     "output_type": "stream",
     "text": [
      "INFO:tensorflow:Assets written to: saved_models\\DLModel_CV_CNN_VS01_ITER3\\assets\n"
     ]
    },
    {
     "name": "stderr",
     "output_type": "stream",
     "text": [
      "INFO:tensorflow:Assets written to: saved_models\\DLModel_CV_CNN_VS01_ITER3\\assets\n"
     ]
    },
    {
     "name": "stdout",
     "output_type": "stream",
     "text": [
      "Epoch 17/300\n",
      "986/986 [==============================] - 6s 6ms/step - loss: 0.1919 - accuracy: 0.9366 - val_loss: 0.1489 - val_accuracy: 0.9544\n",
      "\n",
      "Epoch 00017: val_loss improved from 0.16387 to 0.14893, saving model to saved_models\\DLModel_CV_CNN_VS01_ITER3\n"
     ]
    },
    {
     "name": "stderr",
     "output_type": "stream",
     "text": [
      "WARNING:absl:Function `_wrapped_model` contains input name(s) Input-Layer with unsupported characters which will be renamed to input_layer in the SavedModel.\n"
     ]
    },
    {
     "name": "stdout",
     "output_type": "stream",
     "text": [
      "INFO:tensorflow:Assets written to: saved_models\\DLModel_CV_CNN_VS01_ITER3\\assets\n"
     ]
    },
    {
     "name": "stderr",
     "output_type": "stream",
     "text": [
      "INFO:tensorflow:Assets written to: saved_models\\DLModel_CV_CNN_VS01_ITER3\\assets\n"
     ]
    },
    {
     "name": "stdout",
     "output_type": "stream",
     "text": [
      "Epoch 18/300\n",
      "986/986 [==============================] - 6s 6ms/step - loss: 0.1810 - accuracy: 0.9391 - val_loss: 0.1601 - val_accuracy: 0.9476\n",
      "\n",
      "Epoch 00018: val_loss did not improve from 0.14893\n",
      "Epoch 19/300\n",
      "986/986 [==============================] - 6s 6ms/step - loss: 0.1831 - accuracy: 0.9409 - val_loss: 0.1703 - val_accuracy: 0.9499\n",
      "\n",
      "Epoch 00019: val_loss did not improve from 0.14893\n",
      "Epoch 20/300\n",
      "986/986 [==============================] - 6s 6ms/step - loss: 0.1826 - accuracy: 0.9430 - val_loss: 0.1962 - val_accuracy: 0.9499\n",
      "\n",
      "Epoch 00020: val_loss did not improve from 0.14893\n",
      "Epoch 21/300\n",
      "986/986 [==============================] - 6s 6ms/step - loss: 0.1687 - accuracy: 0.9404 - val_loss: 0.1424 - val_accuracy: 0.9544\n",
      "\n",
      "Epoch 00021: val_loss improved from 0.14893 to 0.14240, saving model to saved_models\\DLModel_CV_CNN_VS01_ITER3\n"
     ]
    },
    {
     "name": "stderr",
     "output_type": "stream",
     "text": [
      "WARNING:absl:Function `_wrapped_model` contains input name(s) Input-Layer with unsupported characters which will be renamed to input_layer in the SavedModel.\n"
     ]
    },
    {
     "name": "stdout",
     "output_type": "stream",
     "text": [
      "INFO:tensorflow:Assets written to: saved_models\\DLModel_CV_CNN_VS01_ITER3\\assets\n"
     ]
    },
    {
     "name": "stderr",
     "output_type": "stream",
     "text": [
      "INFO:tensorflow:Assets written to: saved_models\\DLModel_CV_CNN_VS01_ITER3\\assets\n"
     ]
    },
    {
     "name": "stdout",
     "output_type": "stream",
     "text": [
      "Epoch 22/300\n",
      "986/986 [==============================] - 6s 6ms/step - loss: 0.1596 - accuracy: 0.9432 - val_loss: 0.1641 - val_accuracy: 0.9590\n",
      "\n",
      "Epoch 00022: val_loss did not improve from 0.14240\n",
      "Epoch 23/300\n",
      "986/986 [==============================] - 6s 6ms/step - loss: 0.1806 - accuracy: 0.9402 - val_loss: 0.2795 - val_accuracy: 0.9043\n",
      "\n",
      "Epoch 00023: val_loss did not improve from 0.14240\n",
      "Epoch 24/300\n",
      "986/986 [==============================] - 6s 6ms/step - loss: 0.1757 - accuracy: 0.9435 - val_loss: 0.1919 - val_accuracy: 0.9499\n",
      "\n",
      "Epoch 00024: val_loss did not improve from 0.14240\n",
      "Epoch 25/300\n",
      "986/986 [==============================] - 7s 7ms/step - loss: 0.1562 - accuracy: 0.9468 - val_loss: 0.1757 - val_accuracy: 0.9567\n",
      "\n",
      "Epoch 00025: val_loss did not improve from 0.14240\n",
      "Epoch 26/300\n",
      "986/986 [==============================] - 6s 7ms/step - loss: 0.1595 - accuracy: 0.9478 - val_loss: 0.1747 - val_accuracy: 0.9590\n",
      "\n",
      "Epoch 00026: val_loss did not improve from 0.14240\n",
      "Epoch 27/300\n",
      "986/986 [==============================] - 6s 7ms/step - loss: 0.1631 - accuracy: 0.9447 - val_loss: 0.1617 - val_accuracy: 0.9590\n",
      "\n",
      "Epoch 00027: val_loss did not improve from 0.14240\n",
      "Epoch 28/300\n",
      "986/986 [==============================] - 6s 7ms/step - loss: 0.1404 - accuracy: 0.9551 - val_loss: 0.1293 - val_accuracy: 0.9749\n",
      "\n",
      "Epoch 00028: val_loss improved from 0.14240 to 0.12933, saving model to saved_models\\DLModel_CV_CNN_VS01_ITER3\n"
     ]
    },
    {
     "name": "stderr",
     "output_type": "stream",
     "text": [
      "WARNING:absl:Function `_wrapped_model` contains input name(s) Input-Layer with unsupported characters which will be renamed to input_layer in the SavedModel.\n"
     ]
    },
    {
     "name": "stdout",
     "output_type": "stream",
     "text": [
      "INFO:tensorflow:Assets written to: saved_models\\DLModel_CV_CNN_VS01_ITER3\\assets\n"
     ]
    },
    {
     "name": "stderr",
     "output_type": "stream",
     "text": [
      "INFO:tensorflow:Assets written to: saved_models\\DLModel_CV_CNN_VS01_ITER3\\assets\n"
     ]
    },
    {
     "name": "stdout",
     "output_type": "stream",
     "text": [
      "Epoch 29/300\n",
      "986/986 [==============================] - 6s 6ms/step - loss: 0.1507 - accuracy: 0.9483 - val_loss: 0.1912 - val_accuracy: 0.9499\n",
      "\n",
      "Epoch 00029: val_loss did not improve from 0.12933\n",
      "Epoch 30/300\n",
      "986/986 [==============================] - 6s 6ms/step - loss: 0.1412 - accuracy: 0.9526 - val_loss: 0.1205 - val_accuracy: 0.9772\n",
      "\n",
      "Epoch 00030: val_loss improved from 0.12933 to 0.12053, saving model to saved_models\\DLModel_CV_CNN_VS01_ITER3\n"
     ]
    },
    {
     "name": "stderr",
     "output_type": "stream",
     "text": [
      "WARNING:absl:Function `_wrapped_model` contains input name(s) Input-Layer with unsupported characters which will be renamed to input_layer in the SavedModel.\n"
     ]
    },
    {
     "name": "stdout",
     "output_type": "stream",
     "text": [
      "INFO:tensorflow:Assets written to: saved_models\\DLModel_CV_CNN_VS01_ITER3\\assets\n"
     ]
    },
    {
     "name": "stderr",
     "output_type": "stream",
     "text": [
      "INFO:tensorflow:Assets written to: saved_models\\DLModel_CV_CNN_VS01_ITER3\\assets\n"
     ]
    },
    {
     "name": "stdout",
     "output_type": "stream",
     "text": [
      "Epoch 31/300\n",
      "986/986 [==============================] - 6s 6ms/step - loss: 0.1546 - accuracy: 0.9516 - val_loss: 0.1779 - val_accuracy: 0.9567\n",
      "\n",
      "Epoch 00031: val_loss did not improve from 0.12053\n",
      "Epoch 32/300\n",
      "986/986 [==============================] - 6s 6ms/step - loss: 0.1572 - accuracy: 0.9531 - val_loss: 0.1560 - val_accuracy: 0.9522\n",
      "\n",
      "Epoch 00032: val_loss did not improve from 0.12053\n",
      "Epoch 33/300\n",
      "986/986 [==============================] - 6s 6ms/step - loss: 0.1494 - accuracy: 0.9541 - val_loss: 0.1765 - val_accuracy: 0.9544\n",
      "\n",
      "Epoch 00033: val_loss did not improve from 0.12053\n",
      "Epoch 34/300\n",
      "986/986 [==============================] - 6s 6ms/step - loss: 0.1379 - accuracy: 0.9554 - val_loss: 0.1649 - val_accuracy: 0.9499\n",
      "\n",
      "Epoch 00034: val_loss did not improve from 0.12053\n",
      "Epoch 35/300\n",
      "986/986 [==============================] - 6s 6ms/step - loss: 0.1421 - accuracy: 0.9549 - val_loss: 0.2015 - val_accuracy: 0.9408\n",
      "\n",
      "Epoch 00035: val_loss did not improve from 0.12053\n",
      "Epoch 36/300\n",
      "986/986 [==============================] - 6s 6ms/step - loss: 0.1401 - accuracy: 0.9599 - val_loss: 0.2612 - val_accuracy: 0.9385\n",
      "\n",
      "Epoch 00036: val_loss did not improve from 0.12053\n",
      "Epoch 37/300\n",
      "986/986 [==============================] - 6s 6ms/step - loss: 0.1377 - accuracy: 0.9572 - val_loss: 0.1285 - val_accuracy: 0.9704\n",
      "\n",
      "Epoch 00037: val_loss did not improve from 0.12053\n",
      "Epoch 38/300\n",
      "986/986 [==============================] - 6s 7ms/step - loss: 0.1341 - accuracy: 0.9539 - val_loss: 0.1258 - val_accuracy: 0.9613\n",
      "\n",
      "Epoch 00038: val_loss did not improve from 0.12053\n",
      "\n",
      "Epoch 00038: ReduceLROnPlateau reducing learning rate to 0.0003000000142492354.\n",
      "Epoch 39/300\n",
      "986/986 [==============================] - 7s 7ms/step - loss: 0.0981 - accuracy: 0.9653 - val_loss: 0.1166 - val_accuracy: 0.9727\n",
      "\n",
      "Epoch 00039: val_loss improved from 0.12053 to 0.11658, saving model to saved_models\\DLModel_CV_CNN_VS01_ITER3\n"
     ]
    },
    {
     "name": "stderr",
     "output_type": "stream",
     "text": [
      "WARNING:absl:Function `_wrapped_model` contains input name(s) Input-Layer with unsupported characters which will be renamed to input_layer in the SavedModel.\n"
     ]
    },
    {
     "name": "stdout",
     "output_type": "stream",
     "text": [
      "INFO:tensorflow:Assets written to: saved_models\\DLModel_CV_CNN_VS01_ITER3\\assets\n"
     ]
    },
    {
     "name": "stderr",
     "output_type": "stream",
     "text": [
      "INFO:tensorflow:Assets written to: saved_models\\DLModel_CV_CNN_VS01_ITER3\\assets\n"
     ]
    },
    {
     "name": "stdout",
     "output_type": "stream",
     "text": [
      "Epoch 40/300\n",
      "986/986 [==============================] - 6s 6ms/step - loss: 0.0773 - accuracy: 0.9759 - val_loss: 0.1243 - val_accuracy: 0.9727\n",
      "\n",
      "Epoch 00040: val_loss did not improve from 0.11658\n",
      "Epoch 41/300\n",
      "986/986 [==============================] - 6s 6ms/step - loss: 0.0757 - accuracy: 0.9752 - val_loss: 0.1291 - val_accuracy: 0.9681\n",
      "\n",
      "Epoch 00041: val_loss did not improve from 0.11658\n",
      "Epoch 42/300\n",
      "986/986 [==============================] - 6s 6ms/step - loss: 0.0768 - accuracy: 0.9736 - val_loss: 0.1252 - val_accuracy: 0.9727\n",
      "\n",
      "Epoch 00042: val_loss did not improve from 0.11658\n",
      "Epoch 43/300\n",
      "986/986 [==============================] - 6s 6ms/step - loss: 0.0736 - accuracy: 0.9779 - val_loss: 0.1375 - val_accuracy: 0.9658\n",
      "\n",
      "Epoch 00043: val_loss did not improve from 0.11658\n",
      "Epoch 44/300\n",
      "986/986 [==============================] - 6s 6ms/step - loss: 0.0763 - accuracy: 0.9787 - val_loss: 0.1441 - val_accuracy: 0.9727\n",
      "\n",
      "Epoch 00044: val_loss did not improve from 0.11658\n",
      "Epoch 45/300\n",
      "986/986 [==============================] - 6s 6ms/step - loss: 0.0721 - accuracy: 0.9784 - val_loss: 0.1289 - val_accuracy: 0.9704\n",
      "\n",
      "Epoch 00045: val_loss did not improve from 0.11658\n",
      "Epoch 46/300\n",
      "986/986 [==============================] - 6s 7ms/step - loss: 0.0693 - accuracy: 0.9802 - val_loss: 0.1340 - val_accuracy: 0.9658\n",
      "\n",
      "Epoch 00046: val_loss did not improve from 0.11658\n",
      "Epoch 47/300\n",
      "986/986 [==============================] - 7s 7ms/step - loss: 0.0656 - accuracy: 0.9802 - val_loss: 0.1282 - val_accuracy: 0.9681\n",
      "\n",
      "Epoch 00047: val_loss did not improve from 0.11658\n",
      "\n",
      "Epoch 00047: ReduceLROnPlateau reducing learning rate to 9.000000427477062e-05.\n",
      "Epoch 48/300\n",
      "986/986 [==============================] - 6s 7ms/step - loss: 0.0597 - accuracy: 0.9805 - val_loss: 0.1329 - val_accuracy: 0.9704\n",
      "\n",
      "Epoch 00048: val_loss did not improve from 0.11658\n",
      "Epoch 49/300\n",
      "986/986 [==============================] - 6s 7ms/step - loss: 0.0711 - accuracy: 0.9802 - val_loss: 0.1323 - val_accuracy: 0.9749\n",
      "\n",
      "Epoch 00049: val_loss did not improve from 0.11658\n",
      "Epoch 50/300\n",
      "986/986 [==============================] - 6s 7ms/step - loss: 0.0593 - accuracy: 0.9825 - val_loss: 0.1320 - val_accuracy: 0.9727\n",
      "\n",
      "Epoch 00050: val_loss did not improve from 0.11658\n",
      "Epoch 51/300\n",
      "986/986 [==============================] - 7s 7ms/step - loss: 0.0478 - accuracy: 0.9863 - val_loss: 0.1356 - val_accuracy: 0.9727\n",
      "\n",
      "Epoch 00051: val_loss did not improve from 0.11658\n",
      "Epoch 52/300\n",
      "986/986 [==============================] - 6s 7ms/step - loss: 0.0542 - accuracy: 0.9828 - val_loss: 0.1248 - val_accuracy: 0.9727\n",
      "\n",
      "Epoch 00052: val_loss did not improve from 0.11658\n",
      "Epoch 53/300\n",
      "986/986 [==============================] - 7s 7ms/step - loss: 0.0441 - accuracy: 0.9861 - val_loss: 0.1340 - val_accuracy: 0.9704\n",
      "\n",
      "Epoch 00053: val_loss did not improve from 0.11658\n",
      "Epoch 54/300\n",
      "986/986 [==============================] - 8s 8ms/step - loss: 0.0488 - accuracy: 0.9848 - val_loss: 0.1411 - val_accuracy: 0.9704\n",
      "\n",
      "Epoch 00054: val_loss did not improve from 0.11658\n",
      "Epoch 55/300\n",
      "986/986 [==============================] - 7s 7ms/step - loss: 0.0560 - accuracy: 0.9828 - val_loss: 0.1309 - val_accuracy: 0.9727\n",
      "\n",
      "Epoch 00055: val_loss did not improve from 0.11658\n",
      "\n",
      "Epoch 00055: ReduceLROnPlateau reducing learning rate to 2.700000040931627e-05.\n",
      "Epoch 56/300\n",
      "986/986 [==============================] - 7s 7ms/step - loss: 0.0498 - accuracy: 0.9845 - val_loss: 0.1306 - val_accuracy: 0.9681\n",
      "\n",
      "Epoch 00056: val_loss did not improve from 0.11658\n",
      "Epoch 57/300\n",
      "986/986 [==============================] - 6s 6ms/step - loss: 0.0444 - accuracy: 0.9850 - val_loss: 0.1317 - val_accuracy: 0.9681\n",
      "\n",
      "Epoch 00057: val_loss did not improve from 0.11658\n",
      "Epoch 58/300\n",
      "986/986 [==============================] - 6s 6ms/step - loss: 0.0424 - accuracy: 0.9868 - val_loss: 0.1367 - val_accuracy: 0.9704\n",
      "\n",
      "Epoch 00058: val_loss did not improve from 0.11658\n",
      "Epoch 59/300\n",
      "986/986 [==============================] - 6s 6ms/step - loss: 0.0488 - accuracy: 0.9866 - val_loss: 0.1384 - val_accuracy: 0.9704\n",
      "\n",
      "Epoch 00059: val_loss did not improve from 0.11658\n",
      "Epoch 00059: early stopping\n",
      "487/487 [==============================] - 2s 3ms/step - loss: 0.1754 - accuracy: 0.9733\n"
     ]
    },
    {
     "data": {
      "image/png": "[encoded data removed]",
      "text/plain": [
       "<Figure size 432x288 with 1 Axes>"
      ]
     },
     "metadata": {
      "needs_background": "light"
     },
     "output_type": "display_data"
    },
    {
     "data": {
      "image/png": "[encoded data removed]",
      "text/plain": [
       "<Figure size 432x288 with 1 Axes>"
      ]
     },
     "metadata": {
      "needs_background": "light"
     },
     "output_type": "display_data"
    },
    {
     "name": "stdout",
     "output_type": "stream",
     "text": [
      "Iteration 4\n",
      "Splitting X and y of shapes (974000, 6) and (974000, 4)\n",
      "Training model DLModel_CV_CNN_VS01_ITER4\n",
      "Epoch 1/300\n",
      "986/986 [==============================] - 7s 6ms/step - loss: 0.7424 - accuracy: 0.6995 - val_loss: 0.4226 - val_accuracy: 0.8656\n",
      "\n",
      "Epoch 00001: val_loss improved from inf to 0.42256, saving model to saved_models\\DLModel_CV_CNN_VS01_ITER4\n"
     ]
    },
    {
     "name": "stderr",
     "output_type": "stream",
     "text": [
      "WARNING:absl:Function `_wrapped_model` contains input name(s) Input-Layer with unsupported characters which will be renamed to input_layer in the SavedModel.\n"
     ]
    },
    {
     "name": "stdout",
     "output_type": "stream",
     "text": [
      "INFO:tensorflow:Assets written to: saved_models\\DLModel_CV_CNN_VS01_ITER4\\assets\n"
     ]
    },
    {
     "name": "stderr",
     "output_type": "stream",
     "text": [
      "INFO:tensorflow:Assets written to: saved_models\\DLModel_CV_CNN_VS01_ITER4\\assets\n"
     ]
    },
    {
     "name": "stdout",
     "output_type": "stream",
     "text": [
      "Epoch 2/300\n",
      "986/986 [==============================] - 6s 6ms/step - loss: 0.4647 - accuracy: 0.8372 - val_loss: 0.4054 - val_accuracy: 0.8405\n",
      "\n",
      "Epoch 00002: val_loss improved from 0.42256 to 0.40536, saving model to saved_models\\DLModel_CV_CNN_VS01_ITER4\n"
     ]
    },
    {
     "name": "stderr",
     "output_type": "stream",
     "text": [
      "WARNING:absl:Function `_wrapped_model` contains input name(s) Input-Layer with unsupported characters which will be renamed to input_layer in the SavedModel.\n"
     ]
    },
    {
     "name": "stdout",
     "output_type": "stream",
     "text": [
      "INFO:tensorflow:Assets written to: saved_models\\DLModel_CV_CNN_VS01_ITER4\\assets\n"
     ]
    },
    {
     "name": "stderr",
     "output_type": "stream",
     "text": [
      "INFO:tensorflow:Assets written to: saved_models\\DLModel_CV_CNN_VS01_ITER4\\assets\n"
     ]
    },
    {
     "name": "stdout",
     "output_type": "stream",
     "text": [
      "Epoch 3/300\n",
      "986/986 [==============================] - 6s 6ms/step - loss: 0.3686 - accuracy: 0.8747 - val_loss: 0.3095 - val_accuracy: 0.9043\n",
      "\n",
      "Epoch 00003: val_loss improved from 0.40536 to 0.30954, saving model to saved_models\\DLModel_CV_CNN_VS01_ITER4\n"
     ]
    },
    {
     "name": "stderr",
     "output_type": "stream",
     "text": [
      "WARNING:absl:Function `_wrapped_model` contains input name(s) Input-Layer with unsupported characters which will be renamed to input_layer in the SavedModel.\n"
     ]
    },
    {
     "name": "stdout",
     "output_type": "stream",
     "text": [
      "INFO:tensorflow:Assets written to: saved_models\\DLModel_CV_CNN_VS01_ITER4\\assets\n"
     ]
    },
    {
     "name": "stderr",
     "output_type": "stream",
     "text": [
      "INFO:tensorflow:Assets written to: saved_models\\DLModel_CV_CNN_VS01_ITER4\\assets\n"
     ]
    },
    {
     "name": "stdout",
     "output_type": "stream",
     "text": [
      "Epoch 4/300\n",
      "986/986 [==============================] - 6s 6ms/step - loss: 0.3377 - accuracy: 0.8844 - val_loss: 0.2883 - val_accuracy: 0.9157\n",
      "\n",
      "Epoch 00004: val_loss improved from 0.30954 to 0.28829, saving model to saved_models\\DLModel_CV_CNN_VS01_ITER4\n"
     ]
    },
    {
     "name": "stderr",
     "output_type": "stream",
     "text": [
      "WARNING:absl:Function `_wrapped_model` contains input name(s) Input-Layer with unsupported characters which will be renamed to input_layer in the SavedModel.\n"
     ]
    },
    {
     "name": "stdout",
     "output_type": "stream",
     "text": [
      "INFO:tensorflow:Assets written to: saved_models\\DLModel_CV_CNN_VS01_ITER4\\assets\n"
     ]
    },
    {
     "name": "stderr",
     "output_type": "stream",
     "text": [
      "INFO:tensorflow:Assets written to: saved_models\\DLModel_CV_CNN_VS01_ITER4\\assets\n"
     ]
    },
    {
     "name": "stdout",
     "output_type": "stream",
     "text": [
      "Epoch 5/300\n",
      "986/986 [==============================] - 6s 6ms/step - loss: 0.2908 - accuracy: 0.9016 - val_loss: 0.3053 - val_accuracy: 0.8884\n",
      "\n",
      "Epoch 00005: val_loss did not improve from 0.28829\n",
      "Epoch 6/300\n",
      "986/986 [==============================] - 6s 6ms/step - loss: 0.2833 - accuracy: 0.8973 - val_loss: 0.2559 - val_accuracy: 0.9226\n",
      "\n",
      "Epoch 00006: val_loss improved from 0.28829 to 0.25586, saving model to saved_models\\DLModel_CV_CNN_VS01_ITER4\n"
     ]
    },
    {
     "name": "stderr",
     "output_type": "stream",
     "text": [
      "WARNING:absl:Function `_wrapped_model` contains input name(s) Input-Layer with unsupported characters which will be renamed to input_layer in the SavedModel.\n"
     ]
    },
    {
     "name": "stdout",
     "output_type": "stream",
     "text": [
      "INFO:tensorflow:Assets written to: saved_models\\DLModel_CV_CNN_VS01_ITER4\\assets\n"
     ]
    },
    {
     "name": "stderr",
     "output_type": "stream",
     "text": [
      "INFO:tensorflow:Assets written to: saved_models\\DLModel_CV_CNN_VS01_ITER4\\assets\n"
     ]
    },
    {
     "name": "stdout",
     "output_type": "stream",
     "text": [
      "Epoch 7/300\n",
      "986/986 [==============================] - 6s 6ms/step - loss: 0.2777 - accuracy: 0.9054 - val_loss: 0.2973 - val_accuracy: 0.8907\n",
      "\n",
      "Epoch 00007: val_loss did not improve from 0.25586\n",
      "Epoch 8/300\n",
      "986/986 [==============================] - 6s 6ms/step - loss: 0.2776 - accuracy: 0.9052 - val_loss: 0.3198 - val_accuracy: 0.8724\n",
      "\n",
      "Epoch 00008: val_loss did not improve from 0.25586\n",
      "Epoch 9/300\n",
      "986/986 [==============================] - 7s 7ms/step - loss: 0.2393 - accuracy: 0.9166 - val_loss: 0.2452 - val_accuracy: 0.9248\n",
      "\n",
      "Epoch 00009: val_loss improved from 0.25586 to 0.24521, saving model to saved_models\\DLModel_CV_CNN_VS01_ITER4\n"
     ]
    },
    {
     "name": "stderr",
     "output_type": "stream",
     "text": [
      "WARNING:absl:Function `_wrapped_model` contains input name(s) Input-Layer with unsupported characters which will be renamed to input_layer in the SavedModel.\n"
     ]
    },
    {
     "name": "stdout",
     "output_type": "stream",
     "text": [
      "INFO:tensorflow:Assets written to: saved_models\\DLModel_CV_CNN_VS01_ITER4\\assets\n"
     ]
    },
    {
     "name": "stderr",
     "output_type": "stream",
     "text": [
      "INFO:tensorflow:Assets written to: saved_models\\DLModel_CV_CNN_VS01_ITER4\\assets\n"
     ]
    },
    {
     "name": "stdout",
     "output_type": "stream",
     "text": [
      "Epoch 10/300\n",
      "986/986 [==============================] - 6s 6ms/step - loss: 0.2361 - accuracy: 0.9184 - val_loss: 0.2809 - val_accuracy: 0.9248\n",
      "\n",
      "Epoch 00010: val_loss did not improve from 0.24521\n",
      "Epoch 11/300\n",
      "986/986 [==============================] - 6s 6ms/step - loss: 0.2312 - accuracy: 0.9272 - val_loss: 0.2170 - val_accuracy: 0.9271\n",
      "\n",
      "Epoch 00011: val_loss improved from 0.24521 to 0.21700, saving model to saved_models\\DLModel_CV_CNN_VS01_ITER4\n"
     ]
    },
    {
     "name": "stderr",
     "output_type": "stream",
     "text": [
      "WARNING:absl:Function `_wrapped_model` contains input name(s) Input-Layer with unsupported characters which will be renamed to input_layer in the SavedModel.\n"
     ]
    },
    {
     "name": "stdout",
     "output_type": "stream",
     "text": [
      "INFO:tensorflow:Assets written to: saved_models\\DLModel_CV_CNN_VS01_ITER4\\assets\n"
     ]
    },
    {
     "name": "stderr",
     "output_type": "stream",
     "text": [
      "INFO:tensorflow:Assets written to: saved_models\\DLModel_CV_CNN_VS01_ITER4\\assets\n"
     ]
    },
    {
     "name": "stdout",
     "output_type": "stream",
     "text": [
      "Epoch 12/300\n",
      "986/986 [==============================] - 6s 6ms/step - loss: 0.2080 - accuracy: 0.9285 - val_loss: 0.2422 - val_accuracy: 0.9294\n",
      "\n",
      "Epoch 00012: val_loss did not improve from 0.21700\n",
      "Epoch 13/300\n",
      "986/986 [==============================] - 6s 6ms/step - loss: 0.2120 - accuracy: 0.9333 - val_loss: 0.3353 - val_accuracy: 0.8907\n",
      "\n",
      "Epoch 00013: val_loss did not improve from 0.21700\n",
      "Epoch 14/300\n",
      "986/986 [==============================] - 6s 6ms/step - loss: 0.2095 - accuracy: 0.9300 - val_loss: 0.2376 - val_accuracy: 0.9317\n",
      "\n",
      "Epoch 00014: val_loss did not improve from 0.21700\n",
      "Epoch 15/300\n",
      "986/986 [==============================] - 6s 6ms/step - loss: 0.1950 - accuracy: 0.9356 - val_loss: 0.2173 - val_accuracy: 0.9271\n",
      "\n",
      "Epoch 00015: val_loss did not improve from 0.21700\n",
      "Epoch 16/300\n",
      "986/986 [==============================] - 6s 6ms/step - loss: 0.1922 - accuracy: 0.9346 - val_loss: 0.2435 - val_accuracy: 0.9317\n",
      "\n",
      "Epoch 00016: val_loss did not improve from 0.21700\n",
      "Epoch 17/300\n",
      "986/986 [==============================] - 6s 7ms/step - loss: 0.1740 - accuracy: 0.9389 - val_loss: 0.2108 - val_accuracy: 0.9453\n",
      "\n",
      "Epoch 00017: val_loss improved from 0.21700 to 0.21080, saving model to saved_models\\DLModel_CV_CNN_VS01_ITER4\n"
     ]
    },
    {
     "name": "stderr",
     "output_type": "stream",
     "text": [
      "WARNING:absl:Function `_wrapped_model` contains input name(s) Input-Layer with unsupported characters which will be renamed to input_layer in the SavedModel.\n"
     ]
    },
    {
     "name": "stdout",
     "output_type": "stream",
     "text": [
      "INFO:tensorflow:Assets written to: saved_models\\DLModel_CV_CNN_VS01_ITER4\\assets\n"
     ]
    },
    {
     "name": "stderr",
     "output_type": "stream",
     "text": [
      "INFO:tensorflow:Assets written to: saved_models\\DLModel_CV_CNN_VS01_ITER4\\assets\n"
     ]
    },
    {
     "name": "stdout",
     "output_type": "stream",
     "text": [
      "Epoch 18/300\n",
      "986/986 [==============================] - 6s 6ms/step - loss: 0.1853 - accuracy: 0.9389 - val_loss: 0.2769 - val_accuracy: 0.9408\n",
      "\n",
      "Epoch 00018: val_loss did not improve from 0.21080\n",
      "Epoch 19/300\n",
      "986/986 [==============================] - 6s 6ms/step - loss: 0.1650 - accuracy: 0.9483 - val_loss: 0.2225 - val_accuracy: 0.9408\n",
      "\n",
      "Epoch 00019: val_loss did not improve from 0.21080\n",
      "Epoch 20/300\n",
      "986/986 [==============================] - 6s 6ms/step - loss: 0.1694 - accuracy: 0.9493 - val_loss: 0.2050 - val_accuracy: 0.9385\n",
      "\n",
      "Epoch 00020: val_loss improved from 0.21080 to 0.20503, saving model to saved_models\\DLModel_CV_CNN_VS01_ITER4\n"
     ]
    },
    {
     "name": "stderr",
     "output_type": "stream",
     "text": [
      "WARNING:absl:Function `_wrapped_model` contains input name(s) Input-Layer with unsupported characters which will be renamed to input_layer in the SavedModel.\n"
     ]
    },
    {
     "name": "stdout",
     "output_type": "stream",
     "text": [
      "INFO:tensorflow:Assets written to: saved_models\\DLModel_CV_CNN_VS01_ITER4\\assets\n"
     ]
    },
    {
     "name": "stderr",
     "output_type": "stream",
     "text": [
      "INFO:tensorflow:Assets written to: saved_models\\DLModel_CV_CNN_VS01_ITER4\\assets\n"
     ]
    },
    {
     "name": "stdout",
     "output_type": "stream",
     "text": [
      "Epoch 21/300\n",
      "986/986 [==============================] - 6s 6ms/step - loss: 0.1688 - accuracy: 0.9465 - val_loss: 0.2255 - val_accuracy: 0.9271\n",
      "\n",
      "Epoch 00021: val_loss did not improve from 0.20503\n",
      "Epoch 22/300\n",
      "986/986 [==============================] - 6s 6ms/step - loss: 0.1794 - accuracy: 0.9442 - val_loss: 0.2122 - val_accuracy: 0.9453\n",
      "\n",
      "Epoch 00022: val_loss did not improve from 0.20503\n",
      "Epoch 23/300\n",
      "986/986 [==============================] - 6s 6ms/step - loss: 0.1622 - accuracy: 0.9470 - val_loss: 0.2330 - val_accuracy: 0.9476\n",
      "\n",
      "Epoch 00023: val_loss did not improve from 0.20503\n",
      "Epoch 24/300\n",
      "986/986 [==============================] - 6s 7ms/step - loss: 0.1904 - accuracy: 0.9407 - val_loss: 0.2448 - val_accuracy: 0.9362\n",
      "\n",
      "Epoch 00024: val_loss did not improve from 0.20503\n",
      "Epoch 25/300\n",
      "986/986 [==============================] - 7s 7ms/step - loss: 0.1548 - accuracy: 0.9511 - val_loss: 0.2241 - val_accuracy: 0.9362\n",
      "\n",
      "Epoch 00025: val_loss did not improve from 0.20503\n",
      "Epoch 26/300\n",
      "986/986 [==============================] - 7s 7ms/step - loss: 0.1539 - accuracy: 0.9490 - val_loss: 0.2342 - val_accuracy: 0.9453\n",
      "\n",
      "Epoch 00026: val_loss did not improve from 0.20503\n",
      "Epoch 27/300\n",
      "986/986 [==============================] - 6s 6ms/step - loss: 0.1634 - accuracy: 0.9480 - val_loss: 0.2415 - val_accuracy: 0.9453\n",
      "\n",
      "Epoch 00027: val_loss did not improve from 0.20503\n",
      "Epoch 28/300\n",
      "986/986 [==============================] - 7s 7ms/step - loss: 0.1592 - accuracy: 0.9498 - val_loss: 0.3132 - val_accuracy: 0.9226\n",
      "\n",
      "Epoch 00028: val_loss did not improve from 0.20503\n",
      "\n",
      "Epoch 00028: ReduceLROnPlateau reducing learning rate to 0.0003000000142492354.\n",
      "Epoch 29/300\n",
      "986/986 [==============================] - 6s 7ms/step - loss: 0.1198 - accuracy: 0.9607 - val_loss: 0.2745 - val_accuracy: 0.9544\n",
      "\n",
      "Epoch 00029: val_loss did not improve from 0.20503\n",
      "Epoch 30/300\n",
      "986/986 [==============================] - 7s 7ms/step - loss: 0.0978 - accuracy: 0.9675 - val_loss: 0.3062 - val_accuracy: 0.9476\n",
      "\n",
      "Epoch 00030: val_loss did not improve from 0.20503\n",
      "Epoch 31/300\n",
      "986/986 [==============================] - 7s 7ms/step - loss: 0.0953 - accuracy: 0.9698 - val_loss: 0.2481 - val_accuracy: 0.9567\n",
      "\n",
      "Epoch 00031: val_loss did not improve from 0.20503\n",
      "Epoch 32/300\n",
      "986/986 [==============================] - 7s 7ms/step - loss: 0.1018 - accuracy: 0.9701 - val_loss: 0.2231 - val_accuracy: 0.9590\n",
      "\n",
      "Epoch 00032: val_loss did not improve from 0.20503\n",
      "Epoch 33/300\n",
      "986/986 [==============================] - 7s 7ms/step - loss: 0.0877 - accuracy: 0.9734 - val_loss: 0.2528 - val_accuracy: 0.9544\n",
      "\n",
      "Epoch 00033: val_loss did not improve from 0.20503\n",
      "Epoch 34/300\n",
      "986/986 [==============================] - 7s 7ms/step - loss: 0.0866 - accuracy: 0.9721 - val_loss: 0.2367 - val_accuracy: 0.9613\n",
      "\n",
      "Epoch 00034: val_loss did not improve from 0.20503\n",
      "Epoch 35/300\n",
      "986/986 [==============================] - 7s 7ms/step - loss: 0.0941 - accuracy: 0.9724 - val_loss: 0.2623 - val_accuracy: 0.9522\n",
      "\n",
      "Epoch 00035: val_loss did not improve from 0.20503\n",
      "Epoch 36/300\n",
      "986/986 [==============================] - 7s 7ms/step - loss: 0.0912 - accuracy: 0.9726 - val_loss: 0.2593 - val_accuracy: 0.9476\n",
      "\n",
      "Epoch 00036: val_loss did not improve from 0.20503\n",
      "\n",
      "Epoch 00036: ReduceLROnPlateau reducing learning rate to 9.000000427477062e-05.\n",
      "Epoch 37/300\n",
      "986/986 [==============================] - 7s 7ms/step - loss: 0.0695 - accuracy: 0.9764 - val_loss: 0.2654 - val_accuracy: 0.9522\n",
      "\n",
      "Epoch 00037: val_loss did not improve from 0.20503\n",
      "Epoch 38/300\n",
      "986/986 [==============================] - 7s 7ms/step - loss: 0.0699 - accuracy: 0.9784 - val_loss: 0.2779 - val_accuracy: 0.9613\n",
      "\n",
      "Epoch 00038: val_loss did not improve from 0.20503\n",
      "Epoch 39/300\n",
      "986/986 [==============================] - 7s 7ms/step - loss: 0.0630 - accuracy: 0.9790 - val_loss: 0.2527 - val_accuracy: 0.9590\n",
      "\n",
      "Epoch 00039: val_loss did not improve from 0.20503\n",
      "Epoch 40/300\n",
      "986/986 [==============================] - 7s 7ms/step - loss: 0.0734 - accuracy: 0.9762 - val_loss: 0.2691 - val_accuracy: 0.9567\n",
      "\n",
      "Epoch 00040: val_loss did not improve from 0.20503\n",
      "Epoch 00040: early stopping\n",
      "487/487 [==============================] - 2s 3ms/step - loss: 0.1708 - accuracy: 0.9610\n"
     ]
    },
    {
     "data": {
      "image/png": "[encoded data removed]",
      "text/plain": [
       "<Figure size 432x288 with 1 Axes>"
      ]
     },
     "metadata": {
      "needs_background": "light"
     },
     "output_type": "display_data"
    },
    {
     "data": {
      "image/png": "[encoded data removed]",
      "text/plain": [
       "<Figure size 432x288 with 1 Axes>"
      ]
     },
     "metadata": {
      "needs_background": "light"
     },
     "output_type": "display_data"
    },
    {
     "name": "stdout",
     "output_type": "stream",
     "text": [
      "Iteration 5\n",
      "Splitting X and y of shapes (974000, 6) and (974000, 4)\n",
      "Training model DLModel_CV_CNN_VS01_ITER5\n",
      "Epoch 1/300\n",
      "986/986 [==============================] - 7s 7ms/step - loss: 0.7686 - accuracy: 0.6742 - val_loss: 0.4768 - val_accuracy: 0.8132\n",
      "\n",
      "Epoch 00001: val_loss improved from inf to 0.47676, saving model to saved_models\\DLModel_CV_CNN_VS01_ITER5\n"
     ]
    },
    {
     "name": "stderr",
     "output_type": "stream",
     "text": [
      "WARNING:absl:Function `_wrapped_model` contains input name(s) Input-Layer with unsupported characters which will be renamed to input_layer in the SavedModel.\n"
     ]
    },
    {
     "name": "stdout",
     "output_type": "stream",
     "text": [
      "INFO:tensorflow:Assets written to: saved_models\\DLModel_CV_CNN_VS01_ITER5\\assets\n"
     ]
    },
    {
     "name": "stderr",
     "output_type": "stream",
     "text": [
      "INFO:tensorflow:Assets written to: saved_models\\DLModel_CV_CNN_VS01_ITER5\\assets\n"
     ]
    },
    {
     "name": "stdout",
     "output_type": "stream",
     "text": [
      "Epoch 2/300\n",
      "986/986 [==============================] - 6s 6ms/step - loss: 0.4619 - accuracy: 0.8392 - val_loss: 0.2946 - val_accuracy: 0.9112\n",
      "\n",
      "Epoch 00002: val_loss improved from 0.47676 to 0.29465, saving model to saved_models\\DLModel_CV_CNN_VS01_ITER5\n"
     ]
    },
    {
     "name": "stderr",
     "output_type": "stream",
     "text": [
      "WARNING:absl:Function `_wrapped_model` contains input name(s) Input-Layer with unsupported characters which will be renamed to input_layer in the SavedModel.\n"
     ]
    },
    {
     "name": "stdout",
     "output_type": "stream",
     "text": [
      "INFO:tensorflow:Assets written to: saved_models\\DLModel_CV_CNN_VS01_ITER5\\assets\n"
     ]
    },
    {
     "name": "stderr",
     "output_type": "stream",
     "text": [
      "INFO:tensorflow:Assets written to: saved_models\\DLModel_CV_CNN_VS01_ITER5\\assets\n"
     ]
    },
    {
     "name": "stdout",
     "output_type": "stream",
     "text": [
      "Epoch 3/300\n",
      "986/986 [==============================] - 6s 6ms/step - loss: 0.3812 - accuracy: 0.8715 - val_loss: 0.3185 - val_accuracy: 0.8975\n",
      "\n",
      "Epoch 00003: val_loss did not improve from 0.29465\n",
      "Epoch 4/300\n",
      "986/986 [==============================] - 6s 6ms/step - loss: 0.3402 - accuracy: 0.8821 - val_loss: 0.3087 - val_accuracy: 0.8907\n",
      "\n",
      "Epoch 00004: val_loss did not improve from 0.29465\n",
      "Epoch 5/300\n",
      "986/986 [==============================] - 6s 6ms/step - loss: 0.3128 - accuracy: 0.8879 - val_loss: 0.2870 - val_accuracy: 0.9157\n",
      "\n",
      "Epoch 00005: val_loss improved from 0.29465 to 0.28700, saving model to saved_models\\DLModel_CV_CNN_VS01_ITER5\n"
     ]
    },
    {
     "name": "stderr",
     "output_type": "stream",
     "text": [
      "WARNING:absl:Function `_wrapped_model` contains input name(s) Input-Layer with unsupported characters which will be renamed to input_layer in the SavedModel.\n"
     ]
    },
    {
     "name": "stdout",
     "output_type": "stream",
     "text": [
      "INFO:tensorflow:Assets written to: saved_models\\DLModel_CV_CNN_VS01_ITER5\\assets\n"
     ]
    },
    {
     "name": "stderr",
     "output_type": "stream",
     "text": [
      "INFO:tensorflow:Assets written to: saved_models\\DLModel_CV_CNN_VS01_ITER5\\assets\n"
     ]
    },
    {
     "name": "stdout",
     "output_type": "stream",
     "text": [
      "Epoch 6/300\n",
      "986/986 [==============================] - 6s 6ms/step - loss: 0.2813 - accuracy: 0.8950 - val_loss: 0.2993 - val_accuracy: 0.9271\n",
      "\n",
      "Epoch 00006: val_loss did not improve from 0.28700\n",
      "Epoch 7/300\n",
      "986/986 [==============================] - 6s 6ms/step - loss: 0.2537 - accuracy: 0.9120 - val_loss: 0.2795 - val_accuracy: 0.9226\n",
      "\n",
      "Epoch 00007: val_loss improved from 0.28700 to 0.27952, saving model to saved_models\\DLModel_CV_CNN_VS01_ITER5\n"
     ]
    },
    {
     "name": "stderr",
     "output_type": "stream",
     "text": [
      "WARNING:absl:Function `_wrapped_model` contains input name(s) Input-Layer with unsupported characters which will be renamed to input_layer in the SavedModel.\n"
     ]
    },
    {
     "name": "stdout",
     "output_type": "stream",
     "text": [
      "INFO:tensorflow:Assets written to: saved_models\\DLModel_CV_CNN_VS01_ITER5\\assets\n"
     ]
    },
    {
     "name": "stderr",
     "output_type": "stream",
     "text": [
      "INFO:tensorflow:Assets written to: saved_models\\DLModel_CV_CNN_VS01_ITER5\\assets\n"
     ]
    },
    {
     "name": "stdout",
     "output_type": "stream",
     "text": [
      "Epoch 8/300\n",
      "986/986 [==============================] - 6s 6ms/step - loss: 0.2507 - accuracy: 0.9120 - val_loss: 0.2457 - val_accuracy: 0.9271\n",
      "\n",
      "Epoch 00008: val_loss improved from 0.27952 to 0.24574, saving model to saved_models\\DLModel_CV_CNN_VS01_ITER5\n"
     ]
    },
    {
     "name": "stderr",
     "output_type": "stream",
     "text": [
      "WARNING:absl:Function `_wrapped_model` contains input name(s) Input-Layer with unsupported characters which will be renamed to input_layer in the SavedModel.\n"
     ]
    },
    {
     "name": "stdout",
     "output_type": "stream",
     "text": [
      "INFO:tensorflow:Assets written to: saved_models\\DLModel_CV_CNN_VS01_ITER5\\assets\n"
     ]
    },
    {
     "name": "stderr",
     "output_type": "stream",
     "text": [
      "INFO:tensorflow:Assets written to: saved_models\\DLModel_CV_CNN_VS01_ITER5\\assets\n"
     ]
    },
    {
     "name": "stdout",
     "output_type": "stream",
     "text": [
      "Epoch 9/300\n",
      "986/986 [==============================] - 6s 6ms/step - loss: 0.2560 - accuracy: 0.9148 - val_loss: 0.3274 - val_accuracy: 0.9248\n",
      "\n",
      "Epoch 00009: val_loss did not improve from 0.24574\n",
      "Epoch 10/300\n",
      "986/986 [==============================] - 6s 6ms/step - loss: 0.2346 - accuracy: 0.9199 - val_loss: 0.3302 - val_accuracy: 0.9180\n",
      "\n",
      "Epoch 00010: val_loss did not improve from 0.24574\n",
      "Epoch 11/300\n",
      "986/986 [==============================] - 9s 9ms/step - loss: 0.2459 - accuracy: 0.9163 - val_loss: 0.2607 - val_accuracy: 0.9294\n",
      "\n",
      "Epoch 00011: val_loss did not improve from 0.24574\n",
      "Epoch 12/300\n",
      "986/986 [==============================] - 7s 7ms/step - loss: 0.2340 - accuracy: 0.9219 - val_loss: 0.2277 - val_accuracy: 0.9271\n",
      "\n",
      "Epoch 00012: val_loss improved from 0.24574 to 0.22770, saving model to saved_models\\DLModel_CV_CNN_VS01_ITER5\n"
     ]
    },
    {
     "name": "stderr",
     "output_type": "stream",
     "text": [
      "WARNING:absl:Function `_wrapped_model` contains input name(s) Input-Layer with unsupported characters which will be renamed to input_layer in the SavedModel.\n"
     ]
    },
    {
     "name": "stdout",
     "output_type": "stream",
     "text": [
      "INFO:tensorflow:Assets written to: saved_models\\DLModel_CV_CNN_VS01_ITER5\\assets\n"
     ]
    },
    {
     "name": "stderr",
     "output_type": "stream",
     "text": [
      "INFO:tensorflow:Assets written to: saved_models\\DLModel_CV_CNN_VS01_ITER5\\assets\n"
     ]
    },
    {
     "name": "stdout",
     "output_type": "stream",
     "text": [
      "Epoch 13/300\n",
      "986/986 [==============================] - 7s 7ms/step - loss: 0.2223 - accuracy: 0.9255 - val_loss: 0.2819 - val_accuracy: 0.9157\n",
      "\n",
      "Epoch 00013: val_loss did not improve from 0.22770\n",
      "Epoch 14/300\n",
      "986/986 [==============================] - 7s 7ms/step - loss: 0.2072 - accuracy: 0.9275 - val_loss: 0.2446 - val_accuracy: 0.9362\n",
      "\n",
      "Epoch 00014: val_loss did not improve from 0.22770\n",
      "Epoch 15/300\n",
      "986/986 [==============================] - 7s 7ms/step - loss: 0.2103 - accuracy: 0.9282 - val_loss: 0.2723 - val_accuracy: 0.9248\n",
      "\n",
      "Epoch 00015: val_loss did not improve from 0.22770\n",
      "Epoch 16/300\n",
      "986/986 [==============================] - 7s 7ms/step - loss: 0.1995 - accuracy: 0.9333 - val_loss: 0.2605 - val_accuracy: 0.9294\n",
      "\n",
      "Epoch 00016: val_loss did not improve from 0.22770\n",
      "Epoch 17/300\n",
      "986/986 [==============================] - 7s 7ms/step - loss: 0.1881 - accuracy: 0.9402 - val_loss: 0.2449 - val_accuracy: 0.9317\n",
      "\n",
      "Epoch 00017: val_loss did not improve from 0.22770\n",
      "Epoch 18/300\n",
      "986/986 [==============================] - 7s 7ms/step - loss: 0.1885 - accuracy: 0.9399 - val_loss: 0.2448 - val_accuracy: 0.9339\n",
      "\n",
      "Epoch 00018: val_loss did not improve from 0.22770\n",
      "Epoch 19/300\n",
      "986/986 [==============================] - 7s 7ms/step - loss: 0.1861 - accuracy: 0.9386 - val_loss: 0.2322 - val_accuracy: 0.9248\n",
      "\n",
      "Epoch 00019: val_loss did not improve from 0.22770\n",
      "Epoch 20/300\n",
      "986/986 [==============================] - 7s 7ms/step - loss: 0.1707 - accuracy: 0.9435 - val_loss: 0.2351 - val_accuracy: 0.9453\n",
      "\n",
      "Epoch 00020: val_loss did not improve from 0.22770\n",
      "\n",
      "Epoch 00020: ReduceLROnPlateau reducing learning rate to 0.0003000000142492354.\n",
      "Epoch 21/300\n",
      "986/986 [==============================] - 7s 7ms/step - loss: 0.1220 - accuracy: 0.9627 - val_loss: 0.2339 - val_accuracy: 0.9453\n",
      "\n",
      "Epoch 00021: val_loss did not improve from 0.22770\n",
      "Epoch 22/300\n",
      "986/986 [==============================] - 7s 7ms/step - loss: 0.1107 - accuracy: 0.9655 - val_loss: 0.2319 - val_accuracy: 0.9453\n",
      "\n",
      "Epoch 00022: val_loss did not improve from 0.22770\n",
      "Epoch 23/300\n",
      "986/986 [==============================] - 6s 6ms/step - loss: 0.1079 - accuracy: 0.9665 - val_loss: 0.2230 - val_accuracy: 0.9408\n",
      "\n",
      "Epoch 00023: val_loss improved from 0.22770 to 0.22300, saving model to saved_models\\DLModel_CV_CNN_VS01_ITER5\n"
     ]
    },
    {
     "name": "stderr",
     "output_type": "stream",
     "text": [
      "WARNING:absl:Function `_wrapped_model` contains input name(s) Input-Layer with unsupported characters which will be renamed to input_layer in the SavedModel.\n"
     ]
    },
    {
     "name": "stdout",
     "output_type": "stream",
     "text": [
      "INFO:tensorflow:Assets written to: saved_models\\DLModel_CV_CNN_VS01_ITER5\\assets\n"
     ]
    },
    {
     "name": "stderr",
     "output_type": "stream",
     "text": [
      "INFO:tensorflow:Assets written to: saved_models\\DLModel_CV_CNN_VS01_ITER5\\assets\n"
     ]
    },
    {
     "name": "stdout",
     "output_type": "stream",
     "text": [
      "Epoch 24/300\n",
      "986/986 [==============================] - 7s 7ms/step - loss: 0.0890 - accuracy: 0.9719 - val_loss: 0.2415 - val_accuracy: 0.9408\n",
      "\n",
      "Epoch 00024: val_loss did not improve from 0.22300\n",
      "Epoch 25/300\n",
      "986/986 [==============================] - 7s 7ms/step - loss: 0.1022 - accuracy: 0.9681 - val_loss: 0.2538 - val_accuracy: 0.9431\n",
      "\n",
      "Epoch 00025: val_loss did not improve from 0.22300\n",
      "Epoch 26/300\n",
      "986/986 [==============================] - 6s 7ms/step - loss: 0.1056 - accuracy: 0.9665 - val_loss: 0.2170 - val_accuracy: 0.9476\n",
      "\n",
      "Epoch 00026: val_loss improved from 0.22300 to 0.21702, saving model to saved_models\\DLModel_CV_CNN_VS01_ITER5\n"
     ]
    },
    {
     "name": "stderr",
     "output_type": "stream",
     "text": [
      "WARNING:absl:Function `_wrapped_model` contains input name(s) Input-Layer with unsupported characters which will be renamed to input_layer in the SavedModel.\n"
     ]
    },
    {
     "name": "stdout",
     "output_type": "stream",
     "text": [
      "INFO:tensorflow:Assets written to: saved_models\\DLModel_CV_CNN_VS01_ITER5\\assets\n"
     ]
    },
    {
     "name": "stderr",
     "output_type": "stream",
     "text": [
      "INFO:tensorflow:Assets written to: saved_models\\DLModel_CV_CNN_VS01_ITER5\\assets\n"
     ]
    },
    {
     "name": "stdout",
     "output_type": "stream",
     "text": [
      "Epoch 27/300\n",
      "986/986 [==============================] - 7s 7ms/step - loss: 0.0830 - accuracy: 0.9716 - val_loss: 0.2200 - val_accuracy: 0.9499\n",
      "\n",
      "Epoch 00027: val_loss did not improve from 0.21702\n",
      "Epoch 28/300\n",
      "986/986 [==============================] - 7s 7ms/step - loss: 0.0879 - accuracy: 0.9739 - val_loss: 0.2464 - val_accuracy: 0.9453\n",
      "\n",
      "Epoch 00028: val_loss did not improve from 0.21702\n",
      "Epoch 29/300\n",
      "986/986 [==============================] - 6s 6ms/step - loss: 0.0757 - accuracy: 0.9757 - val_loss: 0.2204 - val_accuracy: 0.9408\n",
      "\n",
      "Epoch 00029: val_loss did not improve from 0.21702\n",
      "Epoch 30/300\n",
      "986/986 [==============================] - 6s 6ms/step - loss: 0.0955 - accuracy: 0.9670 - val_loss: 0.2202 - val_accuracy: 0.9431\n",
      "\n",
      "Epoch 00030: val_loss did not improve from 0.21702\n",
      "Epoch 31/300\n",
      "986/986 [==============================] - 6s 6ms/step - loss: 0.0847 - accuracy: 0.9726 - val_loss: 0.2077 - val_accuracy: 0.9453\n",
      "\n",
      "Epoch 00031: val_loss improved from 0.21702 to 0.20765, saving model to saved_models\\DLModel_CV_CNN_VS01_ITER5\n"
     ]
    },
    {
     "name": "stderr",
     "output_type": "stream",
     "text": [
      "WARNING:absl:Function `_wrapped_model` contains input name(s) Input-Layer with unsupported characters which will be renamed to input_layer in the SavedModel.\n"
     ]
    },
    {
     "name": "stdout",
     "output_type": "stream",
     "text": [
      "INFO:tensorflow:Assets written to: saved_models\\DLModel_CV_CNN_VS01_ITER5\\assets\n"
     ]
    },
    {
     "name": "stderr",
     "output_type": "stream",
     "text": [
      "INFO:tensorflow:Assets written to: saved_models\\DLModel_CV_CNN_VS01_ITER5\\assets\n"
     ]
    },
    {
     "name": "stdout",
     "output_type": "stream",
     "text": [
      "Epoch 32/300\n",
      "986/986 [==============================] - 6s 6ms/step - loss: 0.0958 - accuracy: 0.9701 - val_loss: 0.2416 - val_accuracy: 0.9567\n",
      "\n",
      "Epoch 00032: val_loss did not improve from 0.20765\n",
      "Epoch 33/300\n",
      "986/986 [==============================] - 7s 7ms/step - loss: 0.0765 - accuracy: 0.9744 - val_loss: 0.2563 - val_accuracy: 0.9453\n",
      "\n",
      "Epoch 00033: val_loss did not improve from 0.20765\n",
      "Epoch 34/300\n",
      "986/986 [==============================] - 6s 6ms/step - loss: 0.0797 - accuracy: 0.9749 - val_loss: 0.2198 - val_accuracy: 0.9499\n",
      "\n",
      "Epoch 00034: val_loss did not improve from 0.20765\n",
      "Epoch 35/300\n",
      "986/986 [==============================] - 6s 6ms/step - loss: 0.0749 - accuracy: 0.9752 - val_loss: 0.2181 - val_accuracy: 0.9476\n",
      "\n",
      "Epoch 00035: val_loss did not improve from 0.20765\n",
      "Epoch 36/300\n",
      "986/986 [==============================] - 7s 7ms/step - loss: 0.0753 - accuracy: 0.9744 - val_loss: 0.2171 - val_accuracy: 0.9567\n",
      "\n",
      "Epoch 00036: val_loss did not improve from 0.20765\n",
      "Epoch 37/300\n",
      "986/986 [==============================] - 9s 9ms/step - loss: 0.0736 - accuracy: 0.9764 - val_loss: 0.2798 - val_accuracy: 0.9522\n",
      "\n",
      "Epoch 00037: val_loss did not improve from 0.20765\n",
      "Epoch 38/300\n",
      "986/986 [==============================] - 14s 14ms/step - loss: 0.0682 - accuracy: 0.9787 - val_loss: 0.2674 - val_accuracy: 0.9476\n",
      "\n",
      "Epoch 00038: val_loss did not improve from 0.20765\n",
      "Epoch 39/300\n",
      "986/986 [==============================] - 8s 8ms/step - loss: 0.0778 - accuracy: 0.9787 - val_loss: 0.2232 - val_accuracy: 0.9613\n",
      "\n",
      "Epoch 00039: val_loss did not improve from 0.20765\n",
      "\n",
      "Epoch 00039: ReduceLROnPlateau reducing learning rate to 9.000000427477062e-05.\n",
      "Epoch 40/300\n",
      "986/986 [==============================] - 7s 7ms/step - loss: 0.0647 - accuracy: 0.9800 - val_loss: 0.2193 - val_accuracy: 0.9499\n",
      "\n",
      "Epoch 00040: val_loss did not improve from 0.20765\n",
      "Epoch 41/300\n",
      "986/986 [==============================] - 7s 7ms/step - loss: 0.0539 - accuracy: 0.9833 - val_loss: 0.2426 - val_accuracy: 0.9544\n",
      "\n",
      "Epoch 00041: val_loss did not improve from 0.20765\n",
      "Epoch 42/300\n",
      "986/986 [==============================] - 6s 6ms/step - loss: 0.0534 - accuracy: 0.9845 - val_loss: 0.2631 - val_accuracy: 0.9476\n",
      "\n",
      "Epoch 00042: val_loss did not improve from 0.20765\n",
      "Epoch 43/300\n",
      "986/986 [==============================] - 7s 7ms/step - loss: 0.0582 - accuracy: 0.9797 - val_loss: 0.2784 - val_accuracy: 0.9431\n",
      "\n",
      "Epoch 00043: val_loss did not improve from 0.20765\n",
      "Epoch 44/300\n",
      "986/986 [==============================] - 8s 8ms/step - loss: 0.0551 - accuracy: 0.9820 - val_loss: 0.2778 - val_accuracy: 0.9522\n",
      "\n",
      "Epoch 00044: val_loss did not improve from 0.20765\n",
      "Epoch 45/300\n",
      "986/986 [==============================] - 8s 8ms/step - loss: 0.0502 - accuracy: 0.9835 - val_loss: 0.2811 - val_accuracy: 0.9522\n",
      "\n",
      "Epoch 00045: val_loss did not improve from 0.20765\n",
      "Epoch 46/300\n",
      "986/986 [==============================] - 7s 7ms/step - loss: 0.0594 - accuracy: 0.9805 - val_loss: 0.2572 - val_accuracy: 0.9476\n",
      "\n",
      "Epoch 00046: val_loss did not improve from 0.20765\n",
      "Epoch 47/300\n",
      "986/986 [==============================] - 8s 8ms/step - loss: 0.0448 - accuracy: 0.9863 - val_loss: 0.2980 - val_accuracy: 0.9453\n",
      "\n",
      "Epoch 00047: val_loss did not improve from 0.20765\n",
      "\n",
      "Epoch 00047: ReduceLROnPlateau reducing learning rate to 2.700000040931627e-05.\n",
      "Epoch 48/300\n",
      "986/986 [==============================] - 8s 9ms/step - loss: 0.0479 - accuracy: 0.9853 - val_loss: 0.2858 - val_accuracy: 0.9499\n",
      "\n",
      "Epoch 00048: val_loss did not improve from 0.20765\n",
      "Epoch 49/300\n",
      "986/986 [==============================] - 7s 7ms/step - loss: 0.0451 - accuracy: 0.9850 - val_loss: 0.2812 - val_accuracy: 0.9476\n",
      "\n",
      "Epoch 00049: val_loss did not improve from 0.20765\n",
      "Epoch 50/300\n",
      "986/986 [==============================] - 8s 8ms/step - loss: 0.0513 - accuracy: 0.9861 - val_loss: 0.2752 - val_accuracy: 0.9522\n",
      "\n",
      "Epoch 00050: val_loss did not improve from 0.20765\n",
      "Epoch 51/300\n",
      "986/986 [==============================] - 7s 7ms/step - loss: 0.0416 - accuracy: 0.9871 - val_loss: 0.2698 - val_accuracy: 0.9544\n",
      "\n",
      "Epoch 00051: val_loss did not improve from 0.20765\n",
      "Epoch 00051: early stopping\n",
      "487/487 [==============================] - 3s 5ms/step - loss: 0.1223 - accuracy: 0.9713\n"
     ]
    },
    {
     "data": {
      "image/png": "[encoded data removed]",
      "text/plain": [
       "<Figure size 432x288 with 1 Axes>"
      ]
     },
     "metadata": {
      "needs_background": "light"
     },
     "output_type": "display_data"
    },
    {
     "data": {
      "image/png": "[encoded data removed]",
      "text/plain": [
       "<Figure size 432x288 with 1 Axes>"
      ]
     },
     "metadata": {
      "needs_background": "light"
     },
     "output_type": "display_data"
    },
    {
     "name": "stdout",
     "output_type": "stream",
     "text": [
      "Iteration 6\n",
      "Splitting X and y of shapes (974000, 6) and (974000, 4)\n",
      "Training model DLModel_CV_CNN_VS01_ITER6\n",
      "Epoch 1/300\n",
      "986/986 [==============================] - 8s 8ms/step - loss: 0.7942 - accuracy: 0.6711 - val_loss: 0.4065 - val_accuracy: 0.8360\n",
      "\n",
      "Epoch 00001: val_loss improved from inf to 0.40652, saving model to saved_models\\DLModel_CV_CNN_VS01_ITER6\n"
     ]
    },
    {
     "name": "stderr",
     "output_type": "stream",
     "text": [
      "WARNING:absl:Function `_wrapped_model` contains input name(s) Input-Layer with unsupported characters which will be renamed to input_layer in the SavedModel.\n"
     ]
    },
    {
     "name": "stdout",
     "output_type": "stream",
     "text": [
      "INFO:tensorflow:Assets written to: saved_models\\DLModel_CV_CNN_VS01_ITER6\\assets\n"
     ]
    },
    {
     "name": "stderr",
     "output_type": "stream",
     "text": [
      "INFO:tensorflow:Assets written to: saved_models\\DLModel_CV_CNN_VS01_ITER6\\assets\n"
     ]
    },
    {
     "name": "stdout",
     "output_type": "stream",
     "text": [
      "Epoch 2/300\n",
      "986/986 [==============================] - 7s 7ms/step - loss: 0.4715 - accuracy: 0.8294 - val_loss: 0.2828 - val_accuracy: 0.8975\n",
      "\n",
      "Epoch 00002: val_loss improved from 0.40652 to 0.28277, saving model to saved_models\\DLModel_CV_CNN_VS01_ITER6\n"
     ]
    },
    {
     "name": "stderr",
     "output_type": "stream",
     "text": [
      "WARNING:absl:Function `_wrapped_model` contains input name(s) Input-Layer with unsupported characters which will be renamed to input_layer in the SavedModel.\n"
     ]
    },
    {
     "name": "stdout",
     "output_type": "stream",
     "text": [
      "INFO:tensorflow:Assets written to: saved_models\\DLModel_CV_CNN_VS01_ITER6\\assets\n"
     ]
    },
    {
     "name": "stderr",
     "output_type": "stream",
     "text": [
      "INFO:tensorflow:Assets written to: saved_models\\DLModel_CV_CNN_VS01_ITER6\\assets\n"
     ]
    },
    {
     "name": "stdout",
     "output_type": "stream",
     "text": [
      "Epoch 3/300\n",
      "986/986 [==============================] - 6s 6ms/step - loss: 0.4013 - accuracy: 0.8649 - val_loss: 0.2779 - val_accuracy: 0.9066\n",
      "\n",
      "Epoch 00003: val_loss improved from 0.28277 to 0.27785, saving model to saved_models\\DLModel_CV_CNN_VS01_ITER6\n"
     ]
    },
    {
     "name": "stderr",
     "output_type": "stream",
     "text": [
      "WARNING:absl:Function `_wrapped_model` contains input name(s) Input-Layer with unsupported characters which will be renamed to input_layer in the SavedModel.\n"
     ]
    },
    {
     "name": "stdout",
     "output_type": "stream",
     "text": [
      "INFO:tensorflow:Assets written to: saved_models\\DLModel_CV_CNN_VS01_ITER6\\assets\n"
     ]
    },
    {
     "name": "stderr",
     "output_type": "stream",
     "text": [
      "INFO:tensorflow:Assets written to: saved_models\\DLModel_CV_CNN_VS01_ITER6\\assets\n"
     ]
    },
    {
     "name": "stdout",
     "output_type": "stream",
     "text": [
      "Epoch 4/300\n",
      "986/986 [==============================] - 11s 11ms/step - loss: 0.3531 - accuracy: 0.8816 - val_loss: 0.2352 - val_accuracy: 0.9180\n",
      "\n",
      "Epoch 00004: val_loss improved from 0.27785 to 0.23522, saving model to saved_models\\DLModel_CV_CNN_VS01_ITER6\n"
     ]
    },
    {
     "name": "stderr",
     "output_type": "stream",
     "text": [
      "WARNING:absl:Function `_wrapped_model` contains input name(s) Input-Layer with unsupported characters which will be renamed to input_layer in the SavedModel.\n"
     ]
    },
    {
     "name": "stdout",
     "output_type": "stream",
     "text": [
      "INFO:tensorflow:Assets written to: saved_models\\DLModel_CV_CNN_VS01_ITER6\\assets\n"
     ]
    },
    {
     "name": "stderr",
     "output_type": "stream",
     "text": [
      "INFO:tensorflow:Assets written to: saved_models\\DLModel_CV_CNN_VS01_ITER6\\assets\n"
     ]
    },
    {
     "name": "stdout",
     "output_type": "stream",
     "text": [
      "Epoch 5/300\n",
      "986/986 [==============================] - 9s 9ms/step - loss: 0.2996 - accuracy: 0.8991 - val_loss: 0.2475 - val_accuracy: 0.9180\n",
      "\n",
      "Epoch 00005: val_loss did not improve from 0.23522\n",
      "Epoch 6/300\n",
      "986/986 [==============================] - 9s 9ms/step - loss: 0.2770 - accuracy: 0.9085 - val_loss: 0.2660 - val_accuracy: 0.9203\n",
      "\n",
      "Epoch 00006: val_loss did not improve from 0.23522\n",
      "Epoch 7/300\n",
      "986/986 [==============================] - 8s 8ms/step - loss: 0.2757 - accuracy: 0.9044 - val_loss: 0.2070 - val_accuracy: 0.9362\n",
      "\n",
      "Epoch 00007: val_loss improved from 0.23522 to 0.20703, saving model to saved_models\\DLModel_CV_CNN_VS01_ITER6\n"
     ]
    },
    {
     "name": "stderr",
     "output_type": "stream",
     "text": [
      "WARNING:absl:Function `_wrapped_model` contains input name(s) Input-Layer with unsupported characters which will be renamed to input_layer in the SavedModel.\n"
     ]
    },
    {
     "name": "stdout",
     "output_type": "stream",
     "text": [
      "INFO:tensorflow:Assets written to: saved_models\\DLModel_CV_CNN_VS01_ITER6\\assets\n"
     ]
    },
    {
     "name": "stderr",
     "output_type": "stream",
     "text": [
      "INFO:tensorflow:Assets written to: saved_models\\DLModel_CV_CNN_VS01_ITER6\\assets\n"
     ]
    },
    {
     "name": "stdout",
     "output_type": "stream",
     "text": [
      "Epoch 8/300\n",
      "986/986 [==============================] - 6s 6ms/step - loss: 0.2695 - accuracy: 0.9021 - val_loss: 0.1912 - val_accuracy: 0.9408\n",
      "\n",
      "Epoch 00008: val_loss improved from 0.20703 to 0.19115, saving model to saved_models\\DLModel_CV_CNN_VS01_ITER6\n"
     ]
    },
    {
     "name": "stderr",
     "output_type": "stream",
     "text": [
      "WARNING:absl:Function `_wrapped_model` contains input name(s) Input-Layer with unsupported characters which will be renamed to input_layer in the SavedModel.\n"
     ]
    },
    {
     "name": "stdout",
     "output_type": "stream",
     "text": [
      "INFO:tensorflow:Assets written to: saved_models\\DLModel_CV_CNN_VS01_ITER6\\assets\n"
     ]
    },
    {
     "name": "stderr",
     "output_type": "stream",
     "text": [
      "INFO:tensorflow:Assets written to: saved_models\\DLModel_CV_CNN_VS01_ITER6\\assets\n"
     ]
    },
    {
     "name": "stdout",
     "output_type": "stream",
     "text": [
      "Epoch 9/300\n",
      "986/986 [==============================] - 6s 6ms/step - loss: 0.2363 - accuracy: 0.9171 - val_loss: 0.2059 - val_accuracy: 0.9408\n",
      "\n",
      "Epoch 00009: val_loss did not improve from 0.19115\n",
      "Epoch 10/300\n",
      "986/986 [==============================] - 6s 6ms/step - loss: 0.2238 - accuracy: 0.9214 - val_loss: 0.1850 - val_accuracy: 0.9544\n",
      "\n",
      "Epoch 00010: val_loss improved from 0.19115 to 0.18502, saving model to saved_models\\DLModel_CV_CNN_VS01_ITER6\n"
     ]
    },
    {
     "name": "stderr",
     "output_type": "stream",
     "text": [
      "WARNING:absl:Function `_wrapped_model` contains input name(s) Input-Layer with unsupported characters which will be renamed to input_layer in the SavedModel.\n"
     ]
    },
    {
     "name": "stdout",
     "output_type": "stream",
     "text": [
      "INFO:tensorflow:Assets written to: saved_models\\DLModel_CV_CNN_VS01_ITER6\\assets\n"
     ]
    },
    {
     "name": "stderr",
     "output_type": "stream",
     "text": [
      "INFO:tensorflow:Assets written to: saved_models\\DLModel_CV_CNN_VS01_ITER6\\assets\n"
     ]
    },
    {
     "name": "stdout",
     "output_type": "stream",
     "text": [
      "Epoch 11/300\n",
      "986/986 [==============================] - 6s 6ms/step - loss: 0.2219 - accuracy: 0.9224 - val_loss: 0.2224 - val_accuracy: 0.9271\n",
      "\n",
      "Epoch 00011: val_loss did not improve from 0.18502\n",
      "Epoch 12/300\n",
      "986/986 [==============================] - 6s 6ms/step - loss: 0.2167 - accuracy: 0.9267 - val_loss: 0.1910 - val_accuracy: 0.9317\n",
      "\n",
      "Epoch 00012: val_loss did not improve from 0.18502\n",
      "Epoch 13/300\n",
      "986/986 [==============================] - 6s 6ms/step - loss: 0.2164 - accuracy: 0.9244 - val_loss: 0.2160 - val_accuracy: 0.9499\n",
      "\n",
      "Epoch 00013: val_loss did not improve from 0.18502\n",
      "Epoch 14/300\n",
      "986/986 [==============================] - 7s 7ms/step - loss: 0.2011 - accuracy: 0.9303 - val_loss: 0.1916 - val_accuracy: 0.9499\n",
      "\n",
      "Epoch 00014: val_loss did not improve from 0.18502\n",
      "Epoch 15/300\n",
      "986/986 [==============================] - 6s 6ms/step - loss: 0.1909 - accuracy: 0.9353 - val_loss: 0.2243 - val_accuracy: 0.9317\n",
      "\n",
      "Epoch 00015: val_loss did not improve from 0.18502\n",
      "Epoch 16/300\n",
      "986/986 [==============================] - 6s 6ms/step - loss: 0.1949 - accuracy: 0.9351 - val_loss: 0.2136 - val_accuracy: 0.9499\n",
      "\n",
      "Epoch 00016: val_loss did not improve from 0.18502\n",
      "Epoch 17/300\n",
      "986/986 [==============================] - 6s 6ms/step - loss: 0.1919 - accuracy: 0.9353 - val_loss: 0.2381 - val_accuracy: 0.9203\n",
      "\n",
      "Epoch 00017: val_loss did not improve from 0.18502\n",
      "Epoch 18/300\n",
      "986/986 [==============================] - 6s 6ms/step - loss: 0.1894 - accuracy: 0.9379 - val_loss: 0.1577 - val_accuracy: 0.9522\n",
      "\n",
      "Epoch 00018: val_loss improved from 0.18502 to 0.15774, saving model to saved_models\\DLModel_CV_CNN_VS01_ITER6\n"
     ]
    },
    {
     "name": "stderr",
     "output_type": "stream",
     "text": [
      "WARNING:absl:Function `_wrapped_model` contains input name(s) Input-Layer with unsupported characters which will be renamed to input_layer in the SavedModel.\n"
     ]
    },
    {
     "name": "stdout",
     "output_type": "stream",
     "text": [
      "INFO:tensorflow:Assets written to: saved_models\\DLModel_CV_CNN_VS01_ITER6\\assets\n"
     ]
    },
    {
     "name": "stderr",
     "output_type": "stream",
     "text": [
      "INFO:tensorflow:Assets written to: saved_models\\DLModel_CV_CNN_VS01_ITER6\\assets\n"
     ]
    },
    {
     "name": "stdout",
     "output_type": "stream",
     "text": [
      "Epoch 19/300\n",
      "986/986 [==============================] - 5s 6ms/step - loss: 0.1745 - accuracy: 0.9430 - val_loss: 0.1735 - val_accuracy: 0.9453\n",
      "\n",
      "Epoch 00019: val_loss did not improve from 0.15774\n",
      "Epoch 20/300\n",
      "986/986 [==============================] - 5s 5ms/step - loss: 0.1730 - accuracy: 0.9389 - val_loss: 0.1966 - val_accuracy: 0.9476\n",
      "\n",
      "Epoch 00020: val_loss did not improve from 0.15774\n",
      "Epoch 21/300\n",
      "986/986 [==============================] - 6s 6ms/step - loss: 0.1579 - accuracy: 0.9478 - val_loss: 0.2155 - val_accuracy: 0.9453\n",
      "\n",
      "Epoch 00021: val_loss did not improve from 0.15774\n",
      "Epoch 22/300\n",
      "986/986 [==============================] - 6s 6ms/step - loss: 0.1796 - accuracy: 0.9432 - val_loss: 0.1993 - val_accuracy: 0.9453\n",
      "\n",
      "Epoch 00022: val_loss did not improve from 0.15774\n",
      "Epoch 23/300\n",
      "986/986 [==============================] - 6s 6ms/step - loss: 0.1879 - accuracy: 0.9389 - val_loss: 0.2000 - val_accuracy: 0.9499\n",
      "\n",
      "Epoch 00023: val_loss did not improve from 0.15774\n",
      "Epoch 24/300\n",
      "986/986 [==============================] - 6s 6ms/step - loss: 0.1757 - accuracy: 0.9414 - val_loss: 0.2064 - val_accuracy: 0.9339\n",
      "\n",
      "Epoch 00024: val_loss did not improve from 0.15774\n",
      "Epoch 25/300\n",
      "986/986 [==============================] - 6s 6ms/step - loss: 0.1515 - accuracy: 0.9518 - val_loss: 0.1933 - val_accuracy: 0.9499\n",
      "\n",
      "Epoch 00025: val_loss did not improve from 0.15774\n",
      "Epoch 26/300\n",
      "986/986 [==============================] - 6s 6ms/step - loss: 0.1592 - accuracy: 0.9503 - val_loss: 0.2026 - val_accuracy: 0.9431\n",
      "\n",
      "Epoch 00026: val_loss did not improve from 0.15774\n",
      "\n",
      "Epoch 00026: ReduceLROnPlateau reducing learning rate to 0.0003000000142492354.\n",
      "Epoch 27/300\n",
      "986/986 [==============================] - 6s 6ms/step - loss: 0.1221 - accuracy: 0.9599 - val_loss: 0.1440 - val_accuracy: 0.9613\n",
      "\n",
      "Epoch 00027: val_loss improved from 0.15774 to 0.14404, saving model to saved_models\\DLModel_CV_CNN_VS01_ITER6\n"
     ]
    },
    {
     "name": "stderr",
     "output_type": "stream",
     "text": [
      "WARNING:absl:Function `_wrapped_model` contains input name(s) Input-Layer with unsupported characters which will be renamed to input_layer in the SavedModel.\n"
     ]
    },
    {
     "name": "stdout",
     "output_type": "stream",
     "text": [
      "INFO:tensorflow:Assets written to: saved_models\\DLModel_CV_CNN_VS01_ITER6\\assets\n"
     ]
    },
    {
     "name": "stderr",
     "output_type": "stream",
     "text": [
      "INFO:tensorflow:Assets written to: saved_models\\DLModel_CV_CNN_VS01_ITER6\\assets\n"
     ]
    },
    {
     "name": "stdout",
     "output_type": "stream",
     "text": [
      "Epoch 28/300\n",
      "986/986 [==============================] - 5s 5ms/step - loss: 0.1084 - accuracy: 0.9658 - val_loss: 0.1725 - val_accuracy: 0.9453\n",
      "\n",
      "Epoch 00028: val_loss did not improve from 0.14404\n",
      "Epoch 29/300\n",
      "986/986 [==============================] - 6s 6ms/step - loss: 0.0984 - accuracy: 0.9673 - val_loss: 0.1783 - val_accuracy: 0.9567\n",
      "\n",
      "Epoch 00029: val_loss did not improve from 0.14404\n",
      "Epoch 30/300\n",
      "986/986 [==============================] - 6s 6ms/step - loss: 0.0957 - accuracy: 0.9683 - val_loss: 0.1968 - val_accuracy: 0.9567\n",
      "\n",
      "Epoch 00030: val_loss did not improve from 0.14404\n",
      "Epoch 31/300\n",
      "986/986 [==============================] - 6s 6ms/step - loss: 0.0854 - accuracy: 0.9739 - val_loss: 0.1965 - val_accuracy: 0.9590\n",
      "\n",
      "Epoch 00031: val_loss did not improve from 0.14404\n",
      "Epoch 32/300\n",
      "986/986 [==============================] - 6s 6ms/step - loss: 0.0955 - accuracy: 0.9706 - val_loss: 0.1959 - val_accuracy: 0.9522\n",
      "\n",
      "Epoch 00032: val_loss did not improve from 0.14404\n",
      "Epoch 33/300\n",
      "986/986 [==============================] - 6s 6ms/step - loss: 0.0814 - accuracy: 0.9734 - val_loss: 0.2005 - val_accuracy: 0.9522\n",
      "\n",
      "Epoch 00033: val_loss did not improve from 0.14404\n",
      "Epoch 34/300\n",
      "986/986 [==============================] - 6s 6ms/step - loss: 0.0767 - accuracy: 0.9744 - val_loss: 0.1615 - val_accuracy: 0.9613\n",
      "\n",
      "Epoch 00034: val_loss did not improve from 0.14404\n",
      "Epoch 35/300\n",
      "986/986 [==============================] - 6s 6ms/step - loss: 0.0784 - accuracy: 0.9752 - val_loss: 0.1599 - val_accuracy: 0.9544\n",
      "\n",
      "Epoch 00035: val_loss did not improve from 0.14404\n",
      "\n",
      "Epoch 00035: ReduceLROnPlateau reducing learning rate to 9.000000427477062e-05.\n",
      "Epoch 36/300\n",
      "986/986 [==============================] - 6s 6ms/step - loss: 0.0658 - accuracy: 0.9777 - val_loss: 0.1843 - val_accuracy: 0.9522\n",
      "\n",
      "Epoch 00036: val_loss did not improve from 0.14404\n",
      "Epoch 37/300\n",
      "986/986 [==============================] - 6s 6ms/step - loss: 0.0675 - accuracy: 0.9792 - val_loss: 0.2010 - val_accuracy: 0.9544\n",
      "\n",
      "Epoch 00037: val_loss did not improve from 0.14404\n",
      "Epoch 38/300\n",
      "986/986 [==============================] - 6s 6ms/step - loss: 0.0659 - accuracy: 0.9812 - val_loss: 0.1760 - val_accuracy: 0.9544\n",
      "\n",
      "Epoch 00038: val_loss did not improve from 0.14404\n",
      "Epoch 39/300\n",
      "986/986 [==============================] - 6s 6ms/step - loss: 0.0718 - accuracy: 0.9782 - val_loss: 0.1982 - val_accuracy: 0.9567\n",
      "\n",
      "Epoch 00039: val_loss did not improve from 0.14404\n",
      "Epoch 40/300\n",
      "986/986 [==============================] - 6s 6ms/step - loss: 0.0605 - accuracy: 0.9790 - val_loss: 0.1823 - val_accuracy: 0.9567\n",
      "\n",
      "Epoch 00040: val_loss did not improve from 0.14404\n",
      "Epoch 41/300\n",
      "986/986 [==============================] - 6s 6ms/step - loss: 0.0602 - accuracy: 0.9820 - val_loss: 0.1880 - val_accuracy: 0.9590\n",
      "\n",
      "Epoch 00041: val_loss did not improve from 0.14404\n",
      "Epoch 42/300\n",
      "986/986 [==============================] - 6s 6ms/step - loss: 0.0577 - accuracy: 0.9825 - val_loss: 0.1939 - val_accuracy: 0.9590\n",
      "\n",
      "Epoch 00042: val_loss did not improve from 0.14404\n",
      "Epoch 43/300\n",
      "986/986 [==============================] - 6s 6ms/step - loss: 0.0627 - accuracy: 0.9810 - val_loss: 0.2019 - val_accuracy: 0.9567\n",
      "\n",
      "Epoch 00043: val_loss did not improve from 0.14404\n",
      "\n",
      "Epoch 00043: ReduceLROnPlateau reducing learning rate to 2.700000040931627e-05.\n",
      "Epoch 44/300\n",
      "986/986 [==============================] - 6s 6ms/step - loss: 0.0603 - accuracy: 0.9823 - val_loss: 0.2039 - val_accuracy: 0.9613\n",
      "\n",
      "Epoch 00044: val_loss did not improve from 0.14404\n",
      "Epoch 45/300\n",
      "986/986 [==============================] - 6s 6ms/step - loss: 0.0586 - accuracy: 0.9802 - val_loss: 0.2144 - val_accuracy: 0.9544\n",
      "\n",
      "Epoch 00045: val_loss did not improve from 0.14404\n",
      "Epoch 46/300\n",
      "986/986 [==============================] - 6s 6ms/step - loss: 0.0512 - accuracy: 0.9835 - val_loss: 0.2083 - val_accuracy: 0.9544\n",
      "\n",
      "Epoch 00046: val_loss did not improve from 0.14404\n",
      "Epoch 47/300\n",
      "986/986 [==============================] - 6s 6ms/step - loss: 0.0535 - accuracy: 0.9823 - val_loss: 0.1977 - val_accuracy: 0.9590\n",
      "\n",
      "Epoch 00047: val_loss did not improve from 0.14404\n",
      "Epoch 00047: early stopping\n",
      "487/487 [==============================] - 2s 3ms/step - loss: 0.1396 - accuracy: 0.9671\n"
     ]
    },
    {
     "data": {
      "image/png": "[encoded data removed]",
      "text/plain": [
       "<Figure size 432x288 with 1 Axes>"
      ]
     },
     "metadata": {
      "needs_background": "light"
     },
     "output_type": "display_data"
    },
    {
     "data": {
      "image/png": "[encoded data removed]",
      "text/plain": [
       "<Figure size 432x288 with 1 Axes>"
      ]
     },
     "metadata": {
      "needs_background": "light"
     },
     "output_type": "display_data"
    },
    {
     "name": "stdout",
     "output_type": "stream",
     "text": [
      "Iteration 7\n",
      "Splitting X and y of shapes (974000, 6) and (974000, 4)\n",
      "Training model DLModel_CV_CNN_VS01_ITER7\n",
      "Epoch 1/300\n",
      "986/986 [==============================] - 7s 6ms/step - loss: 0.7705 - accuracy: 0.6815 - val_loss: 0.4359 - val_accuracy: 0.8588\n",
      "\n",
      "Epoch 00001: val_loss improved from inf to 0.43593, saving model to saved_models\\DLModel_CV_CNN_VS01_ITER7\n"
     ]
    },
    {
     "name": "stderr",
     "output_type": "stream",
     "text": [
      "WARNING:absl:Function `_wrapped_model` contains input name(s) Input-Layer with unsupported characters which will be renamed to input_layer in the SavedModel.\n"
     ]
    },
    {
     "name": "stdout",
     "output_type": "stream",
     "text": [
      "INFO:tensorflow:Assets written to: saved_models\\DLModel_CV_CNN_VS01_ITER7\\assets\n"
     ]
    },
    {
     "name": "stderr",
     "output_type": "stream",
     "text": [
      "INFO:tensorflow:Assets written to: saved_models\\DLModel_CV_CNN_VS01_ITER7\\assets\n"
     ]
    },
    {
     "name": "stdout",
     "output_type": "stream",
     "text": [
      "Epoch 2/300\n",
      "986/986 [==============================] - 5s 6ms/step - loss: 0.4670 - accuracy: 0.8332 - val_loss: 0.3364 - val_accuracy: 0.8884\n",
      "\n",
      "Epoch 00002: val_loss improved from 0.43593 to 0.33637, saving model to saved_models\\DLModel_CV_CNN_VS01_ITER7\n"
     ]
    },
    {
     "name": "stderr",
     "output_type": "stream",
     "text": [
      "WARNING:absl:Function `_wrapped_model` contains input name(s) Input-Layer with unsupported characters which will be renamed to input_layer in the SavedModel.\n"
     ]
    },
    {
     "name": "stdout",
     "output_type": "stream",
     "text": [
      "INFO:tensorflow:Assets written to: saved_models\\DLModel_CV_CNN_VS01_ITER7\\assets\n"
     ]
    },
    {
     "name": "stderr",
     "output_type": "stream",
     "text": [
      "INFO:tensorflow:Assets written to: saved_models\\DLModel_CV_CNN_VS01_ITER7\\assets\n"
     ]
    },
    {
     "name": "stdout",
     "output_type": "stream",
     "text": [
      "Epoch 3/300\n",
      "986/986 [==============================] - 5s 6ms/step - loss: 0.3828 - accuracy: 0.8745 - val_loss: 0.2688 - val_accuracy: 0.9134\n",
      "\n",
      "Epoch 00003: val_loss improved from 0.33637 to 0.26875, saving model to saved_models\\DLModel_CV_CNN_VS01_ITER7\n"
     ]
    },
    {
     "name": "stderr",
     "output_type": "stream",
     "text": [
      "WARNING:absl:Function `_wrapped_model` contains input name(s) Input-Layer with unsupported characters which will be renamed to input_layer in the SavedModel.\n"
     ]
    },
    {
     "name": "stdout",
     "output_type": "stream",
     "text": [
      "INFO:tensorflow:Assets written to: saved_models\\DLModel_CV_CNN_VS01_ITER7\\assets\n"
     ]
    },
    {
     "name": "stderr",
     "output_type": "stream",
     "text": [
      "INFO:tensorflow:Assets written to: saved_models\\DLModel_CV_CNN_VS01_ITER7\\assets\n"
     ]
    },
    {
     "name": "stdout",
     "output_type": "stream",
     "text": [
      "Epoch 4/300\n",
      "986/986 [==============================] - 5s 6ms/step - loss: 0.3535 - accuracy: 0.8788 - val_loss: 0.2692 - val_accuracy: 0.9134\n",
      "\n",
      "Epoch 00004: val_loss did not improve from 0.26875\n",
      "Epoch 5/300\n",
      "986/986 [==============================] - 6s 6ms/step - loss: 0.3181 - accuracy: 0.8933 - val_loss: 0.2641 - val_accuracy: 0.9134\n",
      "\n",
      "Epoch 00005: val_loss improved from 0.26875 to 0.26411, saving model to saved_models\\DLModel_CV_CNN_VS01_ITER7\n"
     ]
    },
    {
     "name": "stderr",
     "output_type": "stream",
     "text": [
      "WARNING:absl:Function `_wrapped_model` contains input name(s) Input-Layer with unsupported characters which will be renamed to input_layer in the SavedModel.\n"
     ]
    },
    {
     "name": "stdout",
     "output_type": "stream",
     "text": [
      "INFO:tensorflow:Assets written to: saved_models\\DLModel_CV_CNN_VS01_ITER7\\assets\n"
     ]
    },
    {
     "name": "stderr",
     "output_type": "stream",
     "text": [
      "INFO:tensorflow:Assets written to: saved_models\\DLModel_CV_CNN_VS01_ITER7\\assets\n"
     ]
    },
    {
     "name": "stdout",
     "output_type": "stream",
     "text": [
      "Epoch 6/300\n",
      "986/986 [==============================] - 6s 6ms/step - loss: 0.2736 - accuracy: 0.9087 - val_loss: 0.2064 - val_accuracy: 0.9362\n",
      "\n",
      "Epoch 00006: val_loss improved from 0.26411 to 0.20642, saving model to saved_models\\DLModel_CV_CNN_VS01_ITER7\n"
     ]
    },
    {
     "name": "stderr",
     "output_type": "stream",
     "text": [
      "WARNING:absl:Function `_wrapped_model` contains input name(s) Input-Layer with unsupported characters which will be renamed to input_layer in the SavedModel.\n"
     ]
    },
    {
     "name": "stdout",
     "output_type": "stream",
     "text": [
      "INFO:tensorflow:Assets written to: saved_models\\DLModel_CV_CNN_VS01_ITER7\\assets\n"
     ]
    },
    {
     "name": "stderr",
     "output_type": "stream",
     "text": [
      "INFO:tensorflow:Assets written to: saved_models\\DLModel_CV_CNN_VS01_ITER7\\assets\n"
     ]
    },
    {
     "name": "stdout",
     "output_type": "stream",
     "text": [
      "Epoch 7/300\n",
      "986/986 [==============================] - 6s 6ms/step - loss: 0.2935 - accuracy: 0.8958 - val_loss: 0.2235 - val_accuracy: 0.9317\n",
      "\n",
      "Epoch 00007: val_loss did not improve from 0.20642\n",
      "Epoch 8/300\n",
      "986/986 [==============================] - 6s 6ms/step - loss: 0.2627 - accuracy: 0.9102 - val_loss: 0.2651 - val_accuracy: 0.9134\n",
      "\n",
      "Epoch 00008: val_loss did not improve from 0.20642\n",
      "Epoch 9/300\n",
      "986/986 [==============================] - 6s 6ms/step - loss: 0.2466 - accuracy: 0.9123 - val_loss: 0.2134 - val_accuracy: 0.9522\n",
      "\n",
      "Epoch 00009: val_loss did not improve from 0.20642\n",
      "Epoch 10/300\n",
      "986/986 [==============================] - 6s 6ms/step - loss: 0.2310 - accuracy: 0.9217 - val_loss: 0.3262 - val_accuracy: 0.9043\n",
      "\n",
      "Epoch 00010: val_loss did not improve from 0.20642\n",
      "Epoch 11/300\n",
      "986/986 [==============================] - 7s 7ms/step - loss: 0.2336 - accuracy: 0.9234 - val_loss: 0.2290 - val_accuracy: 0.9339\n",
      "\n",
      "Epoch 00011: val_loss did not improve from 0.20642\n",
      "Epoch 12/300\n",
      "986/986 [==============================] - 7s 7ms/step - loss: 0.2215 - accuracy: 0.9270 - val_loss: 0.1990 - val_accuracy: 0.9362\n",
      "\n",
      "Epoch 00012: val_loss improved from 0.20642 to 0.19897, saving model to saved_models\\DLModel_CV_CNN_VS01_ITER7\n"
     ]
    },
    {
     "name": "stderr",
     "output_type": "stream",
     "text": [
      "WARNING:absl:Function `_wrapped_model` contains input name(s) Input-Layer with unsupported characters which will be renamed to input_layer in the SavedModel.\n"
     ]
    },
    {
     "name": "stdout",
     "output_type": "stream",
     "text": [
      "INFO:tensorflow:Assets written to: saved_models\\DLModel_CV_CNN_VS01_ITER7\\assets\n"
     ]
    },
    {
     "name": "stderr",
     "output_type": "stream",
     "text": [
      "INFO:tensorflow:Assets written to: saved_models\\DLModel_CV_CNN_VS01_ITER7\\assets\n"
     ]
    },
    {
     "name": "stdout",
     "output_type": "stream",
     "text": [
      "Epoch 13/300\n",
      "986/986 [==============================] - 7s 7ms/step - loss: 0.1965 - accuracy: 0.9346 - val_loss: 0.2116 - val_accuracy: 0.9385\n",
      "\n",
      "Epoch 00013: val_loss did not improve from 0.19897\n",
      "Epoch 14/300\n",
      "986/986 [==============================] - 7s 7ms/step - loss: 0.2067 - accuracy: 0.9277 - val_loss: 0.1962 - val_accuracy: 0.9408\n",
      "\n",
      "Epoch 00014: val_loss improved from 0.19897 to 0.19618, saving model to saved_models\\DLModel_CV_CNN_VS01_ITER7\n"
     ]
    },
    {
     "name": "stderr",
     "output_type": "stream",
     "text": [
      "WARNING:absl:Function `_wrapped_model` contains input name(s) Input-Layer with unsupported characters which will be renamed to input_layer in the SavedModel.\n"
     ]
    },
    {
     "name": "stdout",
     "output_type": "stream",
     "text": [
      "INFO:tensorflow:Assets written to: saved_models\\DLModel_CV_CNN_VS01_ITER7\\assets\n"
     ]
    },
    {
     "name": "stderr",
     "output_type": "stream",
     "text": [
      "INFO:tensorflow:Assets written to: saved_models\\DLModel_CV_CNN_VS01_ITER7\\assets\n"
     ]
    },
    {
     "name": "stdout",
     "output_type": "stream",
     "text": [
      "Epoch 15/300\n",
      "986/986 [==============================] - 6s 6ms/step - loss: 0.2020 - accuracy: 0.9318 - val_loss: 0.1993 - val_accuracy: 0.9431\n",
      "\n",
      "Epoch 00015: val_loss did not improve from 0.19618\n",
      "Epoch 16/300\n",
      "986/986 [==============================] - 5s 5ms/step - loss: 0.1988 - accuracy: 0.9336 - val_loss: 0.2065 - val_accuracy: 0.9453\n",
      "\n",
      "Epoch 00016: val_loss did not improve from 0.19618\n",
      "Epoch 17/300\n",
      "986/986 [==============================] - 5s 5ms/step - loss: 0.1947 - accuracy: 0.9376 - val_loss: 0.2499 - val_accuracy: 0.9248\n",
      "\n",
      "Epoch 00017: val_loss did not improve from 0.19618\n",
      "Epoch 18/300\n",
      "986/986 [==============================] - 5s 5ms/step - loss: 0.1955 - accuracy: 0.9371 - val_loss: 0.2239 - val_accuracy: 0.9339\n",
      "\n",
      "Epoch 00018: val_loss did not improve from 0.19618\n",
      "Epoch 19/300\n",
      "986/986 [==============================] - 5s 5ms/step - loss: 0.1799 - accuracy: 0.9419 - val_loss: 0.1952 - val_accuracy: 0.9385\n",
      "\n",
      "Epoch 00019: val_loss improved from 0.19618 to 0.19521, saving model to saved_models\\DLModel_CV_CNN_VS01_ITER7\n"
     ]
    },
    {
     "name": "stderr",
     "output_type": "stream",
     "text": [
      "WARNING:absl:Function `_wrapped_model` contains input name(s) Input-Layer with unsupported characters which will be renamed to input_layer in the SavedModel.\n"
     ]
    },
    {
     "name": "stdout",
     "output_type": "stream",
     "text": [
      "INFO:tensorflow:Assets written to: saved_models\\DLModel_CV_CNN_VS01_ITER7\\assets\n"
     ]
    },
    {
     "name": "stderr",
     "output_type": "stream",
     "text": [
      "INFO:tensorflow:Assets written to: saved_models\\DLModel_CV_CNN_VS01_ITER7\\assets\n"
     ]
    },
    {
     "name": "stdout",
     "output_type": "stream",
     "text": [
      "Epoch 20/300\n",
      "986/986 [==============================] - 5s 6ms/step - loss: 0.1847 - accuracy: 0.9381 - val_loss: 0.2045 - val_accuracy: 0.9453\n",
      "\n",
      "Epoch 00020: val_loss did not improve from 0.19521\n",
      "Epoch 21/300\n",
      "986/986 [==============================] - 6s 6ms/step - loss: 0.1669 - accuracy: 0.9430 - val_loss: 0.1975 - val_accuracy: 0.9522\n",
      "\n",
      "Epoch 00021: val_loss did not improve from 0.19521\n",
      "Epoch 22/300\n",
      "986/986 [==============================] - 6s 6ms/step - loss: 0.1864 - accuracy: 0.9381 - val_loss: 0.1787 - val_accuracy: 0.9522\n",
      "\n",
      "Epoch 00022: val_loss improved from 0.19521 to 0.17867, saving model to saved_models\\DLModel_CV_CNN_VS01_ITER7\n"
     ]
    },
    {
     "name": "stderr",
     "output_type": "stream",
     "text": [
      "WARNING:absl:Function `_wrapped_model` contains input name(s) Input-Layer with unsupported characters which will be renamed to input_layer in the SavedModel.\n"
     ]
    },
    {
     "name": "stdout",
     "output_type": "stream",
     "text": [
      "INFO:tensorflow:Assets written to: saved_models\\DLModel_CV_CNN_VS01_ITER7\\assets\n"
     ]
    },
    {
     "name": "stderr",
     "output_type": "stream",
     "text": [
      "INFO:tensorflow:Assets written to: saved_models\\DLModel_CV_CNN_VS01_ITER7\\assets\n"
     ]
    },
    {
     "name": "stdout",
     "output_type": "stream",
     "text": [
      "Epoch 23/300\n",
      "986/986 [==============================] - 6s 6ms/step - loss: 0.1737 - accuracy: 0.9430 - val_loss: 0.2117 - val_accuracy: 0.9499\n",
      "\n",
      "Epoch 00023: val_loss did not improve from 0.17867\n",
      "Epoch 24/300\n",
      "986/986 [==============================] - 5s 5ms/step - loss: 0.1710 - accuracy: 0.9488 - val_loss: 0.2111 - val_accuracy: 0.9339\n",
      "\n",
      "Epoch 00024: val_loss did not improve from 0.17867\n",
      "Epoch 25/300\n",
      "986/986 [==============================] - 5s 5ms/step - loss: 0.1560 - accuracy: 0.9493 - val_loss: 0.2059 - val_accuracy: 0.9522\n",
      "\n",
      "Epoch 00025: val_loss did not improve from 0.17867\n",
      "Epoch 26/300\n",
      "986/986 [==============================] - 5s 5ms/step - loss: 0.1503 - accuracy: 0.9513 - val_loss: 0.2787 - val_accuracy: 0.9248\n",
      "\n",
      "Epoch 00026: val_loss did not improve from 0.17867\n",
      "Epoch 27/300\n",
      "986/986 [==============================] - 5s 5ms/step - loss: 0.1663 - accuracy: 0.9488 - val_loss: 0.1913 - val_accuracy: 0.9544\n",
      "\n",
      "Epoch 00027: val_loss did not improve from 0.17867\n",
      "Epoch 28/300\n",
      "986/986 [==============================] - 5s 5ms/step - loss: 0.1567 - accuracy: 0.9460 - val_loss: 0.1943 - val_accuracy: 0.9499\n",
      "\n",
      "Epoch 00028: val_loss did not improve from 0.17867\n",
      "Epoch 29/300\n",
      "986/986 [==============================] - 5s 6ms/step - loss: 0.1541 - accuracy: 0.9513 - val_loss: 0.1965 - val_accuracy: 0.9453\n",
      "\n",
      "Epoch 00029: val_loss did not improve from 0.17867\n",
      "Epoch 30/300\n",
      "986/986 [==============================] - 6s 6ms/step - loss: 0.1685 - accuracy: 0.9465 - val_loss: 0.2107 - val_accuracy: 0.9408\n",
      "\n",
      "Epoch 00030: val_loss did not improve from 0.17867\n",
      "\n",
      "Epoch 00030: ReduceLROnPlateau reducing learning rate to 0.0003000000142492354.\n",
      "Epoch 31/300\n",
      "986/986 [==============================] - 6s 6ms/step - loss: 0.1078 - accuracy: 0.9650 - val_loss: 0.1873 - val_accuracy: 0.9613\n",
      "\n",
      "Epoch 00031: val_loss did not improve from 0.17867\n",
      "Epoch 32/300\n",
      "986/986 [==============================] - 6s 6ms/step - loss: 0.0990 - accuracy: 0.9645 - val_loss: 0.1955 - val_accuracy: 0.9567\n",
      "\n",
      "Epoch 00032: val_loss did not improve from 0.17867\n",
      "Epoch 33/300\n",
      "986/986 [==============================] - 6s 6ms/step - loss: 0.0945 - accuracy: 0.9711 - val_loss: 0.2039 - val_accuracy: 0.9544\n",
      "\n",
      "Epoch 00033: val_loss did not improve from 0.17867\n",
      "Epoch 34/300\n",
      "986/986 [==============================] - 6s 6ms/step - loss: 0.0907 - accuracy: 0.9691 - val_loss: 0.1795 - val_accuracy: 0.9613\n",
      "\n",
      "Epoch 00034: val_loss did not improve from 0.17867\n",
      "Epoch 35/300\n",
      "986/986 [==============================] - 6s 6ms/step - loss: 0.0809 - accuracy: 0.9744 - val_loss: 0.1821 - val_accuracy: 0.9613\n",
      "\n",
      "Epoch 00035: val_loss did not improve from 0.17867\n",
      "Epoch 36/300\n",
      "986/986 [==============================] - 6s 6ms/step - loss: 0.0882 - accuracy: 0.9711 - val_loss: 0.1653 - val_accuracy: 0.9613\n",
      "\n",
      "Epoch 00036: val_loss improved from 0.17867 to 0.16532, saving model to saved_models\\DLModel_CV_CNN_VS01_ITER7\n"
     ]
    },
    {
     "name": "stderr",
     "output_type": "stream",
     "text": [
      "WARNING:absl:Function `_wrapped_model` contains input name(s) Input-Layer with unsupported characters which will be renamed to input_layer in the SavedModel.\n"
     ]
    },
    {
     "name": "stdout",
     "output_type": "stream",
     "text": [
      "INFO:tensorflow:Assets written to: saved_models\\DLModel_CV_CNN_VS01_ITER7\\assets\n"
     ]
    },
    {
     "name": "stderr",
     "output_type": "stream",
     "text": [
      "INFO:tensorflow:Assets written to: saved_models\\DLModel_CV_CNN_VS01_ITER7\\assets\n"
     ]
    },
    {
     "name": "stdout",
     "output_type": "stream",
     "text": [
      "Epoch 37/300\n",
      "986/986 [==============================] - 5s 6ms/step - loss: 0.0878 - accuracy: 0.9726 - val_loss: 0.1874 - val_accuracy: 0.9567\n",
      "\n",
      "Epoch 00037: val_loss did not improve from 0.16532\n",
      "Epoch 38/300\n",
      "986/986 [==============================] - 5s 5ms/step - loss: 0.0800 - accuracy: 0.9708 - val_loss: 0.1873 - val_accuracy: 0.9567\n",
      "\n",
      "Epoch 00038: val_loss did not improve from 0.16532\n",
      "Epoch 39/300\n",
      "986/986 [==============================] - 6s 6ms/step - loss: 0.0881 - accuracy: 0.9736 - val_loss: 0.1869 - val_accuracy: 0.9590\n",
      "\n",
      "Epoch 00039: val_loss did not improve from 0.16532\n",
      "Epoch 40/300\n",
      "986/986 [==============================] - 6s 6ms/step - loss: 0.0795 - accuracy: 0.9767 - val_loss: 0.1859 - val_accuracy: 0.9590\n",
      "\n",
      "Epoch 00040: val_loss did not improve from 0.16532\n",
      "Epoch 41/300\n",
      "986/986 [==============================] - 6s 6ms/step - loss: 0.0728 - accuracy: 0.9777 - val_loss: 0.1775 - val_accuracy: 0.9567\n",
      "\n",
      "Epoch 00041: val_loss did not improve from 0.16532\n",
      "Epoch 42/300\n",
      "986/986 [==============================] - 6s 6ms/step - loss: 0.0801 - accuracy: 0.9754 - val_loss: 0.1814 - val_accuracy: 0.9590\n",
      "\n",
      "Epoch 00042: val_loss did not improve from 0.16532\n",
      "Epoch 43/300\n",
      "986/986 [==============================] - 6s 6ms/step - loss: 0.0845 - accuracy: 0.9716 - val_loss: 0.1866 - val_accuracy: 0.9590\n",
      "\n",
      "Epoch 00043: val_loss did not improve from 0.16532\n",
      "Epoch 44/300\n",
      "986/986 [==============================] - 6s 6ms/step - loss: 0.0767 - accuracy: 0.9784 - val_loss: 0.1972 - val_accuracy: 0.9567\n",
      "\n",
      "Epoch 00044: val_loss did not improve from 0.16532\n",
      "\n",
      "Epoch 00044: ReduceLROnPlateau reducing learning rate to 9.000000427477062e-05.\n",
      "Epoch 45/300\n",
      "986/986 [==============================] - 6s 6ms/step - loss: 0.0662 - accuracy: 0.9777 - val_loss: 0.2121 - val_accuracy: 0.9590\n",
      "\n",
      "Epoch 00045: val_loss did not improve from 0.16532\n",
      "Epoch 46/300\n",
      "986/986 [==============================] - 6s 6ms/step - loss: 0.0589 - accuracy: 0.9812 - val_loss: 0.2062 - val_accuracy: 0.9613\n",
      "\n",
      "Epoch 00046: val_loss did not improve from 0.16532\n",
      "Epoch 47/300\n",
      "986/986 [==============================] - 6s 6ms/step - loss: 0.0659 - accuracy: 0.9800 - val_loss: 0.2168 - val_accuracy: 0.9567\n",
      "\n",
      "Epoch 00047: val_loss did not improve from 0.16532\n",
      "Epoch 48/300\n",
      "986/986 [==============================] - 6s 6ms/step - loss: 0.0583 - accuracy: 0.9802 - val_loss: 0.2121 - val_accuracy: 0.9613\n",
      "\n",
      "Epoch 00048: val_loss did not improve from 0.16532\n",
      "Epoch 49/300\n",
      "986/986 [==============================] - 6s 6ms/step - loss: 0.0654 - accuracy: 0.9787 - val_loss: 0.2121 - val_accuracy: 0.9544\n",
      "\n",
      "Epoch 00049: val_loss did not improve from 0.16532\n",
      "Epoch 50/300\n",
      "986/986 [==============================] - 6s 6ms/step - loss: 0.0575 - accuracy: 0.9817 - val_loss: 0.2040 - val_accuracy: 0.9590\n",
      "\n",
      "Epoch 00050: val_loss did not improve from 0.16532\n",
      "Epoch 51/300\n",
      "986/986 [==============================] - 6s 6ms/step - loss: 0.0584 - accuracy: 0.9817 - val_loss: 0.2121 - val_accuracy: 0.9567\n",
      "\n",
      "Epoch 00051: val_loss did not improve from 0.16532\n",
      "Epoch 52/300\n",
      "986/986 [==============================] - 6s 6ms/step - loss: 0.0534 - accuracy: 0.9823 - val_loss: 0.2179 - val_accuracy: 0.9590\n",
      "\n",
      "Epoch 00052: val_loss did not improve from 0.16532\n",
      "\n",
      "Epoch 00052: ReduceLROnPlateau reducing learning rate to 2.700000040931627e-05.\n",
      "Epoch 53/300\n",
      "986/986 [==============================] - 6s 6ms/step - loss: 0.0607 - accuracy: 0.9812 - val_loss: 0.2145 - val_accuracy: 0.9590\n",
      "\n",
      "Epoch 00053: val_loss did not improve from 0.16532\n",
      "Epoch 54/300\n",
      "986/986 [==============================] - 6s 6ms/step - loss: 0.0549 - accuracy: 0.9833 - val_loss: 0.2191 - val_accuracy: 0.9590\n",
      "\n",
      "Epoch 00054: val_loss did not improve from 0.16532\n",
      "Epoch 55/300\n",
      "986/986 [==============================] - 6s 6ms/step - loss: 0.0508 - accuracy: 0.9835 - val_loss: 0.2190 - val_accuracy: 0.9567\n",
      "\n",
      "Epoch 00055: val_loss did not improve from 0.16532\n",
      "Epoch 56/300\n",
      "986/986 [==============================] - 6s 6ms/step - loss: 0.0526 - accuracy: 0.9817 - val_loss: 0.2166 - val_accuracy: 0.9590\n",
      "\n",
      "Epoch 00056: val_loss did not improve from 0.16532\n",
      "Epoch 00056: early stopping\n",
      "487/487 [==============================] - 2s 3ms/step - loss: 0.1674 - accuracy: 0.9589\n"
     ]
    },
    {
     "data": {
      "image/png": "[encoded data removed]",
      "text/plain": [
       "<Figure size 432x288 with 1 Axes>"
      ]
     },
     "metadata": {
      "needs_background": "light"
     },
     "output_type": "display_data"
    },
    {
     "data": {
      "image/png": "[encoded data removed]",
      "text/plain": [
       "<Figure size 432x288 with 1 Axes>"
      ]
     },
     "metadata": {
      "needs_background": "light"
     },
     "output_type": "display_data"
    },
    {
     "name": "stdout",
     "output_type": "stream",
     "text": [
      "Iteration 8\n",
      "Splitting X and y of shapes (974000, 6) and (974000, 4)\n",
      "Training model DLModel_CV_CNN_VS01_ITER8\n",
      "Epoch 1/300\n",
      "986/986 [==============================] - 6s 6ms/step - loss: 0.7805 - accuracy: 0.6742 - val_loss: 0.5605 - val_accuracy: 0.7768\n",
      "\n",
      "Epoch 00001: val_loss improved from inf to 0.56053, saving model to saved_models\\DLModel_CV_CNN_VS01_ITER8\n"
     ]
    },
    {
     "name": "stderr",
     "output_type": "stream",
     "text": [
      "WARNING:absl:Function `_wrapped_model` contains input name(s) Input-Layer with unsupported characters which will be renamed to input_layer in the SavedModel.\n"
     ]
    },
    {
     "name": "stdout",
     "output_type": "stream",
     "text": [
      "INFO:tensorflow:Assets written to: saved_models\\DLModel_CV_CNN_VS01_ITER8\\assets\n"
     ]
    },
    {
     "name": "stderr",
     "output_type": "stream",
     "text": [
      "INFO:tensorflow:Assets written to: saved_models\\DLModel_CV_CNN_VS01_ITER8\\assets\n"
     ]
    },
    {
     "name": "stdout",
     "output_type": "stream",
     "text": [
      "Epoch 2/300\n",
      "986/986 [==============================] - 5s 6ms/step - loss: 0.4635 - accuracy: 0.8387 - val_loss: 0.3463 - val_accuracy: 0.8702\n",
      "\n",
      "Epoch 00002: val_loss improved from 0.56053 to 0.34631, saving model to saved_models\\DLModel_CV_CNN_VS01_ITER8\n"
     ]
    },
    {
     "name": "stderr",
     "output_type": "stream",
     "text": [
      "WARNING:absl:Function `_wrapped_model` contains input name(s) Input-Layer with unsupported characters which will be renamed to input_layer in the SavedModel.\n"
     ]
    },
    {
     "name": "stdout",
     "output_type": "stream",
     "text": [
      "INFO:tensorflow:Assets written to: saved_models\\DLModel_CV_CNN_VS01_ITER8\\assets\n"
     ]
    },
    {
     "name": "stderr",
     "output_type": "stream",
     "text": [
      "INFO:tensorflow:Assets written to: saved_models\\DLModel_CV_CNN_VS01_ITER8\\assets\n"
     ]
    },
    {
     "name": "stdout",
     "output_type": "stream",
     "text": [
      "Epoch 3/300\n",
      "986/986 [==============================] - 5s 5ms/step - loss: 0.3802 - accuracy: 0.8704 - val_loss: 0.2924 - val_accuracy: 0.9180\n",
      "\n",
      "Epoch 00003: val_loss improved from 0.34631 to 0.29235, saving model to saved_models\\DLModel_CV_CNN_VS01_ITER8\n"
     ]
    },
    {
     "name": "stderr",
     "output_type": "stream",
     "text": [
      "WARNING:absl:Function `_wrapped_model` contains input name(s) Input-Layer with unsupported characters which will be renamed to input_layer in the SavedModel.\n"
     ]
    },
    {
     "name": "stdout",
     "output_type": "stream",
     "text": [
      "INFO:tensorflow:Assets written to: saved_models\\DLModel_CV_CNN_VS01_ITER8\\assets\n"
     ]
    },
    {
     "name": "stderr",
     "output_type": "stream",
     "text": [
      "INFO:tensorflow:Assets written to: saved_models\\DLModel_CV_CNN_VS01_ITER8\\assets\n"
     ]
    },
    {
     "name": "stdout",
     "output_type": "stream",
     "text": [
      "Epoch 4/300\n",
      "986/986 [==============================] - 5s 5ms/step - loss: 0.3207 - accuracy: 0.8917 - val_loss: 0.2499 - val_accuracy: 0.9248\n",
      "\n",
      "Epoch 00004: val_loss improved from 0.29235 to 0.24994, saving model to saved_models\\DLModel_CV_CNN_VS01_ITER8\n"
     ]
    },
    {
     "name": "stderr",
     "output_type": "stream",
     "text": [
      "WARNING:absl:Function `_wrapped_model` contains input name(s) Input-Layer with unsupported characters which will be renamed to input_layer in the SavedModel.\n"
     ]
    },
    {
     "name": "stdout",
     "output_type": "stream",
     "text": [
      "INFO:tensorflow:Assets written to: saved_models\\DLModel_CV_CNN_VS01_ITER8\\assets\n"
     ]
    },
    {
     "name": "stderr",
     "output_type": "stream",
     "text": [
      "INFO:tensorflow:Assets written to: saved_models\\DLModel_CV_CNN_VS01_ITER8\\assets\n"
     ]
    },
    {
     "name": "stdout",
     "output_type": "stream",
     "text": [
      "Epoch 5/300\n",
      "986/986 [==============================] - 5s 6ms/step - loss: 0.3023 - accuracy: 0.8971 - val_loss: 0.2392 - val_accuracy: 0.9248\n",
      "\n",
      "Epoch 00005: val_loss improved from 0.24994 to 0.23919, saving model to saved_models\\DLModel_CV_CNN_VS01_ITER8\n"
     ]
    },
    {
     "name": "stderr",
     "output_type": "stream",
     "text": [
      "WARNING:absl:Function `_wrapped_model` contains input name(s) Input-Layer with unsupported characters which will be renamed to input_layer in the SavedModel.\n"
     ]
    },
    {
     "name": "stdout",
     "output_type": "stream",
     "text": [
      "INFO:tensorflow:Assets written to: saved_models\\DLModel_CV_CNN_VS01_ITER8\\assets\n"
     ]
    },
    {
     "name": "stderr",
     "output_type": "stream",
     "text": [
      "INFO:tensorflow:Assets written to: saved_models\\DLModel_CV_CNN_VS01_ITER8\\assets\n"
     ]
    },
    {
     "name": "stdout",
     "output_type": "stream",
     "text": [
      "Epoch 6/300\n",
      "986/986 [==============================] - 5s 5ms/step - loss: 0.2942 - accuracy: 0.8968 - val_loss: 0.2739 - val_accuracy: 0.9112\n",
      "\n",
      "Epoch 00006: val_loss did not improve from 0.23919\n",
      "Epoch 7/300\n",
      "986/986 [==============================] - 5s 5ms/step - loss: 0.2682 - accuracy: 0.9140 - val_loss: 0.2689 - val_accuracy: 0.9271\n",
      "\n",
      "Epoch 00007: val_loss did not improve from 0.23919\n",
      "Epoch 8/300\n",
      "986/986 [==============================] - 5s 6ms/step - loss: 0.2542 - accuracy: 0.9166 - val_loss: 0.2399 - val_accuracy: 0.9134\n",
      "\n",
      "Epoch 00008: val_loss did not improve from 0.23919\n",
      "Epoch 9/300\n",
      "986/986 [==============================] - 6s 6ms/step - loss: 0.2288 - accuracy: 0.9232 - val_loss: 0.2190 - val_accuracy: 0.9271\n",
      "\n",
      "Epoch 00009: val_loss improved from 0.23919 to 0.21899, saving model to saved_models\\DLModel_CV_CNN_VS01_ITER8\n"
     ]
    },
    {
     "name": "stderr",
     "output_type": "stream",
     "text": [
      "WARNING:absl:Function `_wrapped_model` contains input name(s) Input-Layer with unsupported characters which will be renamed to input_layer in the SavedModel.\n"
     ]
    },
    {
     "name": "stdout",
     "output_type": "stream",
     "text": [
      "INFO:tensorflow:Assets written to: saved_models\\DLModel_CV_CNN_VS01_ITER8\\assets\n"
     ]
    },
    {
     "name": "stderr",
     "output_type": "stream",
     "text": [
      "INFO:tensorflow:Assets written to: saved_models\\DLModel_CV_CNN_VS01_ITER8\\assets\n"
     ]
    },
    {
     "name": "stdout",
     "output_type": "stream",
     "text": [
      "Epoch 10/300\n",
      "986/986 [==============================] - 5s 6ms/step - loss: 0.2336 - accuracy: 0.9206 - val_loss: 0.2203 - val_accuracy: 0.9317\n",
      "\n",
      "Epoch 00010: val_loss did not improve from 0.21899\n",
      "Epoch 11/300\n",
      "986/986 [==============================] - 5s 5ms/step - loss: 0.2239 - accuracy: 0.9227 - val_loss: 0.2489 - val_accuracy: 0.9226\n",
      "\n",
      "Epoch 00011: val_loss did not improve from 0.21899\n",
      "Epoch 12/300\n",
      "986/986 [==============================] - 5s 5ms/step - loss: 0.2345 - accuracy: 0.9211 - val_loss: 0.2194 - val_accuracy: 0.9431\n",
      "\n",
      "Epoch 00012: val_loss did not improve from 0.21899\n",
      "Epoch 13/300\n",
      "986/986 [==============================] - 5s 5ms/step - loss: 0.2140 - accuracy: 0.9275 - val_loss: 0.3287 - val_accuracy: 0.8952\n",
      "\n",
      "Epoch 00013: val_loss did not improve from 0.21899\n",
      "Epoch 14/300\n",
      "986/986 [==============================] - 5s 5ms/step - loss: 0.1951 - accuracy: 0.9389 - val_loss: 0.2316 - val_accuracy: 0.9248\n",
      "\n",
      "Epoch 00014: val_loss did not improve from 0.21899\n",
      "Epoch 15/300\n",
      "986/986 [==============================] - 5s 5ms/step - loss: 0.1875 - accuracy: 0.9414 - val_loss: 0.2147 - val_accuracy: 0.9385\n",
      "\n",
      "Epoch 00015: val_loss improved from 0.21899 to 0.21473, saving model to saved_models\\DLModel_CV_CNN_VS01_ITER8\n"
     ]
    },
    {
     "name": "stderr",
     "output_type": "stream",
     "text": [
      "WARNING:absl:Function `_wrapped_model` contains input name(s) Input-Layer with unsupported characters which will be renamed to input_layer in the SavedModel.\n"
     ]
    },
    {
     "name": "stdout",
     "output_type": "stream",
     "text": [
      "INFO:tensorflow:Assets written to: saved_models\\DLModel_CV_CNN_VS01_ITER8\\assets\n"
     ]
    },
    {
     "name": "stderr",
     "output_type": "stream",
     "text": [
      "INFO:tensorflow:Assets written to: saved_models\\DLModel_CV_CNN_VS01_ITER8\\assets\n"
     ]
    },
    {
     "name": "stdout",
     "output_type": "stream",
     "text": [
      "Epoch 16/300\n",
      "986/986 [==============================] - 6s 6ms/step - loss: 0.1972 - accuracy: 0.9353 - val_loss: 0.2321 - val_accuracy: 0.9431\n",
      "\n",
      "Epoch 00016: val_loss did not improve from 0.21473\n",
      "Epoch 17/300\n",
      "986/986 [==============================] - 6s 6ms/step - loss: 0.1818 - accuracy: 0.9402 - val_loss: 0.2101 - val_accuracy: 0.9431\n",
      "\n",
      "Epoch 00017: val_loss improved from 0.21473 to 0.21013, saving model to saved_models\\DLModel_CV_CNN_VS01_ITER8\n"
     ]
    },
    {
     "name": "stderr",
     "output_type": "stream",
     "text": [
      "WARNING:absl:Function `_wrapped_model` contains input name(s) Input-Layer with unsupported characters which will be renamed to input_layer in the SavedModel.\n"
     ]
    },
    {
     "name": "stdout",
     "output_type": "stream",
     "text": [
      "INFO:tensorflow:Assets written to: saved_models\\DLModel_CV_CNN_VS01_ITER8\\assets\n"
     ]
    },
    {
     "name": "stderr",
     "output_type": "stream",
     "text": [
      "INFO:tensorflow:Assets written to: saved_models\\DLModel_CV_CNN_VS01_ITER8\\assets\n"
     ]
    },
    {
     "name": "stdout",
     "output_type": "stream",
     "text": [
      "Epoch 18/300\n",
      "986/986 [==============================] - 5s 6ms/step - loss: 0.2034 - accuracy: 0.9384 - val_loss: 0.2409 - val_accuracy: 0.9431\n",
      "\n",
      "Epoch 00018: val_loss did not improve from 0.21013\n",
      "Epoch 19/300\n",
      "986/986 [==============================] - 5s 5ms/step - loss: 0.1935 - accuracy: 0.9351 - val_loss: 0.2208 - val_accuracy: 0.9339\n",
      "\n",
      "Epoch 00019: val_loss did not improve from 0.21013\n",
      "Epoch 20/300\n",
      "986/986 [==============================] - 5s 5ms/step - loss: 0.1895 - accuracy: 0.9402 - val_loss: 0.2207 - val_accuracy: 0.9408\n",
      "\n",
      "Epoch 00020: val_loss did not improve from 0.21013\n",
      "Epoch 21/300\n",
      "986/986 [==============================] - 5s 5ms/step - loss: 0.1760 - accuracy: 0.9452 - val_loss: 0.2554 - val_accuracy: 0.9453\n",
      "\n",
      "Epoch 00021: val_loss did not improve from 0.21013\n",
      "Epoch 22/300\n",
      "986/986 [==============================] - 5s 5ms/step - loss: 0.1616 - accuracy: 0.9455 - val_loss: 0.2461 - val_accuracy: 0.9476\n",
      "\n",
      "Epoch 00022: val_loss did not improve from 0.21013\n",
      "Epoch 23/300\n",
      "986/986 [==============================] - 5s 5ms/step - loss: 0.1676 - accuracy: 0.9460 - val_loss: 0.2448 - val_accuracy: 0.9431\n",
      "\n",
      "Epoch 00023: val_loss did not improve from 0.21013\n",
      "Epoch 24/300\n",
      "986/986 [==============================] - 5s 5ms/step - loss: 0.1665 - accuracy: 0.9465 - val_loss: 0.2226 - val_accuracy: 0.9499\n",
      "\n",
      "Epoch 00024: val_loss did not improve from 0.21013\n",
      "Epoch 25/300\n",
      "986/986 [==============================] - 6s 6ms/step - loss: 0.1521 - accuracy: 0.9511 - val_loss: 0.2467 - val_accuracy: 0.9453\n",
      "\n",
      "Epoch 00025: val_loss did not improve from 0.21013\n",
      "\n",
      "Epoch 00025: ReduceLROnPlateau reducing learning rate to 0.0003000000142492354.\n",
      "Epoch 26/300\n",
      "986/986 [==============================] - 6s 6ms/step - loss: 0.1235 - accuracy: 0.9622 - val_loss: 0.2578 - val_accuracy: 0.9499\n",
      "\n",
      "Epoch 00026: val_loss did not improve from 0.21013\n",
      "Epoch 27/300\n",
      "986/986 [==============================] - 6s 6ms/step - loss: 0.1034 - accuracy: 0.9663 - val_loss: 0.2832 - val_accuracy: 0.9522\n",
      "\n",
      "Epoch 00027: val_loss did not improve from 0.21013\n",
      "Epoch 28/300\n",
      "986/986 [==============================] - 6s 6ms/step - loss: 0.0939 - accuracy: 0.9675 - val_loss: 0.2499 - val_accuracy: 0.9544\n",
      "\n",
      "Epoch 00028: val_loss did not improve from 0.21013\n",
      "Epoch 29/300\n",
      "986/986 [==============================] - 6s 6ms/step - loss: 0.0917 - accuracy: 0.9686 - val_loss: 0.2682 - val_accuracy: 0.9522\n",
      "\n",
      "Epoch 00029: val_loss did not improve from 0.21013\n",
      "Epoch 30/300\n",
      "986/986 [==============================] - 6s 6ms/step - loss: 0.0927 - accuracy: 0.9698 - val_loss: 0.2693 - val_accuracy: 0.9522\n",
      "\n",
      "Epoch 00030: val_loss did not improve from 0.21013\n",
      "Epoch 31/300\n",
      "986/986 [==============================] - 6s 6ms/step - loss: 0.0895 - accuracy: 0.9708 - val_loss: 0.2666 - val_accuracy: 0.9522\n",
      "\n",
      "Epoch 00031: val_loss did not improve from 0.21013\n",
      "Epoch 32/300\n",
      "986/986 [==============================] - 6s 6ms/step - loss: 0.0847 - accuracy: 0.9726 - val_loss: 0.2894 - val_accuracy: 0.9522\n",
      "\n",
      "Epoch 00032: val_loss did not improve from 0.21013\n",
      "Epoch 33/300\n",
      "986/986 [==============================] - 6s 6ms/step - loss: 0.0806 - accuracy: 0.9744 - val_loss: 0.2699 - val_accuracy: 0.9476\n",
      "\n",
      "Epoch 00033: val_loss did not improve from 0.21013\n",
      "\n",
      "Epoch 00033: ReduceLROnPlateau reducing learning rate to 9.000000427477062e-05.\n",
      "Epoch 34/300\n",
      "986/986 [==============================] - 6s 6ms/step - loss: 0.0703 - accuracy: 0.9757 - val_loss: 0.2808 - val_accuracy: 0.9544\n",
      "\n",
      "Epoch 00034: val_loss did not improve from 0.21013\n",
      "Epoch 35/300\n",
      "986/986 [==============================] - 6s 6ms/step - loss: 0.0666 - accuracy: 0.9767 - val_loss: 0.2696 - val_accuracy: 0.9544\n",
      "\n",
      "Epoch 00035: val_loss did not improve from 0.21013\n",
      "Epoch 36/300\n",
      "986/986 [==============================] - 6s 6ms/step - loss: 0.0691 - accuracy: 0.9777 - val_loss: 0.2935 - val_accuracy: 0.9522\n",
      "\n",
      "Epoch 00036: val_loss did not improve from 0.21013\n",
      "Epoch 37/300\n",
      "986/986 [==============================] - 6s 6ms/step - loss: 0.0637 - accuracy: 0.9790 - val_loss: 0.3096 - val_accuracy: 0.9544\n",
      "\n",
      "Epoch 00037: val_loss did not improve from 0.21013\n",
      "Epoch 00037: early stopping\n",
      "487/487 [==============================] - 2s 3ms/step - loss: 0.1512 - accuracy: 0.9671\n"
     ]
    },
    {
     "data": {
      "image/png": "[encoded data removed]",
      "text/plain": [
       "<Figure size 432x288 with 1 Axes>"
      ]
     },
     "metadata": {
      "needs_background": "light"
     },
     "output_type": "display_data"
    },
    {
     "data": {
      "image/png": "[encoded data removed]",
      "text/plain": [
       "<Figure size 432x288 with 1 Axes>"
      ]
     },
     "metadata": {
      "needs_background": "light"
     },
     "output_type": "display_data"
    },
    {
     "name": "stdout",
     "output_type": "stream",
     "text": [
      "Iteration 9\n",
      "Splitting X and y of shapes (974000, 6) and (974000, 4)\n",
      "Training model DLModel_CV_CNN_VS01_ITER9\n",
      "Epoch 1/300\n",
      "986/986 [==============================] - 6s 6ms/step - loss: 0.7732 - accuracy: 0.6788 - val_loss: 0.4363 - val_accuracy: 0.8633\n",
      "\n",
      "Epoch 00001: val_loss improved from inf to 0.43631, saving model to saved_models\\DLModel_CV_CNN_VS01_ITER9\n"
     ]
    },
    {
     "name": "stderr",
     "output_type": "stream",
     "text": [
      "WARNING:absl:Function `_wrapped_model` contains input name(s) Input-Layer with unsupported characters which will be renamed to input_layer in the SavedModel.\n"
     ]
    },
    {
     "name": "stdout",
     "output_type": "stream",
     "text": [
      "INFO:tensorflow:Assets written to: saved_models\\DLModel_CV_CNN_VS01_ITER9\\assets\n"
     ]
    },
    {
     "name": "stderr",
     "output_type": "stream",
     "text": [
      "INFO:tensorflow:Assets written to: saved_models\\DLModel_CV_CNN_VS01_ITER9\\assets\n"
     ]
    },
    {
     "name": "stdout",
     "output_type": "stream",
     "text": [
      "Epoch 2/300\n",
      "986/986 [==============================] - 5s 5ms/step - loss: 0.4659 - accuracy: 0.8347 - val_loss: 0.3777 - val_accuracy: 0.8679\n",
      "\n",
      "Epoch 00002: val_loss improved from 0.43631 to 0.37768, saving model to saved_models\\DLModel_CV_CNN_VS01_ITER9\n"
     ]
    },
    {
     "name": "stderr",
     "output_type": "stream",
     "text": [
      "WARNING:absl:Function `_wrapped_model` contains input name(s) Input-Layer with unsupported characters which will be renamed to input_layer in the SavedModel.\n"
     ]
    },
    {
     "name": "stdout",
     "output_type": "stream",
     "text": [
      "INFO:tensorflow:Assets written to: saved_models\\DLModel_CV_CNN_VS01_ITER9\\assets\n"
     ]
    },
    {
     "name": "stderr",
     "output_type": "stream",
     "text": [
      "INFO:tensorflow:Assets written to: saved_models\\DLModel_CV_CNN_VS01_ITER9\\assets\n"
     ]
    },
    {
     "name": "stdout",
     "output_type": "stream",
     "text": [
      "Epoch 3/300\n",
      "986/986 [==============================] - 5s 5ms/step - loss: 0.3685 - accuracy: 0.8704 - val_loss: 0.4597 - val_accuracy: 0.8451\n",
      "\n",
      "Epoch 00003: val_loss did not improve from 0.37768\n",
      "Epoch 4/300\n",
      "986/986 [==============================] - 5s 5ms/step - loss: 0.3364 - accuracy: 0.8872 - val_loss: 0.3041 - val_accuracy: 0.8952\n",
      "\n",
      "Epoch 00004: val_loss improved from 0.37768 to 0.30412, saving model to saved_models\\DLModel_CV_CNN_VS01_ITER9\n"
     ]
    },
    {
     "name": "stderr",
     "output_type": "stream",
     "text": [
      "WARNING:absl:Function `_wrapped_model` contains input name(s) Input-Layer with unsupported characters which will be renamed to input_layer in the SavedModel.\n"
     ]
    },
    {
     "name": "stdout",
     "output_type": "stream",
     "text": [
      "INFO:tensorflow:Assets written to: saved_models\\DLModel_CV_CNN_VS01_ITER9\\assets\n"
     ]
    },
    {
     "name": "stderr",
     "output_type": "stream",
     "text": [
      "INFO:tensorflow:Assets written to: saved_models\\DLModel_CV_CNN_VS01_ITER9\\assets\n"
     ]
    },
    {
     "name": "stdout",
     "output_type": "stream",
     "text": [
      "Epoch 5/300\n",
      "986/986 [==============================] - 6s 6ms/step - loss: 0.2973 - accuracy: 0.8968 - val_loss: 0.3241 - val_accuracy: 0.8952\n",
      "\n",
      "Epoch 00005: val_loss did not improve from 0.30412\n",
      "Epoch 6/300\n",
      "986/986 [==============================] - 6s 6ms/step - loss: 0.2743 - accuracy: 0.9054 - val_loss: 0.3113 - val_accuracy: 0.8861\n",
      "\n",
      "Epoch 00006: val_loss did not improve from 0.30412\n",
      "Epoch 7/300\n",
      "986/986 [==============================] - 6s 7ms/step - loss: 0.2613 - accuracy: 0.9100 - val_loss: 0.2937 - val_accuracy: 0.9112\n",
      "\n",
      "Epoch 00007: val_loss improved from 0.30412 to 0.29368, saving model to saved_models\\DLModel_CV_CNN_VS01_ITER9\n"
     ]
    },
    {
     "name": "stderr",
     "output_type": "stream",
     "text": [
      "WARNING:absl:Function `_wrapped_model` contains input name(s) Input-Layer with unsupported characters which will be renamed to input_layer in the SavedModel.\n"
     ]
    },
    {
     "name": "stdout",
     "output_type": "stream",
     "text": [
      "INFO:tensorflow:Assets written to: saved_models\\DLModel_CV_CNN_VS01_ITER9\\assets\n"
     ]
    },
    {
     "name": "stderr",
     "output_type": "stream",
     "text": [
      "INFO:tensorflow:Assets written to: saved_models\\DLModel_CV_CNN_VS01_ITER9\\assets\n"
     ]
    },
    {
     "name": "stdout",
     "output_type": "stream",
     "text": [
      "Epoch 8/300\n",
      "986/986 [==============================] - 6s 6ms/step - loss: 0.2414 - accuracy: 0.9184 - val_loss: 0.2568 - val_accuracy: 0.9180\n",
      "\n",
      "Epoch 00008: val_loss improved from 0.29368 to 0.25682, saving model to saved_models\\DLModel_CV_CNN_VS01_ITER9\n"
     ]
    },
    {
     "name": "stderr",
     "output_type": "stream",
     "text": [
      "WARNING:absl:Function `_wrapped_model` contains input name(s) Input-Layer with unsupported characters which will be renamed to input_layer in the SavedModel.\n"
     ]
    },
    {
     "name": "stdout",
     "output_type": "stream",
     "text": [
      "INFO:tensorflow:Assets written to: saved_models\\DLModel_CV_CNN_VS01_ITER9\\assets\n"
     ]
    },
    {
     "name": "stderr",
     "output_type": "stream",
     "text": [
      "INFO:tensorflow:Assets written to: saved_models\\DLModel_CV_CNN_VS01_ITER9\\assets\n"
     ]
    },
    {
     "name": "stdout",
     "output_type": "stream",
     "text": [
      "Epoch 9/300\n",
      "986/986 [==============================] - 8s 8ms/step - loss: 0.2489 - accuracy: 0.9153 - val_loss: 0.2477 - val_accuracy: 0.9226\n",
      "\n",
      "Epoch 00009: val_loss improved from 0.25682 to 0.24774, saving model to saved_models\\DLModel_CV_CNN_VS01_ITER9\n"
     ]
    },
    {
     "name": "stderr",
     "output_type": "stream",
     "text": [
      "WARNING:absl:Function `_wrapped_model` contains input name(s) Input-Layer with unsupported characters which will be renamed to input_layer in the SavedModel.\n"
     ]
    },
    {
     "name": "stdout",
     "output_type": "stream",
     "text": [
      "INFO:tensorflow:Assets written to: saved_models\\DLModel_CV_CNN_VS01_ITER9\\assets\n"
     ]
    },
    {
     "name": "stderr",
     "output_type": "stream",
     "text": [
      "INFO:tensorflow:Assets written to: saved_models\\DLModel_CV_CNN_VS01_ITER9\\assets\n"
     ]
    },
    {
     "name": "stdout",
     "output_type": "stream",
     "text": [
      "Epoch 10/300\n",
      "986/986 [==============================] - 6s 6ms/step - loss: 0.2489 - accuracy: 0.9181 - val_loss: 0.2778 - val_accuracy: 0.8929\n",
      "\n",
      "Epoch 00010: val_loss did not improve from 0.24774\n",
      "Epoch 11/300\n",
      "986/986 [==============================] - 5s 6ms/step - loss: 0.2288 - accuracy: 0.9234 - val_loss: 0.2811 - val_accuracy: 0.9180\n",
      "\n",
      "Epoch 00011: val_loss did not improve from 0.24774\n",
      "Epoch 12/300\n",
      "986/986 [==============================] - 6s 6ms/step - loss: 0.2260 - accuracy: 0.9282 - val_loss: 0.2495 - val_accuracy: 0.9089\n",
      "\n",
      "Epoch 00012: val_loss did not improve from 0.24774\n",
      "Epoch 13/300\n",
      "986/986 [==============================] - 6s 6ms/step - loss: 0.1981 - accuracy: 0.9300 - val_loss: 0.2302 - val_accuracy: 0.9066\n",
      "\n",
      "Epoch 00013: val_loss improved from 0.24774 to 0.23023, saving model to saved_models\\DLModel_CV_CNN_VS01_ITER9\n"
     ]
    },
    {
     "name": "stderr",
     "output_type": "stream",
     "text": [
      "WARNING:absl:Function `_wrapped_model` contains input name(s) Input-Layer with unsupported characters which will be renamed to input_layer in the SavedModel.\n"
     ]
    },
    {
     "name": "stdout",
     "output_type": "stream",
     "text": [
      "INFO:tensorflow:Assets written to: saved_models\\DLModel_CV_CNN_VS01_ITER9\\assets\n"
     ]
    },
    {
     "name": "stderr",
     "output_type": "stream",
     "text": [
      "INFO:tensorflow:Assets written to: saved_models\\DLModel_CV_CNN_VS01_ITER9\\assets\n"
     ]
    },
    {
     "name": "stdout",
     "output_type": "stream",
     "text": [
      "Epoch 14/300\n",
      "986/986 [==============================] - 6s 6ms/step - loss: 0.1999 - accuracy: 0.9270 - val_loss: 0.2197 - val_accuracy: 0.9271\n",
      "\n",
      "Epoch 00014: val_loss improved from 0.23023 to 0.21967, saving model to saved_models\\DLModel_CV_CNN_VS01_ITER9\n"
     ]
    },
    {
     "name": "stderr",
     "output_type": "stream",
     "text": [
      "WARNING:absl:Function `_wrapped_model` contains input name(s) Input-Layer with unsupported characters which will be renamed to input_layer in the SavedModel.\n"
     ]
    },
    {
     "name": "stdout",
     "output_type": "stream",
     "text": [
      "INFO:tensorflow:Assets written to: saved_models\\DLModel_CV_CNN_VS01_ITER9\\assets\n"
     ]
    },
    {
     "name": "stderr",
     "output_type": "stream",
     "text": [
      "INFO:tensorflow:Assets written to: saved_models\\DLModel_CV_CNN_VS01_ITER9\\assets\n"
     ]
    },
    {
     "name": "stdout",
     "output_type": "stream",
     "text": [
      "Epoch 15/300\n",
      "986/986 [==============================] - 6s 6ms/step - loss: 0.1978 - accuracy: 0.9331 - val_loss: 0.2123 - val_accuracy: 0.9226\n",
      "\n",
      "Epoch 00015: val_loss improved from 0.21967 to 0.21235, saving model to saved_models\\DLModel_CV_CNN_VS01_ITER9\n"
     ]
    },
    {
     "name": "stderr",
     "output_type": "stream",
     "text": [
      "WARNING:absl:Function `_wrapped_model` contains input name(s) Input-Layer with unsupported characters which will be renamed to input_layer in the SavedModel.\n"
     ]
    },
    {
     "name": "stdout",
     "output_type": "stream",
     "text": [
      "INFO:tensorflow:Assets written to: saved_models\\DLModel_CV_CNN_VS01_ITER9\\assets\n"
     ]
    },
    {
     "name": "stderr",
     "output_type": "stream",
     "text": [
      "INFO:tensorflow:Assets written to: saved_models\\DLModel_CV_CNN_VS01_ITER9\\assets\n"
     ]
    },
    {
     "name": "stdout",
     "output_type": "stream",
     "text": [
      "Epoch 16/300\n",
      "986/986 [==============================] - 12s 12ms/step - loss: 0.1856 - accuracy: 0.9391 - val_loss: 0.2596 - val_accuracy: 0.9066\n",
      "\n",
      "Epoch 00016: val_loss did not improve from 0.21235\n",
      "Epoch 17/300\n",
      "986/986 [==============================] - 6s 6ms/step - loss: 0.1928 - accuracy: 0.9386 - val_loss: 0.2413 - val_accuracy: 0.9180\n",
      "\n",
      "Epoch 00017: val_loss did not improve from 0.21235\n",
      "Epoch 18/300\n",
      "986/986 [==============================] - 5s 5ms/step - loss: 0.1784 - accuracy: 0.9404 - val_loss: 0.2359 - val_accuracy: 0.9203\n",
      "\n",
      "Epoch 00018: val_loss did not improve from 0.21235\n",
      "Epoch 19/300\n",
      "986/986 [==============================] - 5s 6ms/step - loss: 0.1832 - accuracy: 0.9394 - val_loss: 0.2062 - val_accuracy: 0.9339\n",
      "\n",
      "Epoch 00019: val_loss improved from 0.21235 to 0.20625, saving model to saved_models\\DLModel_CV_CNN_VS01_ITER9\n"
     ]
    },
    {
     "name": "stderr",
     "output_type": "stream",
     "text": [
      "WARNING:absl:Function `_wrapped_model` contains input name(s) Input-Layer with unsupported characters which will be renamed to input_layer in the SavedModel.\n"
     ]
    },
    {
     "name": "stdout",
     "output_type": "stream",
     "text": [
      "INFO:tensorflow:Assets written to: saved_models\\DLModel_CV_CNN_VS01_ITER9\\assets\n"
     ]
    },
    {
     "name": "stderr",
     "output_type": "stream",
     "text": [
      "INFO:tensorflow:Assets written to: saved_models\\DLModel_CV_CNN_VS01_ITER9\\assets\n"
     ]
    },
    {
     "name": "stdout",
     "output_type": "stream",
     "text": [
      "Epoch 20/300\n",
      "986/986 [==============================] - 6s 6ms/step - loss: 0.1799 - accuracy: 0.9457 - val_loss: 0.2181 - val_accuracy: 0.9294\n",
      "\n",
      "Epoch 00020: val_loss did not improve from 0.20625\n",
      "Epoch 21/300\n",
      "986/986 [==============================] - 6s 7ms/step - loss: 0.1665 - accuracy: 0.9447 - val_loss: 0.2085 - val_accuracy: 0.9453\n",
      "\n",
      "Epoch 00021: val_loss did not improve from 0.20625\n",
      "Epoch 22/300\n",
      "986/986 [==============================] - 7s 7ms/step - loss: 0.1583 - accuracy: 0.9498 - val_loss: 0.2425 - val_accuracy: 0.9226\n",
      "\n",
      "Epoch 00022: val_loss did not improve from 0.20625\n",
      "Epoch 23/300\n",
      "986/986 [==============================] - 6s 6ms/step - loss: 0.1688 - accuracy: 0.9478 - val_loss: 0.2078 - val_accuracy: 0.9362\n",
      "\n",
      "Epoch 00023: val_loss did not improve from 0.20625\n",
      "Epoch 24/300\n",
      "986/986 [==============================] - 7s 7ms/step - loss: 0.1499 - accuracy: 0.9506 - val_loss: 0.2001 - val_accuracy: 0.9499\n",
      "\n",
      "Epoch 00024: val_loss improved from 0.20625 to 0.20012, saving model to saved_models\\DLModel_CV_CNN_VS01_ITER9\n"
     ]
    },
    {
     "name": "stderr",
     "output_type": "stream",
     "text": [
      "WARNING:absl:Function `_wrapped_model` contains input name(s) Input-Layer with unsupported characters which will be renamed to input_layer in the SavedModel.\n"
     ]
    },
    {
     "name": "stdout",
     "output_type": "stream",
     "text": [
      "INFO:tensorflow:Assets written to: saved_models\\DLModel_CV_CNN_VS01_ITER9\\assets\n"
     ]
    },
    {
     "name": "stderr",
     "output_type": "stream",
     "text": [
      "INFO:tensorflow:Assets written to: saved_models\\DLModel_CV_CNN_VS01_ITER9\\assets\n"
     ]
    },
    {
     "name": "stdout",
     "output_type": "stream",
     "text": [
      "Epoch 25/300\n",
      "986/986 [==============================] - 6s 6ms/step - loss: 0.1648 - accuracy: 0.9493 - val_loss: 0.2561 - val_accuracy: 0.9112\n",
      "\n",
      "Epoch 00025: val_loss did not improve from 0.20012\n",
      "Epoch 26/300\n",
      "986/986 [==============================] - 7s 7ms/step - loss: 0.1761 - accuracy: 0.9430 - val_loss: 0.2118 - val_accuracy: 0.9271\n",
      "\n",
      "Epoch 00026: val_loss did not improve from 0.20012\n",
      "Epoch 27/300\n",
      "986/986 [==============================] - 6s 6ms/step - loss: 0.1598 - accuracy: 0.9478 - val_loss: 0.2241 - val_accuracy: 0.9317\n",
      "\n",
      "Epoch 00027: val_loss did not improve from 0.20012\n",
      "Epoch 28/300\n",
      "986/986 [==============================] - 5s 5ms/step - loss: 0.1469 - accuracy: 0.9546 - val_loss: 0.1931 - val_accuracy: 0.9294\n",
      "\n",
      "Epoch 00028: val_loss improved from 0.20012 to 0.19313, saving model to saved_models\\DLModel_CV_CNN_VS01_ITER9\n"
     ]
    },
    {
     "name": "stderr",
     "output_type": "stream",
     "text": [
      "WARNING:absl:Function `_wrapped_model` contains input name(s) Input-Layer with unsupported characters which will be renamed to input_layer in the SavedModel.\n"
     ]
    },
    {
     "name": "stdout",
     "output_type": "stream",
     "text": [
      "INFO:tensorflow:Assets written to: saved_models\\DLModel_CV_CNN_VS01_ITER9\\assets\n"
     ]
    },
    {
     "name": "stderr",
     "output_type": "stream",
     "text": [
      "INFO:tensorflow:Assets written to: saved_models\\DLModel_CV_CNN_VS01_ITER9\\assets\n"
     ]
    },
    {
     "name": "stdout",
     "output_type": "stream",
     "text": [
      "Epoch 29/300\n",
      "986/986 [==============================] - 6s 6ms/step - loss: 0.1497 - accuracy: 0.9544 - val_loss: 0.1883 - val_accuracy: 0.9544\n",
      "\n",
      "Epoch 00029: val_loss improved from 0.19313 to 0.18827, saving model to saved_models\\DLModel_CV_CNN_VS01_ITER9\n"
     ]
    },
    {
     "name": "stderr",
     "output_type": "stream",
     "text": [
      "WARNING:absl:Function `_wrapped_model` contains input name(s) Input-Layer with unsupported characters which will be renamed to input_layer in the SavedModel.\n"
     ]
    },
    {
     "name": "stdout",
     "output_type": "stream",
     "text": [
      "INFO:tensorflow:Assets written to: saved_models\\DLModel_CV_CNN_VS01_ITER9\\assets\n"
     ]
    },
    {
     "name": "stderr",
     "output_type": "stream",
     "text": [
      "INFO:tensorflow:Assets written to: saved_models\\DLModel_CV_CNN_VS01_ITER9\\assets\n"
     ]
    },
    {
     "name": "stdout",
     "output_type": "stream",
     "text": [
      "Epoch 30/300\n",
      "986/986 [==============================] - 5s 5ms/step - loss: 0.1387 - accuracy: 0.9546 - val_loss: 0.2769 - val_accuracy: 0.9294\n",
      "\n",
      "Epoch 00030: val_loss did not improve from 0.18827\n",
      "Epoch 31/300\n",
      "986/986 [==============================] - 5s 5ms/step - loss: 0.1519 - accuracy: 0.9551 - val_loss: 0.2626 - val_accuracy: 0.9180\n",
      "\n",
      "Epoch 00031: val_loss did not improve from 0.18827\n",
      "Epoch 32/300\n",
      "986/986 [==============================] - 5s 5ms/step - loss: 0.1332 - accuracy: 0.9584 - val_loss: 0.1852 - val_accuracy: 0.9453\n",
      "\n",
      "Epoch 00032: val_loss improved from 0.18827 to 0.18519, saving model to saved_models\\DLModel_CV_CNN_VS01_ITER9\n"
     ]
    },
    {
     "name": "stderr",
     "output_type": "stream",
     "text": [
      "WARNING:absl:Function `_wrapped_model` contains input name(s) Input-Layer with unsupported characters which will be renamed to input_layer in the SavedModel.\n"
     ]
    },
    {
     "name": "stdout",
     "output_type": "stream",
     "text": [
      "INFO:tensorflow:Assets written to: saved_models\\DLModel_CV_CNN_VS01_ITER9\\assets\n"
     ]
    },
    {
     "name": "stderr",
     "output_type": "stream",
     "text": [
      "INFO:tensorflow:Assets written to: saved_models\\DLModel_CV_CNN_VS01_ITER9\\assets\n"
     ]
    },
    {
     "name": "stdout",
     "output_type": "stream",
     "text": [
      "Epoch 33/300\n",
      "986/986 [==============================] - 5s 6ms/step - loss: 0.1275 - accuracy: 0.9587 - val_loss: 0.2439 - val_accuracy: 0.9385\n",
      "\n",
      "Epoch 00033: val_loss did not improve from 0.18519\n",
      "Epoch 34/300\n",
      "986/986 [==============================] - 5s 5ms/step - loss: 0.1523 - accuracy: 0.9541 - val_loss: 0.2388 - val_accuracy: 0.9248\n",
      "\n",
      "Epoch 00034: val_loss did not improve from 0.18519\n",
      "Epoch 35/300\n",
      "986/986 [==============================] - 5s 5ms/step - loss: 0.1335 - accuracy: 0.9549 - val_loss: 0.2335 - val_accuracy: 0.9248\n",
      "\n",
      "Epoch 00035: val_loss did not improve from 0.18519\n",
      "Epoch 36/300\n",
      "986/986 [==============================] - 5s 6ms/step - loss: 0.1268 - accuracy: 0.9632 - val_loss: 0.1998 - val_accuracy: 0.9317\n",
      "\n",
      "Epoch 00036: val_loss did not improve from 0.18519\n",
      "Epoch 37/300\n",
      "986/986 [==============================] - 6s 6ms/step - loss: 0.1390 - accuracy: 0.9539 - val_loss: 0.2195 - val_accuracy: 0.9157\n",
      "\n",
      "Epoch 00037: val_loss did not improve from 0.18519\n",
      "Epoch 38/300\n",
      "986/986 [==============================] - 6s 6ms/step - loss: 0.1359 - accuracy: 0.9564 - val_loss: 0.1838 - val_accuracy: 0.9362\n",
      "\n",
      "Epoch 00038: val_loss improved from 0.18519 to 0.18379, saving model to saved_models\\DLModel_CV_CNN_VS01_ITER9\n"
     ]
    },
    {
     "name": "stderr",
     "output_type": "stream",
     "text": [
      "WARNING:absl:Function `_wrapped_model` contains input name(s) Input-Layer with unsupported characters which will be renamed to input_layer in the SavedModel.\n"
     ]
    },
    {
     "name": "stdout",
     "output_type": "stream",
     "text": [
      "INFO:tensorflow:Assets written to: saved_models\\DLModel_CV_CNN_VS01_ITER9\\assets\n"
     ]
    },
    {
     "name": "stderr",
     "output_type": "stream",
     "text": [
      "INFO:tensorflow:Assets written to: saved_models\\DLModel_CV_CNN_VS01_ITER9\\assets\n"
     ]
    },
    {
     "name": "stdout",
     "output_type": "stream",
     "text": [
      "Epoch 39/300\n",
      "986/986 [==============================] - 6s 6ms/step - loss: 0.1393 - accuracy: 0.9602 - val_loss: 0.1960 - val_accuracy: 0.9408\n",
      "\n",
      "Epoch 00039: val_loss did not improve from 0.18379\n",
      "Epoch 40/300\n",
      "986/986 [==============================] - 6s 6ms/step - loss: 0.1205 - accuracy: 0.9584 - val_loss: 0.1540 - val_accuracy: 0.9453\n",
      "\n",
      "Epoch 00040: val_loss improved from 0.18379 to 0.15403, saving model to saved_models\\DLModel_CV_CNN_VS01_ITER9\n"
     ]
    },
    {
     "name": "stderr",
     "output_type": "stream",
     "text": [
      "WARNING:absl:Function `_wrapped_model` contains input name(s) Input-Layer with unsupported characters which will be renamed to input_layer in the SavedModel.\n"
     ]
    },
    {
     "name": "stdout",
     "output_type": "stream",
     "text": [
      "INFO:tensorflow:Assets written to: saved_models\\DLModel_CV_CNN_VS01_ITER9\\assets\n"
     ]
    },
    {
     "name": "stderr",
     "output_type": "stream",
     "text": [
      "INFO:tensorflow:Assets written to: saved_models\\DLModel_CV_CNN_VS01_ITER9\\assets\n"
     ]
    },
    {
     "name": "stdout",
     "output_type": "stream",
     "text": [
      "Epoch 41/300\n",
      "986/986 [==============================] - 6s 6ms/step - loss: 0.1240 - accuracy: 0.9617 - val_loss: 0.2149 - val_accuracy: 0.9294\n",
      "\n",
      "Epoch 00041: val_loss did not improve from 0.15403\n",
      "Epoch 42/300\n",
      "986/986 [==============================] - 6s 6ms/step - loss: 0.1217 - accuracy: 0.9594 - val_loss: 0.1512 - val_accuracy: 0.9544\n",
      "\n",
      "Epoch 00042: val_loss improved from 0.15403 to 0.15118, saving model to saved_models\\DLModel_CV_CNN_VS01_ITER9\n"
     ]
    },
    {
     "name": "stderr",
     "output_type": "stream",
     "text": [
      "WARNING:absl:Function `_wrapped_model` contains input name(s) Input-Layer with unsupported characters which will be renamed to input_layer in the SavedModel.\n"
     ]
    },
    {
     "name": "stdout",
     "output_type": "stream",
     "text": [
      "INFO:tensorflow:Assets written to: saved_models\\DLModel_CV_CNN_VS01_ITER9\\assets\n"
     ]
    },
    {
     "name": "stderr",
     "output_type": "stream",
     "text": [
      "INFO:tensorflow:Assets written to: saved_models\\DLModel_CV_CNN_VS01_ITER9\\assets\n"
     ]
    },
    {
     "name": "stdout",
     "output_type": "stream",
     "text": [
      "Epoch 43/300\n",
      "986/986 [==============================] - 6s 6ms/step - loss: 0.1231 - accuracy: 0.9630 - val_loss: 0.1968 - val_accuracy: 0.9476\n",
      "\n",
      "Epoch 00043: val_loss did not improve from 0.15118\n",
      "Epoch 44/300\n",
      "986/986 [==============================] - 6s 6ms/step - loss: 0.1294 - accuracy: 0.9612 - val_loss: 0.2244 - val_accuracy: 0.9339\n",
      "\n",
      "Epoch 00044: val_loss did not improve from 0.15118\n",
      "Epoch 45/300\n",
      "986/986 [==============================] - 6s 6ms/step - loss: 0.1206 - accuracy: 0.9637 - val_loss: 0.2790 - val_accuracy: 0.9271\n",
      "\n",
      "Epoch 00045: val_loss did not improve from 0.15118\n",
      "Epoch 46/300\n",
      "986/986 [==============================] - 6s 6ms/step - loss: 0.1250 - accuracy: 0.9625 - val_loss: 0.2353 - val_accuracy: 0.9408\n",
      "\n",
      "Epoch 00046: val_loss did not improve from 0.15118\n",
      "Epoch 47/300\n",
      "986/986 [==============================] - 6s 6ms/step - loss: 0.1482 - accuracy: 0.9610 - val_loss: 0.2077 - val_accuracy: 0.9567\n",
      "\n",
      "Epoch 00047: val_loss did not improve from 0.15118\n",
      "Epoch 48/300\n",
      "986/986 [==============================] - 6s 6ms/step - loss: 0.1288 - accuracy: 0.9642 - val_loss: 0.2173 - val_accuracy: 0.9339\n",
      "\n",
      "Epoch 00048: val_loss did not improve from 0.15118\n",
      "Epoch 49/300\n",
      "986/986 [==============================] - 6s 7ms/step - loss: 0.1155 - accuracy: 0.9645 - val_loss: 0.2196 - val_accuracy: 0.9431\n",
      "\n",
      "Epoch 00049: val_loss did not improve from 0.15118\n",
      "Epoch 50/300\n",
      "986/986 [==============================] - 6s 6ms/step - loss: 0.1311 - accuracy: 0.9610 - val_loss: 0.2266 - val_accuracy: 0.9408\n",
      "\n",
      "Epoch 00050: val_loss did not improve from 0.15118\n",
      "\n",
      "Epoch 00050: ReduceLROnPlateau reducing learning rate to 0.0003000000142492354.\n",
      "Epoch 51/300\n",
      "986/986 [==============================] - 6s 7ms/step - loss: 0.0946 - accuracy: 0.9678 - val_loss: 0.2189 - val_accuracy: 0.9339\n",
      "\n",
      "Epoch 00051: val_loss did not improve from 0.15118\n",
      "Epoch 52/300\n",
      "986/986 [==============================] - 6s 6ms/step - loss: 0.0683 - accuracy: 0.9779 - val_loss: 0.2190 - val_accuracy: 0.9453\n",
      "\n",
      "Epoch 00052: val_loss did not improve from 0.15118\n",
      "Epoch 53/300\n",
      "986/986 [==============================] - 6s 6ms/step - loss: 0.0603 - accuracy: 0.9790 - val_loss: 0.2077 - val_accuracy: 0.9385\n",
      "\n",
      "Epoch 00053: val_loss did not improve from 0.15118\n",
      "Epoch 54/300\n",
      "986/986 [==============================] - 6s 6ms/step - loss: 0.0642 - accuracy: 0.9823 - val_loss: 0.2588 - val_accuracy: 0.9408\n",
      "\n",
      "Epoch 00054: val_loss did not improve from 0.15118\n",
      "Epoch 55/300\n",
      "986/986 [==============================] - 6s 6ms/step - loss: 0.0675 - accuracy: 0.9792 - val_loss: 0.1919 - val_accuracy: 0.9476\n",
      "\n",
      "Epoch 00055: val_loss did not improve from 0.15118\n",
      "Epoch 56/300\n",
      "986/986 [==============================] - 6s 6ms/step - loss: 0.0592 - accuracy: 0.9840 - val_loss: 0.1975 - val_accuracy: 0.9385\n",
      "\n",
      "Epoch 00056: val_loss did not improve from 0.15118\n",
      "Epoch 57/300\n",
      "986/986 [==============================] - 6s 6ms/step - loss: 0.0622 - accuracy: 0.9817 - val_loss: 0.2025 - val_accuracy: 0.9408\n",
      "\n",
      "Epoch 00057: val_loss did not improve from 0.15118\n",
      "Epoch 58/300\n",
      "986/986 [==============================] - 6s 6ms/step - loss: 0.0578 - accuracy: 0.9828 - val_loss: 0.1669 - val_accuracy: 0.9453\n",
      "\n",
      "Epoch 00058: val_loss did not improve from 0.15118\n",
      "\n",
      "Epoch 00058: ReduceLROnPlateau reducing learning rate to 9.000000427477062e-05.\n",
      "Epoch 59/300\n",
      "986/986 [==============================] - 6s 6ms/step - loss: 0.0580 - accuracy: 0.9843 - val_loss: 0.1850 - val_accuracy: 0.9453\n",
      "\n",
      "Epoch 00059: val_loss did not improve from 0.15118\n",
      "Epoch 60/300\n",
      "986/986 [==============================] - 6s 6ms/step - loss: 0.0492 - accuracy: 0.9843 - val_loss: 0.1931 - val_accuracy: 0.9476\n",
      "\n",
      "Epoch 00060: val_loss did not improve from 0.15118\n",
      "Epoch 61/300\n",
      "986/986 [==============================] - 6s 6ms/step - loss: 0.0523 - accuracy: 0.9840 - val_loss: 0.1930 - val_accuracy: 0.9476\n",
      "\n",
      "Epoch 00061: val_loss did not improve from 0.15118\n",
      "Epoch 62/300\n",
      "986/986 [==============================] - 6s 6ms/step - loss: 0.0502 - accuracy: 0.9853 - val_loss: 0.1841 - val_accuracy: 0.9453\n",
      "\n",
      "Epoch 00062: val_loss did not improve from 0.15118\n",
      "Epoch 00062: early stopping\n",
      "487/487 [==============================] - 2s 3ms/step - loss: 0.2016 - accuracy: 0.9630\n"
     ]
    },
    {
     "data": {
      "image/png": "[encoded data removed]",
      "text/plain": [
       "<Figure size 432x288 with 1 Axes>"
      ]
     },
     "metadata": {
      "needs_background": "light"
     },
     "output_type": "display_data"
    },
    {
     "data": {
      "image/png": "[encoded data removed]",
      "text/plain": [
       "<Figure size 432x288 with 1 Axes>"
      ]
     },
     "metadata": {
      "needs_background": "light"
     },
     "output_type": "display_data"
    },
    {
     "name": "stdout",
     "output_type": "stream",
     "text": [
      "0.966940450668335\n",
      "0.16525181159377098\n"
     ]
    }
   ],
   "source": [
    "\n",
    "ITERATIONS_PER_SPLIT = 10\n",
    "accs = []\n",
    "losses = []\n",
    "for iteration in range(ITERATIONS_PER_SPLIT):\n",
    "    print(f\"Iteration {iteration}\")\n",
    "    validation_seed = random.randrange(42, 1000000)\n",
    "    X_train, y_train, X_val, y_val, X_test, y_test, y = deepl_data_preproc.read_data_n_preproc(\n",
    "           data_csv_path=CSV_PATH, test_split=0.1, validation_split=0.1, validation_split_seed=validation_seed, verbose=False)\n",
    "\n",
    "    model = deepl_model.DLModel(\n",
    "            model_name=f\"DLModel_CV_CNN_VS01_ITER{iteration}\")\n",
    "\n",
    "    print(f\"Training model DLModel_CV_CNN_VS01_ITER{iteration}\")\n",
    "    model.train(X_train, y_train, X_val, y_val, epochs=300, batch_size=4, stop_early=True)\n",
    "\n",
    "    metrics = model.evaluate(X_test, y_test)\n",
    "\n",
    "    accs.append(metrics[1])\n",
    "    losses.append(metrics[0])\n",
    "\n",
    "    model.plot_training_history()\n",
    "\n",
    "mean_acc = mean(accs)\n",
    "mean_loss = mean(losses)\n",
    "\n",
    "\n",
    "\n",
    "pprint(mean_acc)\n",
    "print(mean_loss)\n"
   ]
  },
  {
   "cell_type": "code",
   "execution_count": null,
   "metadata": {},
   "outputs": [],
   "source": []
  }
 ],
 "metadata": {
  "interpreter": {
   "hash": "ca2864e06efd05cb3ea7c56dc44f235c3621b5bb7c6ad3cd0b10871882970336"
  },
  "kernelspec": {
   "display_name": "Python 3.9.12 ('deeplearning_v2')",
   "language": "python",
   "name": "python3"
  },
  "language_info": {
   "codemirror_mode": {
    "name": "ipython",
    "version": 3
   },
   "file_extension": ".py",
   "mimetype": "text/x-python",
   "name": "python",
   "nbconvert_exporter": "python",
   "pygments_lexer": "ipython3",
   "version": "3.9.12"
  },
  "orig_nbformat": 4
 },
 "nbformat": 4,
 "nbformat_minor": 2
}
