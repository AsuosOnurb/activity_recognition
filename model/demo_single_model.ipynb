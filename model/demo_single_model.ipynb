{
 "cells": [
  {
   "cell_type": "code",
   "execution_count": 1,
   "metadata": {},
   "outputs": [],
   "source": [
    "import matplotlib.pyplot as plt\n",
    "import numpy as np\n",
    "from sklearn.metrics import confusion_matrix\n",
    "np.set_printoptions(suppress=True)\n",
    "import deepl_model\n",
    "import seaborn as sns\n",
    "import pandas as pd\n",
    "import matplotlib as mpl\n",
    "mpl.rcParams['font.size'] = 17.0"
   ]
  },
  {
   "cell_type": "markdown",
   "metadata": {},
   "source": [
    "## Load Data"
   ]
  },
  {
   "cell_type": "code",
   "execution_count": 2,
   "metadata": {},
   "outputs": [],
   "source": [
    "import deepl_data_preproc"
   ]
  },
  {
   "cell_type": "code",
   "execution_count": 3,
   "metadata": {},
   "outputs": [],
   "source": [
    "CSV_DATA_PATH = \"../data/downloaded_data/data.csv\""
   ]
  },
  {
   "cell_type": "code",
   "execution_count": 4,
   "metadata": {},
   "outputs": [
    {
     "name": "stdout",
     "output_type": "stream",
     "text": [
      "Splitting X and y of shapes (994000, 6) and (994000, 4)\n",
      "============== Data Info. ==============\n",
      "=> Read CSV with 994000 entries\n",
      "=> Input/X data has shape  (4970, 200, 6)\n",
      "=> Output/y data has shape  (4970, 4)\n",
      "----------------------------------------\n",
      "=> Training Input has shape  (4025, 200, 6)\n",
      "=> Training Output has shape  (4025, 4)\n",
      "----------------------------------------\n",
      "=> Validation Input has shape  (448, 200, 6)\n",
      "=> Validation Output has shape  (448, 4)\n",
      "----------------------------------------\n",
      "=> Testing Input has shape  (497, 200, 6)\n",
      "=> Testing Output has shape  (497, 4)\n",
      "=========================================\n"
     ]
    }
   ],
   "source": [
    "X_train, y_train, X_val, y_val, X_test, y_test, y = deepl_data_preproc.read_data_n_preproc(data_csv_path=CSV_DATA_PATH, test_split=0.1, validation_split=0.1, verbose=True )"
   ]
  },
  {
   "cell_type": "code",
   "execution_count": 5,
   "metadata": {},
   "outputs": [
    {
     "data": {
      "text/plain": [
       "Activity_andar  Activity_bicicleta  Activity_correr  Activity_repouso\n",
       "1               0                   0                0                   463000\n",
       "0               1                   0                0                   266000\n",
       "                0                   0                1                   201000\n",
       "                                    1                0                    64000\n",
       "dtype: int64"
      ]
     },
     "execution_count": 5,
     "metadata": {},
     "output_type": "execute_result"
    }
   ],
   "source": [
    "y.value_counts()"
   ]
  },
  {
   "cell_type": "code",
   "execution_count": 6,
   "metadata": {},
   "outputs": [
    {
     "data": {
      "text/plain": [
       "0  1  2  3\n",
       "1  0  0  0    1875\n",
       "0  1  0  0    1077\n",
       "   0  0  1     814\n",
       "      1  0     259\n",
       "dtype: int64"
      ]
     },
     "execution_count": 6,
     "metadata": {},
     "output_type": "execute_result"
    }
   ],
   "source": [
    "pd.DataFrame(y_train).value_counts()"
   ]
  },
  {
   "cell_type": "code",
   "execution_count": 7,
   "metadata": {},
   "outputs": [
    {
     "data": {
      "text/plain": [
       "0  1  2  3\n",
       "1  0  0  0    209\n",
       "0  1  0  0    120\n",
       "   0  0  1     90\n",
       "      1  0     29\n",
       "dtype: int64"
      ]
     },
     "execution_count": 7,
     "metadata": {},
     "output_type": "execute_result"
    }
   ],
   "source": [
    "pd.DataFrame(y_val).value_counts()"
   ]
  },
  {
   "cell_type": "code",
   "execution_count": 8,
   "metadata": {},
   "outputs": [
    {
     "data": {
      "text/plain": [
       "0  1  2  3\n",
       "1  0  0  0    231\n",
       "0  1  0  0    133\n",
       "   0  0  1    101\n",
       "      1  0     32\n",
       "dtype: int64"
      ]
     },
     "execution_count": 8,
     "metadata": {},
     "output_type": "execute_result"
    }
   ],
   "source": [
    "pd.DataFrame(y_test).value_counts()"
   ]
  },
  {
   "cell_type": "markdown",
   "metadata": {},
   "source": [
    "## Use the Deep Learning Model"
   ]
  },
  {
   "cell_type": "code",
   "execution_count": 9,
   "metadata": {},
   "outputs": [],
   "source": [
    "import deepl_model"
   ]
  },
  {
   "cell_type": "code",
   "execution_count": 10,
   "metadata": {},
   "outputs": [
    {
     "name": "stdout",
     "output_type": "stream",
     "text": [
      "Model: \"model\"\n",
      "_________________________________________________________________\n",
      "Layer (type)                 Output Shape              Param #   \n",
      "=================================================================\n",
      "Input-Layer (InputLayer)     [(None, 200, 6, 1)]       0         \n",
      "_________________________________________________________________\n",
      "flatten (Flatten)            (None, 1200)              0         \n",
      "_________________________________________________________________\n",
      "dense (Dense)                (None, 512)               614912    \n",
      "_________________________________________________________________\n",
      "dropout (Dropout)            (None, 512)               0         \n",
      "_________________________________________________________________\n",
      "dense_1 (Dense)              (None, 512)               262656    \n",
      "_________________________________________________________________\n",
      "dropout_1 (Dropout)          (None, 512)               0         \n",
      "_________________________________________________________________\n",
      "dense_2 (Dense)              (None, 64)                32832     \n",
      "_________________________________________________________________\n",
      "dropout_2 (Dropout)          (None, 64)                0         \n",
      "_________________________________________________________________\n",
      "Output-Layer (Dense)         (None, 4)                 260       \n",
      "=================================================================\n",
      "Total params: 910,660\n",
      "Trainable params: 910,660\n",
      "Non-trainable params: 0\n",
      "_________________________________________________________________\n"
     ]
    }
   ],
   "source": [
    "model = deepl_model.DLModel(model_name=\"FinalModelV1\")\n",
    "model.model.summary()"
   ]
  },
  {
   "cell_type": "markdown",
   "metadata": {},
   "source": [
    "### Fitting the training data"
   ]
  },
  {
   "cell_type": "code",
   "execution_count": 11,
   "metadata": {},
   "outputs": [
    {
     "name": "stdout",
     "output_type": "stream",
     "text": [
      "Epoch 1/200\n",
      "252/252 [==============================] - 4s 10ms/step - loss: 0.7883 - accuracy: 0.6780 - val_loss: 0.4186 - val_accuracy: 0.8750\n",
      "\n",
      "Epoch 00001: val_loss improved from inf to 0.41857, saving model to saved_models\\FinalModelV1\n"
     ]
    },
    {
     "name": "stderr",
     "output_type": "stream",
     "text": [
      "WARNING:absl:Function `_wrapped_model` contains input name(s) Input-Layer with unsupported characters which will be renamed to input_layer in the SavedModel.\n"
     ]
    },
    {
     "name": "stdout",
     "output_type": "stream",
     "text": [
      "INFO:tensorflow:Assets written to: saved_models\\FinalModelV1\\assets\n"
     ]
    },
    {
     "name": "stderr",
     "output_type": "stream",
     "text": [
      "INFO:tensorflow:Assets written to: saved_models\\FinalModelV1\\assets\n"
     ]
    },
    {
     "name": "stdout",
     "output_type": "stream",
     "text": [
      "Epoch 2/200\n",
      "252/252 [==============================] - 2s 8ms/step - loss: 0.4803 - accuracy: 0.8286 - val_loss: 0.3232 - val_accuracy: 0.8571\n",
      "\n",
      "Epoch 00002: val_loss improved from 0.41857 to 0.32323, saving model to saved_models\\FinalModelV1\n"
     ]
    },
    {
     "name": "stderr",
     "output_type": "stream",
     "text": [
      "WARNING:absl:Function `_wrapped_model` contains input name(s) Input-Layer with unsupported characters which will be renamed to input_layer in the SavedModel.\n"
     ]
    },
    {
     "name": "stdout",
     "output_type": "stream",
     "text": [
      "INFO:tensorflow:Assets written to: saved_models\\FinalModelV1\\assets\n"
     ]
    },
    {
     "name": "stderr",
     "output_type": "stream",
     "text": [
      "INFO:tensorflow:Assets written to: saved_models\\FinalModelV1\\assets\n"
     ]
    },
    {
     "name": "stdout",
     "output_type": "stream",
     "text": [
      "Epoch 3/200\n",
      "252/252 [==============================] - 2s 8ms/step - loss: 0.3671 - accuracy: 0.8785 - val_loss: 0.2904 - val_accuracy: 0.8884\n",
      "\n",
      "Epoch 00003: val_loss improved from 0.32323 to 0.29042, saving model to saved_models\\FinalModelV1\n"
     ]
    },
    {
     "name": "stderr",
     "output_type": "stream",
     "text": [
      "WARNING:absl:Function `_wrapped_model` contains input name(s) Input-Layer with unsupported characters which will be renamed to input_layer in the SavedModel.\n"
     ]
    },
    {
     "name": "stdout",
     "output_type": "stream",
     "text": [
      "INFO:tensorflow:Assets written to: saved_models\\FinalModelV1\\assets\n"
     ]
    },
    {
     "name": "stderr",
     "output_type": "stream",
     "text": [
      "INFO:tensorflow:Assets written to: saved_models\\FinalModelV1\\assets\n"
     ]
    },
    {
     "name": "stdout",
     "output_type": "stream",
     "text": [
      "Epoch 4/200\n",
      "252/252 [==============================] - 2s 8ms/step - loss: 0.3267 - accuracy: 0.8909 - val_loss: 0.2416 - val_accuracy: 0.9174\n",
      "\n",
      "Epoch 00004: val_loss improved from 0.29042 to 0.24156, saving model to saved_models\\FinalModelV1\n"
     ]
    },
    {
     "name": "stderr",
     "output_type": "stream",
     "text": [
      "WARNING:absl:Function `_wrapped_model` contains input name(s) Input-Layer with unsupported characters which will be renamed to input_layer in the SavedModel.\n"
     ]
    },
    {
     "name": "stdout",
     "output_type": "stream",
     "text": [
      "INFO:tensorflow:Assets written to: saved_models\\FinalModelV1\\assets\n"
     ]
    },
    {
     "name": "stderr",
     "output_type": "stream",
     "text": [
      "INFO:tensorflow:Assets written to: saved_models\\FinalModelV1\\assets\n"
     ]
    },
    {
     "name": "stdout",
     "output_type": "stream",
     "text": [
      "Epoch 5/200\n",
      "252/252 [==============================] - 2s 8ms/step - loss: 0.3042 - accuracy: 0.8959 - val_loss: 0.2385 - val_accuracy: 0.9241\n",
      "\n",
      "Epoch 00005: val_loss improved from 0.24156 to 0.23848, saving model to saved_models\\FinalModelV1\n"
     ]
    },
    {
     "name": "stderr",
     "output_type": "stream",
     "text": [
      "WARNING:absl:Function `_wrapped_model` contains input name(s) Input-Layer with unsupported characters which will be renamed to input_layer in the SavedModel.\n"
     ]
    },
    {
     "name": "stdout",
     "output_type": "stream",
     "text": [
      "INFO:tensorflow:Assets written to: saved_models\\FinalModelV1\\assets\n"
     ]
    },
    {
     "name": "stderr",
     "output_type": "stream",
     "text": [
      "INFO:tensorflow:Assets written to: saved_models\\FinalModelV1\\assets\n"
     ]
    },
    {
     "name": "stdout",
     "output_type": "stream",
     "text": [
      "Epoch 6/200\n",
      "252/252 [==============================] - 2s 8ms/step - loss: 0.2799 - accuracy: 0.9001 - val_loss: 0.2075 - val_accuracy: 0.9286\n",
      "\n",
      "Epoch 00006: val_loss improved from 0.23848 to 0.20750, saving model to saved_models\\FinalModelV1\n"
     ]
    },
    {
     "name": "stderr",
     "output_type": "stream",
     "text": [
      "WARNING:absl:Function `_wrapped_model` contains input name(s) Input-Layer with unsupported characters which will be renamed to input_layer in the SavedModel.\n"
     ]
    },
    {
     "name": "stdout",
     "output_type": "stream",
     "text": [
      "INFO:tensorflow:Assets written to: saved_models\\FinalModelV1\\assets\n"
     ]
    },
    {
     "name": "stderr",
     "output_type": "stream",
     "text": [
      "INFO:tensorflow:Assets written to: saved_models\\FinalModelV1\\assets\n"
     ]
    },
    {
     "name": "stdout",
     "output_type": "stream",
     "text": [
      "Epoch 7/200\n",
      "252/252 [==============================] - 2s 9ms/step - loss: 0.2434 - accuracy: 0.9143 - val_loss: 0.2319 - val_accuracy: 0.9263\n",
      "\n",
      "Epoch 00007: val_loss did not improve from 0.20750\n",
      "Epoch 8/200\n",
      "252/252 [==============================] - 2s 9ms/step - loss: 0.2472 - accuracy: 0.9165 - val_loss: 0.2031 - val_accuracy: 0.9330\n",
      "\n",
      "Epoch 00008: val_loss improved from 0.20750 to 0.20314, saving model to saved_models\\FinalModelV1\n"
     ]
    },
    {
     "name": "stderr",
     "output_type": "stream",
     "text": [
      "WARNING:absl:Function `_wrapped_model` contains input name(s) Input-Layer with unsupported characters which will be renamed to input_layer in the SavedModel.\n"
     ]
    },
    {
     "name": "stdout",
     "output_type": "stream",
     "text": [
      "INFO:tensorflow:Assets written to: saved_models\\FinalModelV1\\assets\n"
     ]
    },
    {
     "name": "stderr",
     "output_type": "stream",
     "text": [
      "INFO:tensorflow:Assets written to: saved_models\\FinalModelV1\\assets\n"
     ]
    },
    {
     "name": "stdout",
     "output_type": "stream",
     "text": [
      "Epoch 9/200\n",
      "252/252 [==============================] - 2s 8ms/step - loss: 0.2319 - accuracy: 0.9237 - val_loss: 0.1971 - val_accuracy: 0.9375\n",
      "\n",
      "Epoch 00009: val_loss improved from 0.20314 to 0.19705, saving model to saved_models\\FinalModelV1\n"
     ]
    },
    {
     "name": "stderr",
     "output_type": "stream",
     "text": [
      "WARNING:absl:Function `_wrapped_model` contains input name(s) Input-Layer with unsupported characters which will be renamed to input_layer in the SavedModel.\n"
     ]
    },
    {
     "name": "stdout",
     "output_type": "stream",
     "text": [
      "INFO:tensorflow:Assets written to: saved_models\\FinalModelV1\\assets\n"
     ]
    },
    {
     "name": "stderr",
     "output_type": "stream",
     "text": [
      "INFO:tensorflow:Assets written to: saved_models\\FinalModelV1\\assets\n"
     ]
    },
    {
     "name": "stdout",
     "output_type": "stream",
     "text": [
      "Epoch 10/200\n",
      "252/252 [==============================] - 2s 9ms/step - loss: 0.1999 - accuracy: 0.9319 - val_loss: 0.1820 - val_accuracy: 0.9464\n",
      "\n",
      "Epoch 00010: val_loss improved from 0.19705 to 0.18201, saving model to saved_models\\FinalModelV1\n"
     ]
    },
    {
     "name": "stderr",
     "output_type": "stream",
     "text": [
      "WARNING:absl:Function `_wrapped_model` contains input name(s) Input-Layer with unsupported characters which will be renamed to input_layer in the SavedModel.\n"
     ]
    },
    {
     "name": "stdout",
     "output_type": "stream",
     "text": [
      "INFO:tensorflow:Assets written to: saved_models\\FinalModelV1\\assets\n"
     ]
    },
    {
     "name": "stderr",
     "output_type": "stream",
     "text": [
      "INFO:tensorflow:Assets written to: saved_models\\FinalModelV1\\assets\n"
     ]
    },
    {
     "name": "stdout",
     "output_type": "stream",
     "text": [
      "Epoch 11/200\n",
      "252/252 [==============================] - 2s 8ms/step - loss: 0.2114 - accuracy: 0.9255 - val_loss: 0.1933 - val_accuracy: 0.9420\n",
      "\n",
      "Epoch 00011: val_loss did not improve from 0.18201\n",
      "Epoch 12/200\n",
      "252/252 [==============================] - 2s 7ms/step - loss: 0.2082 - accuracy: 0.9260 - val_loss: 0.1678 - val_accuracy: 0.9420\n",
      "\n",
      "Epoch 00012: val_loss improved from 0.18201 to 0.16776, saving model to saved_models\\FinalModelV1\n"
     ]
    },
    {
     "name": "stderr",
     "output_type": "stream",
     "text": [
      "WARNING:absl:Function `_wrapped_model` contains input name(s) Input-Layer with unsupported characters which will be renamed to input_layer in the SavedModel.\n"
     ]
    },
    {
     "name": "stdout",
     "output_type": "stream",
     "text": [
      "INFO:tensorflow:Assets written to: saved_models\\FinalModelV1\\assets\n"
     ]
    },
    {
     "name": "stderr",
     "output_type": "stream",
     "text": [
      "INFO:tensorflow:Assets written to: saved_models\\FinalModelV1\\assets\n"
     ]
    },
    {
     "name": "stdout",
     "output_type": "stream",
     "text": [
      "Epoch 13/200\n",
      "252/252 [==============================] - 2s 8ms/step - loss: 0.2015 - accuracy: 0.9297 - val_loss: 0.1677 - val_accuracy: 0.9420\n",
      "\n",
      "Epoch 00013: val_loss improved from 0.16776 to 0.16774, saving model to saved_models\\FinalModelV1\n"
     ]
    },
    {
     "name": "stderr",
     "output_type": "stream",
     "text": [
      "WARNING:absl:Function `_wrapped_model` contains input name(s) Input-Layer with unsupported characters which will be renamed to input_layer in the SavedModel.\n"
     ]
    },
    {
     "name": "stdout",
     "output_type": "stream",
     "text": [
      "INFO:tensorflow:Assets written to: saved_models\\FinalModelV1\\assets\n"
     ]
    },
    {
     "name": "stderr",
     "output_type": "stream",
     "text": [
      "INFO:tensorflow:Assets written to: saved_models\\FinalModelV1\\assets\n"
     ]
    },
    {
     "name": "stdout",
     "output_type": "stream",
     "text": [
      "Epoch 14/200\n",
      "252/252 [==============================] - 2s 9ms/step - loss: 0.1802 - accuracy: 0.9406 - val_loss: 0.1565 - val_accuracy: 0.9531\n",
      "\n",
      "Epoch 00014: val_loss improved from 0.16774 to 0.15650, saving model to saved_models\\FinalModelV1\n"
     ]
    },
    {
     "name": "stderr",
     "output_type": "stream",
     "text": [
      "WARNING:absl:Function `_wrapped_model` contains input name(s) Input-Layer with unsupported characters which will be renamed to input_layer in the SavedModel.\n"
     ]
    },
    {
     "name": "stdout",
     "output_type": "stream",
     "text": [
      "INFO:tensorflow:Assets written to: saved_models\\FinalModelV1\\assets\n"
     ]
    },
    {
     "name": "stderr",
     "output_type": "stream",
     "text": [
      "INFO:tensorflow:Assets written to: saved_models\\FinalModelV1\\assets\n"
     ]
    },
    {
     "name": "stdout",
     "output_type": "stream",
     "text": [
      "Epoch 15/200\n",
      "252/252 [==============================] - 2s 10ms/step - loss: 0.1718 - accuracy: 0.9401 - val_loss: 0.1806 - val_accuracy: 0.9375\n",
      "\n",
      "Epoch 00015: val_loss did not improve from 0.15650\n",
      "Epoch 16/200\n",
      "252/252 [==============================] - 3s 10ms/step - loss: 0.1712 - accuracy: 0.9416 - val_loss: 0.1775 - val_accuracy: 0.9442\n",
      "\n",
      "Epoch 00016: val_loss did not improve from 0.15650\n",
      "Epoch 17/200\n",
      "252/252 [==============================] - 2s 9ms/step - loss: 0.1799 - accuracy: 0.9394 - val_loss: 0.1692 - val_accuracy: 0.9420\n",
      "\n",
      "Epoch 00017: val_loss did not improve from 0.15650\n",
      "Epoch 18/200\n",
      "252/252 [==============================] - 2s 8ms/step - loss: 0.1857 - accuracy: 0.9414 - val_loss: 0.1944 - val_accuracy: 0.9442\n",
      "\n",
      "Epoch 00018: val_loss did not improve from 0.15650\n",
      "Epoch 19/200\n",
      "252/252 [==============================] - 2s 8ms/step - loss: 0.1470 - accuracy: 0.9508 - val_loss: 0.1790 - val_accuracy: 0.9397\n",
      "\n",
      "Epoch 00019: val_loss did not improve from 0.15650\n",
      "Epoch 20/200\n",
      "252/252 [==============================] - 2s 8ms/step - loss: 0.1524 - accuracy: 0.9511 - val_loss: 0.1932 - val_accuracy: 0.9375\n",
      "\n",
      "Epoch 00020: val_loss did not improve from 0.15650\n",
      "Epoch 21/200\n",
      "252/252 [==============================] - 2s 9ms/step - loss: 0.1494 - accuracy: 0.9518 - val_loss: 0.1771 - val_accuracy: 0.9375\n",
      "\n",
      "Epoch 00021: val_loss did not improve from 0.15650\n",
      "Epoch 22/200\n",
      "252/252 [==============================] - 2s 8ms/step - loss: 0.1640 - accuracy: 0.9476 - val_loss: 0.1502 - val_accuracy: 0.9621\n",
      "\n",
      "Epoch 00022: val_loss improved from 0.15650 to 0.15017, saving model to saved_models\\FinalModelV1\n"
     ]
    },
    {
     "name": "stderr",
     "output_type": "stream",
     "text": [
      "WARNING:absl:Function `_wrapped_model` contains input name(s) Input-Layer with unsupported characters which will be renamed to input_layer in the SavedModel.\n"
     ]
    },
    {
     "name": "stdout",
     "output_type": "stream",
     "text": [
      "INFO:tensorflow:Assets written to: saved_models\\FinalModelV1\\assets\n"
     ]
    },
    {
     "name": "stderr",
     "output_type": "stream",
     "text": [
      "INFO:tensorflow:Assets written to: saved_models\\FinalModelV1\\assets\n"
     ]
    },
    {
     "name": "stdout",
     "output_type": "stream",
     "text": [
      "Epoch 23/200\n",
      "252/252 [==============================] - 2s 9ms/step - loss: 0.1315 - accuracy: 0.9588 - val_loss: 0.1644 - val_accuracy: 0.9464\n",
      "\n",
      "Epoch 00023: val_loss did not improve from 0.15017\n",
      "Epoch 24/200\n",
      "252/252 [==============================] - 2s 9ms/step - loss: 0.1405 - accuracy: 0.9516 - val_loss: 0.1742 - val_accuracy: 0.9598\n",
      "\n",
      "Epoch 00024: val_loss did not improve from 0.15017\n",
      "Epoch 25/200\n",
      "252/252 [==============================] - 2s 8ms/step - loss: 0.1423 - accuracy: 0.9545 - val_loss: 0.1839 - val_accuracy: 0.9554\n",
      "\n",
      "Epoch 00025: val_loss did not improve from 0.15017\n",
      "Epoch 26/200\n",
      "252/252 [==============================] - 2s 9ms/step - loss: 0.1494 - accuracy: 0.9501 - val_loss: 0.1565 - val_accuracy: 0.9531\n",
      "\n",
      "Epoch 00026: val_loss did not improve from 0.15017\n",
      "Epoch 27/200\n",
      "252/252 [==============================] - 2s 8ms/step - loss: 0.1381 - accuracy: 0.9580 - val_loss: 0.1331 - val_accuracy: 0.9643\n",
      "\n",
      "Epoch 00027: val_loss improved from 0.15017 to 0.13308, saving model to saved_models\\FinalModelV1\n"
     ]
    },
    {
     "name": "stderr",
     "output_type": "stream",
     "text": [
      "WARNING:absl:Function `_wrapped_model` contains input name(s) Input-Layer with unsupported characters which will be renamed to input_layer in the SavedModel.\n"
     ]
    },
    {
     "name": "stdout",
     "output_type": "stream",
     "text": [
      "INFO:tensorflow:Assets written to: saved_models\\FinalModelV1\\assets\n"
     ]
    },
    {
     "name": "stderr",
     "output_type": "stream",
     "text": [
      "INFO:tensorflow:Assets written to: saved_models\\FinalModelV1\\assets\n"
     ]
    },
    {
     "name": "stdout",
     "output_type": "stream",
     "text": [
      "Epoch 28/200\n",
      "252/252 [==============================] - 3s 10ms/step - loss: 0.1411 - accuracy: 0.9543 - val_loss: 0.1636 - val_accuracy: 0.9509\n",
      "\n",
      "Epoch 00028: val_loss did not improve from 0.13308\n",
      "Epoch 29/200\n",
      "252/252 [==============================] - 2s 8ms/step - loss: 0.1285 - accuracy: 0.9540 - val_loss: 0.1710 - val_accuracy: 0.9576\n",
      "\n",
      "Epoch 00029: val_loss did not improve from 0.13308\n",
      "Epoch 30/200\n",
      "252/252 [==============================] - 2s 8ms/step - loss: 0.1313 - accuracy: 0.9560 - val_loss: 0.1828 - val_accuracy: 0.9442\n",
      "\n",
      "Epoch 00030: val_loss did not improve from 0.13308\n",
      "Epoch 31/200\n",
      "252/252 [==============================] - 2s 9ms/step - loss: 0.1278 - accuracy: 0.9568 - val_loss: 0.1528 - val_accuracy: 0.9598\n",
      "\n",
      "Epoch 00031: val_loss did not improve from 0.13308\n",
      "Epoch 32/200\n",
      "252/252 [==============================] - 2s 9ms/step - loss: 0.1150 - accuracy: 0.9620 - val_loss: 0.1437 - val_accuracy: 0.9576\n",
      "\n",
      "Epoch 00032: val_loss did not improve from 0.13308\n",
      "Epoch 33/200\n",
      "252/252 [==============================] - 3s 11ms/step - loss: 0.1330 - accuracy: 0.9583 - val_loss: 0.1379 - val_accuracy: 0.9598\n",
      "\n",
      "Epoch 00033: val_loss did not improve from 0.13308\n",
      "Epoch 34/200\n",
      "252/252 [==============================] - 2s 10ms/step - loss: 0.1143 - accuracy: 0.9593 - val_loss: 0.1444 - val_accuracy: 0.9598\n",
      "\n",
      "Epoch 00034: val_loss did not improve from 0.13308\n",
      "Epoch 35/200\n",
      "252/252 [==============================] - 3s 12ms/step - loss: 0.1208 - accuracy: 0.9617 - val_loss: 0.1942 - val_accuracy: 0.9487\n",
      "\n",
      "Epoch 00035: val_loss did not improve from 0.13308\n",
      "\n",
      "Epoch 00035: ReduceLROnPlateau reducing learning rate to 0.0003000000142492354.\n",
      "Epoch 36/200\n",
      "252/252 [==============================] - 3s 12ms/step - loss: 0.0878 - accuracy: 0.9712 - val_loss: 0.1381 - val_accuracy: 0.9643\n",
      "\n",
      "Epoch 00036: val_loss did not improve from 0.13308\n",
      "Epoch 37/200\n",
      "252/252 [==============================] - 3s 12ms/step - loss: 0.0874 - accuracy: 0.9712 - val_loss: 0.1345 - val_accuracy: 0.9665\n",
      "\n",
      "Epoch 00037: val_loss did not improve from 0.13308\n",
      "Epoch 38/200\n",
      "252/252 [==============================] - 2s 9ms/step - loss: 0.0852 - accuracy: 0.9719 - val_loss: 0.1354 - val_accuracy: 0.9621\n",
      "\n",
      "Epoch 00038: val_loss did not improve from 0.13308\n",
      "Epoch 39/200\n",
      "252/252 [==============================] - 2s 9ms/step - loss: 0.0687 - accuracy: 0.9779 - val_loss: 0.1297 - val_accuracy: 0.9665\n",
      "\n",
      "Epoch 00039: val_loss improved from 0.13308 to 0.12970, saving model to saved_models\\FinalModelV1\n"
     ]
    },
    {
     "name": "stderr",
     "output_type": "stream",
     "text": [
      "WARNING:absl:Function `_wrapped_model` contains input name(s) Input-Layer with unsupported characters which will be renamed to input_layer in the SavedModel.\n"
     ]
    },
    {
     "name": "stdout",
     "output_type": "stream",
     "text": [
      "INFO:tensorflow:Assets written to: saved_models\\FinalModelV1\\assets\n"
     ]
    },
    {
     "name": "stderr",
     "output_type": "stream",
     "text": [
      "INFO:tensorflow:Assets written to: saved_models\\FinalModelV1\\assets\n"
     ]
    },
    {
     "name": "stdout",
     "output_type": "stream",
     "text": [
      "Epoch 40/200\n",
      "252/252 [==============================] - 3s 12ms/step - loss: 0.0691 - accuracy: 0.9752 - val_loss: 0.1344 - val_accuracy: 0.9732\n",
      "\n",
      "Epoch 00040: val_loss did not improve from 0.12970\n",
      "Epoch 41/200\n",
      "252/252 [==============================] - 3s 12ms/step - loss: 0.0741 - accuracy: 0.9779 - val_loss: 0.1427 - val_accuracy: 0.9643\n",
      "\n",
      "Epoch 00041: val_loss did not improve from 0.12970\n",
      "Epoch 42/200\n",
      "252/252 [==============================] - 3s 10ms/step - loss: 0.0699 - accuracy: 0.9779 - val_loss: 0.1477 - val_accuracy: 0.9665\n",
      "\n",
      "Epoch 00042: val_loss did not improve from 0.12970\n",
      "Epoch 43/200\n",
      "252/252 [==============================] - 2s 9ms/step - loss: 0.0651 - accuracy: 0.9816 - val_loss: 0.1343 - val_accuracy: 0.9665\n",
      "\n",
      "Epoch 00043: val_loss did not improve from 0.12970\n",
      "Epoch 44/200\n",
      "252/252 [==============================] - 2s 8ms/step - loss: 0.0697 - accuracy: 0.9764 - val_loss: 0.1544 - val_accuracy: 0.9732\n",
      "\n",
      "Epoch 00044: val_loss did not improve from 0.12970\n",
      "Epoch 45/200\n",
      "252/252 [==============================] - 2s 9ms/step - loss: 0.0709 - accuracy: 0.9801 - val_loss: 0.1516 - val_accuracy: 0.9643\n",
      "\n",
      "Epoch 00045: val_loss did not improve from 0.12970\n",
      "Epoch 46/200\n",
      "252/252 [==============================] - 2s 8ms/step - loss: 0.0529 - accuracy: 0.9826 - val_loss: 0.1637 - val_accuracy: 0.9598\n",
      "\n",
      "Epoch 00046: val_loss did not improve from 0.12970\n",
      "Epoch 47/200\n",
      "252/252 [==============================] - 2s 8ms/step - loss: 0.0607 - accuracy: 0.9819 - val_loss: 0.1581 - val_accuracy: 0.9732\n",
      "\n",
      "Epoch 00047: val_loss did not improve from 0.12970\n",
      "\n",
      "Epoch 00047: ReduceLROnPlateau reducing learning rate to 9.000000427477062e-05.\n",
      "Epoch 48/200\n",
      "252/252 [==============================] - 2s 9ms/step - loss: 0.0545 - accuracy: 0.9821 - val_loss: 0.1414 - val_accuracy: 0.9732\n",
      "\n",
      "Epoch 00048: val_loss did not improve from 0.12970\n",
      "Epoch 49/200\n",
      "252/252 [==============================] - 3s 11ms/step - loss: 0.0475 - accuracy: 0.9841 - val_loss: 0.1614 - val_accuracy: 0.9710\n",
      "\n",
      "Epoch 00049: val_loss did not improve from 0.12970\n",
      "Epoch 50/200\n",
      "252/252 [==============================] - 2s 10ms/step - loss: 0.0541 - accuracy: 0.9821 - val_loss: 0.1461 - val_accuracy: 0.9732\n",
      "\n",
      "Epoch 00050: val_loss did not improve from 0.12970\n",
      "Epoch 51/200\n",
      "252/252 [==============================] - 2s 9ms/step - loss: 0.0536 - accuracy: 0.9821 - val_loss: 0.1401 - val_accuracy: 0.9754\n",
      "\n",
      "Epoch 00051: val_loss did not improve from 0.12970\n",
      "Epoch 52/200\n",
      "252/252 [==============================] - 2s 10ms/step - loss: 0.0500 - accuracy: 0.9843 - val_loss: 0.1594 - val_accuracy: 0.9754\n",
      "\n",
      "Epoch 00052: val_loss did not improve from 0.12970\n",
      "Epoch 53/200\n",
      "252/252 [==============================] - 3s 11ms/step - loss: 0.0469 - accuracy: 0.9836 - val_loss: 0.1479 - val_accuracy: 0.9710\n",
      "\n",
      "Epoch 00053: val_loss did not improve from 0.12970\n",
      "Epoch 54/200\n",
      "252/252 [==============================] - 3s 10ms/step - loss: 0.0458 - accuracy: 0.9863 - val_loss: 0.1508 - val_accuracy: 0.9688\n",
      "\n",
      "Epoch 00054: val_loss did not improve from 0.12970\n",
      "Epoch 55/200\n",
      "252/252 [==============================] - 2s 10ms/step - loss: 0.0552 - accuracy: 0.9829 - val_loss: 0.1464 - val_accuracy: 0.9710\n",
      "\n",
      "Epoch 00055: val_loss did not improve from 0.12970\n",
      "\n",
      "Epoch 00055: ReduceLROnPlateau reducing learning rate to 2.700000040931627e-05.\n",
      "Epoch 56/200\n",
      "252/252 [==============================] - 2s 10ms/step - loss: 0.0440 - accuracy: 0.9851 - val_loss: 0.1439 - val_accuracy: 0.9732\n",
      "\n",
      "Epoch 00056: val_loss did not improve from 0.12970\n",
      "Epoch 57/200\n",
      "252/252 [==============================] - 2s 9ms/step - loss: 0.0435 - accuracy: 0.9873 - val_loss: 0.1421 - val_accuracy: 0.9710\n",
      "\n",
      "Epoch 00057: val_loss did not improve from 0.12970\n",
      "Epoch 58/200\n",
      "252/252 [==============================] - 2s 8ms/step - loss: 0.0458 - accuracy: 0.9866 - val_loss: 0.1397 - val_accuracy: 0.9710\n",
      "\n",
      "Epoch 00058: val_loss did not improve from 0.12970\n",
      "Epoch 59/200\n",
      "252/252 [==============================] - 2s 8ms/step - loss: 0.0406 - accuracy: 0.9883 - val_loss: 0.1412 - val_accuracy: 0.9710\n",
      "\n",
      "Epoch 00059: val_loss did not improve from 0.12970\n",
      "Epoch 00059: early stopping\n"
     ]
    }
   ],
   "source": [
    "model.train(X_train, y_train, X_val, y_val, epochs=200, batch_size=16, stop_early=True)"
   ]
  },
  {
   "cell_type": "code",
   "execution_count": 12,
   "metadata": {},
   "outputs": [
    {
     "data": {
      "image/png": "[encoded data removed]",
      "text/plain": [
       "<Figure size 432x288 with 1 Axes>"
      ]
     },
     "metadata": {
      "needs_background": "light"
     },
     "output_type": "display_data"
    },
    {
     "data": {
      "image/png": "[encoded data removed]",
      "text/plain": [
       "<Figure size 432x288 with 1 Axes>"
      ]
     },
     "metadata": {
      "needs_background": "light"
     },
     "output_type": "display_data"
    }
   ],
   "source": [
    "model.plot_training_history()\n",
    "model.save()"
   ]
  },
  {
   "cell_type": "markdown",
   "metadata": {},
   "source": [
    "### Evaluate performance on testing data"
   ]
  },
  {
   "cell_type": "code",
   "execution_count": 13,
   "metadata": {},
   "outputs": [],
   "source": [
    "# Once saved, the model can be loaded from storage and used to make predictions\n",
    "#model.load()\n",
    "loaded_model = deepl_model.DLModel(\"FinalModelV1\")\n"
   ]
  },
  {
   "cell_type": "code",
   "execution_count": 14,
   "metadata": {},
   "outputs": [],
   "source": [
    "loaded_model.load(\"saved_models/FinalModelV1.h5\")"
   ]
  },
  {
   "cell_type": "code",
   "execution_count": 15,
   "metadata": {},
   "outputs": [
    {
     "name": "stdout",
     "output_type": "stream",
     "text": [
      "Model: \"model\"\n",
      "_________________________________________________________________\n",
      "Layer (type)                 Output Shape              Param #   \n",
      "=================================================================\n",
      "Input-Layer (InputLayer)     [(None, 200, 6, 1)]       0         \n",
      "_________________________________________________________________\n",
      "flatten (Flatten)            (None, 1200)              0         \n",
      "_________________________________________________________________\n",
      "dense (Dense)                (None, 512)               614912    \n",
      "_________________________________________________________________\n",
      "dropout (Dropout)            (None, 512)               0         \n",
      "_________________________________________________________________\n",
      "dense_1 (Dense)              (None, 512)               262656    \n",
      "_________________________________________________________________\n",
      "dropout_1 (Dropout)          (None, 512)               0         \n",
      "_________________________________________________________________\n",
      "dense_2 (Dense)              (None, 64)                32832     \n",
      "_________________________________________________________________\n",
      "dropout_2 (Dropout)          (None, 64)                0         \n",
      "_________________________________________________________________\n",
      "Output-Layer (Dense)         (None, 4)                 260       \n",
      "=================================================================\n",
      "Total params: 910,660\n",
      "Trainable params: 910,660\n",
      "Non-trainable params: 0\n",
      "_________________________________________________________________\n",
      "None\n"
     ]
    }
   ],
   "source": [
    "print(loaded_model.model.summary())"
   ]
  },
  {
   "cell_type": "code",
   "execution_count": 16,
   "metadata": {},
   "outputs": [
    {
     "name": "stdout",
     "output_type": "stream",
     "text": [
      "497/497 [==============================] - 3s 5ms/step - loss: 0.1168 - accuracy: 0.9738\n"
     ]
    },
    {
     "data": {
      "text/plain": [
       "[0.11680727452039719, 0.9738430380821228]"
      ]
     },
     "execution_count": 16,
     "metadata": {},
     "output_type": "execute_result"
    }
   ],
   "source": [
    "loaded_model.evaluate(X_test, y_test, batch_size=1)"
   ]
  },
  {
   "cell_type": "code",
   "execution_count": 17,
   "metadata": {},
   "outputs": [],
   "source": [
    "preds = loaded_model.predict_test(X_test)"
   ]
  },
  {
   "cell_type": "code",
   "execution_count": 18,
   "metadata": {},
   "outputs": [],
   "source": [
    "\n",
    "# Confusion matrix for actual and predicted values.\n",
    "matrix = confusion_matrix(y_test.argmax(axis=1),preds.argmax(axis=1))"
   ]
  },
  {
   "cell_type": "code",
   "execution_count": 19,
   "metadata": {},
   "outputs": [
    {
     "data": {
      "image/png": "[encoded data removed]",
      "text/plain": [
       "<Figure size 576x504 with 2 Axes>"
      ]
     },
     "metadata": {
      "needs_background": "light"
     },
     "output_type": "display_data"
    }
   ],
   "source": [
    "plt.figure(figsize=(8, 7))\n",
    "labels = ['andar', 'bicicleta', 'correr', 'repouso']\n",
    "ax = sns.heatmap(matrix, annot=True, fmt=\"g\", xticklabels=labels, yticklabels=labels, cmap='Greens')\n",
    "plt.xlabel(\"Predicted\")\n",
    "plt.ylabel(\"Ground Truth\")\n",
    "plt.show()"
   ]
  }
 ],
 "metadata": {
  "interpreter": {
   "hash": "ca2864e06efd05cb3ea7c56dc44f235c3621b5bb7c6ad3cd0b10871882970336"
  },
  "kernelspec": {
   "display_name": "Python 3.9.12 ('deeplearning_v2')",
   "language": "python",
   "name": "python3"
  },
  "language_info": {
   "codemirror_mode": {
    "name": "ipython",
    "version": 3
   },
   "file_extension": ".py",
   "mimetype": "text/x-python",
   "name": "python",
   "nbconvert_exporter": "python",
   "pygments_lexer": "ipython3",
   "version": "3.9.12"
  },
  "orig_nbformat": 4
 },
 "nbformat": 4,
 "nbformat_minor": 2
}
